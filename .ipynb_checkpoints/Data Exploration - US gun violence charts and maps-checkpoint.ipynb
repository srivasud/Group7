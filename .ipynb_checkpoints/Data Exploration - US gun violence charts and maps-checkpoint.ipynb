{
 "cells": [
  {
   "cell_type": "code",
   "execution_count": 1,
   "metadata": {},
   "outputs": [
    {
     "name": "stdout",
     "output_type": "stream",
     "text": [
      "Populating the interactive namespace from numpy and matplotlib\n"
     ]
    }
   ],
   "source": [
    "%pylab inline\n",
    "import pandas as pd\n",
    "import altair as alt\n",
    "import re\n",
    "from IPython.display import Image"
   ]
  },
  {
   "cell_type": "markdown",
   "metadata": {},
   "source": [
    "# Summary\n",
    "\n",
    "Note:  \n",
    "Data Quality (Excellent/Good/Bad)  \n",
    "Up-to Date: Yes (Available until 2019) / No (Unavailable until 2019)\n",
    "\n",
    "| Chart Number  | Data Access   |Up-to Date    |Data Quality  |Comments      |\n",
    "| ------------- | ------------- |--------------|--------------|--------------|\n",
    "| Chart-1        | Yes           |No            |Excellent     |Data Available up to 2017|\n",
    "| Chart-2        | Yes           |No            |Excellent     |Data Available up to 2017|\n",
    "| Chart-3        | ------------- |--------------|--------------|--------------|\n",
    "| Chart-4        | ------------- |--------------|--------------|--------------|\n",
    "| Chart-5        | ------------- |--------------|--------------|--------------|\n",
    "| Chart-6        | ------------- |--------------|--------------|--------------|\n",
    "| Chart-7        | ------------- |--------------|--------------|--------------|\n",
    "| Chart-8        | ------------- |--------------|--------------|--------------|\n",
    "| Chart-9        | Yes           |No            |Excellent          |Data Available until 2017|\n",
    "| Chart-10       | Yes           |No            |Excellent          |Data Available until 2017|\n",
    "| Chart-11       | ------------- |--------------|--------------|--------------|\n",
    "| Chart-12       | ------------- |--------------|--------------|--------------|\n",
    "| Chart-13       | ------------- |--------------|--------------|--------------|\n",
    "| Chart-14       | ------------- |--------------|--------------|--------------|\n",
    "| Chart-15       | ------------- |--------------|--------------|--------------|\n",
    "| Chart-16       | ------------- |--------------|--------------|--------------|\n",
    "\n",
    "In the below sections we will explain where (the data access/source), what (description) and how (cleansing process for the above charts) the data for the above chart is prepared. Each chart (or group of charts) will have heading section followed by where,how and what about the data.\n"
   ]
  },
  {
   "cell_type": "markdown",
   "metadata": {},
   "source": [
    "## Chart-1"
   ]
  },
  {
   "cell_type": "markdown",
   "metadata": {},
   "source": [
    "For the __Chart 1__ and __Chart 2__, we obtained the data from this [Guardian article.](https://www.theguardian.com/news/datablog/2012/jul/22/gun-homicides-ownership-world-list#data). The data had to be manually downloaded as a .csv and read into the notebook. \n",
    "\n",
    "Get data here: https://docs.google.com/spreadsheets/d/1chqUZHuY6cXYrRYkuE0uwXisGaYvr7durZHJhpLGycs/edit#gid=0"
   ]
  },
  {
   "cell_type": "markdown",
   "metadata": {},
   "source": [
    "#### Read in the file"
   ]
  },
  {
   "cell_type": "code",
   "execution_count": 2,
   "metadata": {},
   "outputs": [],
   "source": [
    "df = pd.read_csv(\"data/guardian.csv\", index_col = False)"
   ]
  },
  {
   "cell_type": "markdown",
   "metadata": {},
   "source": [
    "It looks like there is a column measuring homicide by firearm rate per 100 thousand population. To recreate the Vox visualization, we will have to create a new column 'fire_hom_m' that measures the homicide by firearm rate per 1 mil population."
   ]
  },
  {
   "cell_type": "code",
   "execution_count": 3,
   "metadata": {},
   "outputs": [],
   "source": [
    "df['fire_hom_m'] = df['Homicide by firearm rate per 100,000 pop'] * 10\n",
    "\n",
    "df2 = df.dropna().reset_index(drop = True)"
   ]
  },
  {
   "cell_type": "markdown",
   "metadata": {},
   "source": [
    "Next, we will declare a list of only coutries we want to visualize. Looks like the Vox chart only has a selected list of developed countries."
   ]
  },
  {
   "cell_type": "code",
   "execution_count": 4,
   "metadata": {},
   "outputs": [],
   "source": [
    "# List of selected developed countries\n",
    "ls = ['Australia', 'New Zealand', 'Germany', 'Austria', 'Denmark',\\\n",
    "     'Netherlands', 'Sweden', 'Finland', 'Ireland', 'Canada', 'Luxembourg', 'Belgium',\\\n",
    "     'Switzerland', 'United States']\n",
    "\n",
    "# We sort the table by fire_hom_m values in ascending order. We leave the index unchanged in case we want the original order.\n",
    "adv = df2[df2['Country/Territory'].isin(ls)].reset_index(drop = True)\n",
    "adv = adv.sort_values(by = 'fire_hom_m')"
   ]
  },
  {
   "cell_type": "markdown",
   "metadata": {},
   "source": [
    "The dataframe is now ready to use for visualizing __Chart 1__"
   ]
  },
  {
   "cell_type": "markdown",
   "metadata": {},
   "source": [
    "We can replicate this chart by using Altair's Isotype Visualization, as outlined here: https://altair-viz.github.io/gallery/isotype.html"
   ]
  },
  {
   "cell_type": "markdown",
   "metadata": {},
   "source": [
    "## Chart-2"
   ]
  },
  {
   "cell_type": "markdown",
   "metadata": {},
   "source": [
    "For __Chart(s) 2__, we will have to calculate proportions of two things:\n",
    "1. The proportion of _US population_ to the global population, and,\n",
    "2. The proportion of _US civilian gun ownership_ to global civilian gun ownership"
   ]
  },
  {
   "cell_type": "markdown",
   "metadata": {},
   "source": [
    "Based on the information already in hand, it seems we already have data to address (2) using the 'Average total all civilian firearms' field."
   ]
  },
  {
   "cell_type": "code",
   "execution_count": 8,
   "metadata": {},
   "outputs": [
    {
     "name": "stdout",
     "output_type": "stream",
     "text": [
      "Americans own 41.9% of the world's guns.\n"
     ]
    }
   ],
   "source": [
    "# Calculates the proportion of US gun ownership to the global gun ownership rate.\n",
    "us_guns_prop = df[df['ISO code'] == 'US'].iloc[:,-2].sum() / df.iloc[:,-2].sum()\n",
    "print('Americans own ' + str(round(us_guns_prop, 3) * 100) + '% of the world\\'s guns.')"
   ]
  },
  {
   "cell_type": "markdown",
   "metadata": {},
   "source": [
    "This result is consistent with the percentage presented by Vox in the RHS chart.\n",
    "\n",
    "To recreate the LHS chart, we have to be slightly crafty and utilize some assumptions. Witness the strength of street knowledge:\n",
    "\n",
    "- We can safely assume that the world population today is somewhere around 7 billion people, while the current US population is about 320 million people.\n",
    "\n",
    "We'll have to validate this using some [World Bank data](https://data.worldbank.org/indicator/sp.pop.totl) (by way of Wikipedia). This dataset is up to date as of 2017.\n",
    "\n",
    "__Note: the .csv file needs to be manipulated in a text editor to remove the first 4 lines of header. pd.read.csv will throw an error if these lines are not removed.__"
   ]
  },
  {
   "cell_type": "code",
   "execution_count": 9,
   "metadata": {},
   "outputs": [],
   "source": [
    "bank = pd.read_csv('data/world_bank_pop_2017.csv', index_col = False, encoding = 'latin1')"
   ]
  },
  {
   "cell_type": "code",
   "execution_count": 25,
   "metadata": {},
   "outputs": [],
   "source": [
    "def pop_prop(country, year):\n",
    "    \n",
    "    if year < 1960:\n",
    "        print('Please enter 1960 or later.')\n",
    "    elif year > 2017:\n",
    "        print('Please enter 2017 or earlier.')\n",
    "    else:\n",
    "        # List of regex filters we don't want to be part of our global population calculation\n",
    "        filt = '.*&.*|.*Income.*|.*North America.*|.*Asia.*|.*Europe.*|.*dividend.*|.*area.*|.*conflict.*|.*indebted.*|.*only.*|.*IDA.*|.*classified.*|.*developed.*|.*income.*|.*World.*|.*Sub-Saharan.*|.*states.*|.*members.*'\n",
    "\n",
    "        # Calculates the global pop. and US pop. separetely, then prints the proportion as a string\n",
    "        total_pop = bank[((bank['Country Name'].str.match(filt) - 1) * -1).astype('bool')][str(year)].sum()\n",
    "        us_pop = bank[bank['Country Name'] == country][str(year)].sum()\n",
    "\n",
    "        print(country + ' makes up ' + str(round(us_pop / total_pop, 4) * 100) + '% of the world population.')"
   ]
  },
  {
   "cell_type": "code",
   "execution_count": 26,
   "metadata": {},
   "outputs": [
    {
     "name": "stdout",
     "output_type": "stream",
     "text": [
      "United States makes up 4.33% of the world population.\n"
     ]
    }
   ],
   "source": [
    "pop_prop('United States', 2017)"
   ]
  },
  {
   "cell_type": "markdown",
   "metadata": {},
   "source": [
    "It seems our calculations are overestimating the total world population, but we're within 10 basis points of Vox's calculations, so it's fine."
   ]
  },
  {
   "cell_type": "markdown",
   "metadata": {},
   "source": [
    "Again, we will use Altair's Isotype Grid Visualization outlined here: https://altair-viz.github.io/gallery/isotype_grid.html"
   ]
  },
  {
   "cell_type": "markdown",
   "metadata": {},
   "source": [
    "## Chart-3"
   ]
  },
  {
   "cell_type": "markdown",
   "metadata": {},
   "source": []
  },
  {
   "cell_type": "code",
   "execution_count": null,
   "metadata": {},
   "outputs": [],
   "source": []
  },
  {
   "cell_type": "markdown",
   "metadata": {},
   "source": [
    "## Chart-4"
   ]
  },
  {
   "cell_type": "markdown",
   "metadata": {},
   "source": []
  },
  {
   "cell_type": "code",
   "execution_count": null,
   "metadata": {},
   "outputs": [],
   "source": []
  },
  {
   "cell_type": "markdown",
   "metadata": {},
   "source": [
    "## Chart-5"
   ]
  },
  {
   "cell_type": "markdown",
   "metadata": {},
   "source": []
  },
  {
   "cell_type": "code",
   "execution_count": null,
   "metadata": {},
   "outputs": [],
   "source": []
  },
  {
   "cell_type": "markdown",
   "metadata": {},
   "source": [
    "## Chart-6"
   ]
  },
  {
   "cell_type": "markdown",
   "metadata": {},
   "source": []
  },
  {
   "cell_type": "code",
   "execution_count": null,
   "metadata": {},
   "outputs": [],
   "source": []
  },
  {
   "cell_type": "markdown",
   "metadata": {},
   "source": [
    "## Chart-7"
   ]
  },
  {
   "cell_type": "markdown",
   "metadata": {},
   "source": []
  },
  {
   "cell_type": "code",
   "execution_count": null,
   "metadata": {},
   "outputs": [],
   "source": []
  },
  {
   "cell_type": "markdown",
   "metadata": {},
   "source": [
    "## Chart-8"
   ]
  },
  {
   "cell_type": "markdown",
   "metadata": {},
   "source": []
  },
  {
   "cell_type": "code",
   "execution_count": null,
   "metadata": {},
   "outputs": [],
   "source": []
  },
  {
   "cell_type": "markdown",
   "metadata": {},
   "source": [
    "## Chart-9 - Still, gun homicides (like all homicides) have declined over the past couple decades.\n",
    "## Chart-10 - Most gun deaths are suicides."
   ]
  },
  {
   "cell_type": "markdown",
   "metadata": {},
   "source": [
    "For **Chart#9** and **Chart#10** the data source is same. Fetching and cleaning process are same. Hence they are clubbed together.\n",
    "\n",
    "+ Data Source          :https://webappa.cdc.gov/sasweb/ncipc/mortrate.html\n",
    "+ Fetching Process     :Manual\n",
    "+ Need Cleaning        :Yes\n",
    "\n",
    "**Fetching Process**\n",
    "The data is downloaded from https://webappa.cdc.gov/sasweb/ncipc/mortrate.html.\n",
    "For **Chart#9** we need to collect data in two attempts. One for year range 1999 to 2017 and 1981 to 1998\n",
    "and for **Chart#10** we can run the query one year 1999 to 2017. We repeat the steps below for every year range or 'Intent or Manner of injury' either as Homicide or Suicide.\n",
    "\n",
    "1. In the above website given , choose the first option in year range as '1999 to 2017 (ICD-10), National and Regional' and choose Intent or Manner of injury as 'Homicide' as shown in [Picture-1](https://github.com/srivasud/Group7/blob/master/images/Q9-10-CDCImage-1.png)\n",
    "2. Choose 'Cause or mechanism of the injury' as 'Firearm' as shown in [Picture-2](https://github.com/srivasud/Group7/blob/master/images/Q9-10-CDCImage-2.png)\n",
    "3. Choose select 'Specific Options' as shown in [Picture-3](https://github.com/srivasud/Group7/blob/master/images/Q9-10-CDCImage-3.png)   \n",
    "4. Choose 'Advanced Options' as shown in [Picture-4](https://github.com/srivasud/Group7/blob/master/images/Q9-10-CDCImage-4.png)\n",
    "5. Click submit request. The result will be shown as a html page. Scroll to the bottom to download it as csv.\n",
    "6. Repeat the same steps for Chart-9 for the period 1981 to 1998 and download seperate csv.\n",
    "7. For Chart-10, the Intent or Manner of injury as 'Suicide' and year range from 1999 to 2017.\n",
    "\n",
    "We downloaded and uploaded 3 csv files (FirearmHomicide-1981-1998.csv,FirearmHomicide-1999-2018.csv,Firearm-Suicides-1999-2018.csv) to [data](https://github.com/srivasud/Group7/tree/master/data) folder in this repository.\n",
    "\n",
    "We run the below program and clean the data a bit and concatenates and puts into a single data frame.\n",
    "The explanation of the data/data frame after cleaning and removing unwanted columns is given below. \n",
    "Our final data frame contains the data of 'Firearm' caused deaths in USA with the following columns.\n",
    "+ Cause_of_Death - Its the cause or intent of death reported by firearm. The possible values are 'Suicide' or 'Homicide'.\n",
    "+ Year - The year reporting the data.\n",
    "+ Deaths - Total deaths reported due to Firearm with an intent either as Homicide or Suicide.\n",
    "+ Population - Total population in USA for that reported Year.\n",
    "+ Crude_Rate - Crude rate calculated per 100,000 , Formula used is (Total Deaths/ Total Population)*100,000."
   ]
  },
  {
   "cell_type": "code",
   "execution_count": 2,
   "metadata": {},
   "outputs": [
    {
     "data": {
      "text/html": [
       "<div>\n",
       "<style scoped>\n",
       "    .dataframe tbody tr th:only-of-type {\n",
       "        vertical-align: middle;\n",
       "    }\n",
       "\n",
       "    .dataframe tbody tr th {\n",
       "        vertical-align: top;\n",
       "    }\n",
       "\n",
       "    .dataframe thead th {\n",
       "        text-align: right;\n",
       "    }\n",
       "</style>\n",
       "<table border=\"1\" class=\"dataframe\">\n",
       "  <thead>\n",
       "    <tr style=\"text-align: right;\">\n",
       "      <th></th>\n",
       "      <th>Cause_of_Death</th>\n",
       "      <th>Year</th>\n",
       "      <th>Deaths</th>\n",
       "      <th>Population</th>\n",
       "      <th>Crude_Rate</th>\n",
       "    </tr>\n",
       "  </thead>\n",
       "  <tbody>\n",
       "    <tr>\n",
       "      <th>22</th>\n",
       "      <td>Homicide</td>\n",
       "      <td>2003</td>\n",
       "      <td>11920</td>\n",
       "      <td>290107933</td>\n",
       "      <td>4.1</td>\n",
       "    </tr>\n",
       "    <tr>\n",
       "      <th>14</th>\n",
       "      <td>Homicide</td>\n",
       "      <td>1995</td>\n",
       "      <td>15551</td>\n",
       "      <td>266278403</td>\n",
       "      <td>5.8</td>\n",
       "    </tr>\n",
       "    <tr>\n",
       "      <th>2</th>\n",
       "      <td>Homicide</td>\n",
       "      <td>1983</td>\n",
       "      <td>12040</td>\n",
       "      <td>233792237</td>\n",
       "      <td>5.2</td>\n",
       "    </tr>\n",
       "    <tr>\n",
       "      <th>26</th>\n",
       "      <td>Homicide</td>\n",
       "      <td>2007</td>\n",
       "      <td>12632</td>\n",
       "      <td>301231207</td>\n",
       "      <td>4.2</td>\n",
       "    </tr>\n",
       "    <tr>\n",
       "      <th>17</th>\n",
       "      <td>Homicide</td>\n",
       "      <td>1998</td>\n",
       "      <td>11798</td>\n",
       "      <td>275854116</td>\n",
       "      <td>4.3</td>\n",
       "    </tr>\n",
       "    <tr>\n",
       "      <th>51</th>\n",
       "      <td>Suicide</td>\n",
       "      <td>2013</td>\n",
       "      <td>21175</td>\n",
       "      <td>316234505</td>\n",
       "      <td>6.7</td>\n",
       "    </tr>\n",
       "    <tr>\n",
       "      <th>28</th>\n",
       "      <td>Homicide</td>\n",
       "      <td>2009</td>\n",
       "      <td>11493</td>\n",
       "      <td>306771529</td>\n",
       "      <td>3.8</td>\n",
       "    </tr>\n",
       "    <tr>\n",
       "      <th>49</th>\n",
       "      <td>Suicide</td>\n",
       "      <td>2011</td>\n",
       "      <td>19990</td>\n",
       "      <td>311644280</td>\n",
       "      <td>6.4</td>\n",
       "    </tr>\n",
       "    <tr>\n",
       "      <th>55</th>\n",
       "      <td>Suicide</td>\n",
       "      <td>2017</td>\n",
       "      <td>23854</td>\n",
       "      <td>325719178</td>\n",
       "      <td>7.3</td>\n",
       "    </tr>\n",
       "    <tr>\n",
       "      <th>10</th>\n",
       "      <td>Homicide</td>\n",
       "      <td>1991</td>\n",
       "      <td>17746</td>\n",
       "      <td>252980942</td>\n",
       "      <td>7.0</td>\n",
       "    </tr>\n",
       "  </tbody>\n",
       "</table>\n",
       "</div>"
      ],
      "text/plain": [
       "   Cause_of_Death  Year  Deaths  Population  Crude_Rate\n",
       "22       Homicide  2003   11920   290107933         4.1\n",
       "14       Homicide  1995   15551   266278403         5.8\n",
       "2        Homicide  1983   12040   233792237         5.2\n",
       "26       Homicide  2007   12632   301231207         4.2\n",
       "17       Homicide  1998   11798   275854116         4.3\n",
       "51        Suicide  2013   21175   316234505         6.7\n",
       "28       Homicide  2009   11493   306771529         3.8\n",
       "49        Suicide  2011   19990   311644280         6.4\n",
       "55        Suicide  2017   23854   325719178         7.3\n",
       "10       Homicide  1991   17746   252980942         7.0"
      ]
     },
     "execution_count": 2,
     "metadata": {},
     "output_type": "execute_result"
    }
   ],
   "source": [
    "# Data Reading and Cleaning\n",
    "# FirearmHomicide-1981-1998.csv - Homicides by Firearm between 1981 to 1998\n",
    "# FirearmHomicide-1999-2018.csv - Homicides by Firearm between 1999 to 2017\n",
    "# Firearm-Suicides-1999-2018.csv - Suicides by Firearm between 1999 to 2017\n",
    "\n",
    "# Read Firearm homicide csv from 1981 to 1998 from GIT\n",
    "fire_arm_1 = pd.read_csv(\"https://raw.githubusercontent.com/srivasud/Group7/master/data/FirearmHomicide-1981-1998.csv\") \n",
    "\n",
    "# Remove the last row which is the summation row\n",
    "fire_arm_1=fire_arm_1[:-1] \n",
    "\n",
    "# Read Firearm homicide csv from 1999 to 2017 from GIT\n",
    "fire_arm_2 = pd.read_csv(\"https://raw.githubusercontent.com/srivasud/Group7/master/data/FirearmHomicide-1999-2018.csv\") \n",
    "# Remove the last row which is the summation row\n",
    "fire_arm_2=fire_arm_2[:-1] \n",
    "\n",
    "# Dropped the not needed column 'Age-Adjusted Rate'\n",
    "fire_arm_2.drop('Age-Adjusted Rate', axis=1, inplace=True)\n",
    "\n",
    "\n",
    "# Read Firearm suicide data from 1999 to 2017 from GIT\n",
    "firearm_suicide_2=pd.read_csv('https://raw.githubusercontent.com/srivasud/Group7/master/data/Firearm-Suicides-1999-2018.csv')\n",
    "# Remove the last row which is the summation row\n",
    "firearm_suicide_2=firearm_suicide_2[:-1]\n",
    "# Dropped the not needed column 'Age-Adjusted Rate'\n",
    "firearm_suicide_2.drop('Age-Adjusted Rate', axis=1, inplace=True)\n",
    "\n",
    "# Concat all the dataframes into one\n",
    "fa_homicide_suicide=pd.concat([fire_arm_1,fire_arm_2,firearm_suicide_2])\n",
    "\n",
    "# Convert the Year column into Integer data type.\n",
    "fa_homicide_suicide['Year']=fa_homicide_suicide['Year'].values.astype(np.int)\n",
    "\n",
    "fa_homicide_suicide.reset_index(inplace=True)\n",
    "\n",
    "# Drop unwanted columns such as index,sex,race,state,ethnicity,Age group, first year, last year\n",
    "fa_homicide_suicide.drop(['index','Sex','Race','State','Ethnicity','Age Group','First Year','Last Year'],axis=1,inplace=True)\n",
    "\n",
    "# Round the Crude Rate to 1 decimal point\n",
    "fa_homicide_suicide['Crude Rate']=fa_homicide_suicide['Crude Rate'].round(1)\n",
    "\n",
    "# Rename the columns without spaces between parts of the column names.\n",
    "cols=['Cause_of_Death','Year','Deaths','Population','Crude_Rate']\n",
    "fa_homicide_suicide.columns=cols\n",
    "fa_homicide_suicide['Cause_of_Death'] = fa_homicide_suicide['Cause_of_Death'].map({'Homicide Firearm':'Homicide', 'Suicide Firearm': 'Suicide'})\n",
    "fa_homicide_suicide.sample(10)"
   ]
  },
  {
   "cell_type": "markdown",
   "metadata": {},
   "source": [
    "## The states with the most guns report the most suicides"
   ]
  },
  {
   "cell_type": "markdown",
   "metadata": {},
   "source": []
  },
  {
   "cell_type": "code",
   "execution_count": null,
   "metadata": {},
   "outputs": [],
   "source": []
  },
  {
   "cell_type": "markdown",
   "metadata": {},
   "source": [
    "## Chart-12"
   ]
  },
  {
   "cell_type": "markdown",
   "metadata": {},
   "source": []
  },
  {
   "cell_type": "code",
   "execution_count": null,
   "metadata": {},
   "outputs": [],
   "source": []
  },
  {
   "cell_type": "markdown",
   "metadata": {},
   "source": [
    "## Chart-13"
   ]
  },
  {
   "cell_type": "markdown",
   "metadata": {},
   "source": []
  },
  {
   "cell_type": "code",
   "execution_count": null,
   "metadata": {},
   "outputs": [],
   "source": []
  },
  {
   "cell_type": "markdown",
   "metadata": {},
   "source": [
    "## Chart-14"
   ]
  },
  {
   "cell_type": "markdown",
   "metadata": {},
   "source": []
  },
  {
   "cell_type": "code",
   "execution_count": null,
   "metadata": {},
   "outputs": [],
   "source": []
  },
  {
   "cell_type": "markdown",
   "metadata": {},
   "source": [
    "## Chart-15"
   ]
  },
  {
   "cell_type": "markdown",
   "metadata": {},
   "source": []
  },
  {
   "cell_type": "code",
   "execution_count": null,
   "metadata": {},
   "outputs": [],
   "source": []
  },
  {
   "cell_type": "markdown",
   "metadata": {},
   "source": [
    "## Chart-16"
   ]
  },
  {
   "cell_type": "markdown",
   "metadata": {},
   "source": []
  },
  {
   "cell_type": "code",
   "execution_count": null,
   "metadata": {},
   "outputs": [],
   "source": []
  }
 ],
 "metadata": {
  "kernelspec": {
   "display_name": "Python 3",
   "language": "python",
   "name": "python3"
  },
  "language_info": {
   "codemirror_mode": {
    "name": "ipython",
    "version": 3
   },
   "file_extension": ".py",
   "mimetype": "text/x-python",
   "name": "python",
   "nbconvert_exporter": "python",
   "pygments_lexer": "ipython3",
   "version": "3.7.3"
  },
  "toc": {
   "base_numbering": 1,
   "nav_menu": {},
   "number_sections": true,
   "sideBar": true,
   "skip_h1_title": false,
   "title_cell": "Table of Contents",
   "title_sidebar": "Contents",
   "toc_cell": false,
   "toc_position": {},
   "toc_section_display": true,
   "toc_window_display": false
  }
 },
 "nbformat": 4,
 "nbformat_minor": 2
}
