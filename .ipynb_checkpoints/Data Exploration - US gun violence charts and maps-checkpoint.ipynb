{
 "cells": [
  {
   "cell_type": "code",
   "execution_count": 1,
   "metadata": {},
   "outputs": [],
   "source": [
    "import pandas as pd \n",
    "import numpy as np"
   ]
  },
  {
   "cell_type": "markdown",
   "metadata": {},
   "source": [
    "# Summary\n",
    "\n",
    "Note:  \n",
    "Data Quality (Excellent/Good/Bad)  \n",
    "Up-to Date: Yes (Available until 2019) / No (Unavailable until 2019)\n",
    "\n",
    "| Chart Number  | Data Access   |Up-to Date    |Data Quality  |Comments      |\n",
    "| ------------- | ------------- |--------------|--------------|--------------|\n",
    "| Chart-1        | ------------- |--------------|--------------|--------------|\n",
    "| Chart-2        | ------------- |--------------|--------------|--------------|\n",
    "| Chart-3        | ------------- |--------------|--------------|--------------|\n",
    "| Chart-4        | ------------- |--------------|--------------|--------------|\n",
    "| Chart-5        | ------------- |--------------|--------------|--------------|\n",
    "| Chart-6        | ------------- |--------------|--------------|--------------|\n",
    "| Chart-7        | ------------- |--------------|--------------|--------------|\n",
    "| Chart-8        | ------------- |--------------|--------------|--------------|\n",
    "| Chart-9        | Yes           |No            |Excellent          |Data Available until 2017|\n",
    "| Chart-10       | Yes           |No            |Excellent          |Data Available until 2017|\n",
    "| Chart-11       | ------------- |--------------|--------------|--------------|\n",
    "| Chart-12       | ------------- |--------------|--------------|--------------|\n",
    "| Chart-13       | ------------- |--------------|--------------|--------------|\n",
    "| Chart-14       | ------------- |--------------|--------------|--------------|\n",
    "| Chart-15       | ------------- |--------------|--------------|--------------|\n",
    "| Chart-16       | ------------- |--------------|--------------|--------------|\n",
    "\n",
    "In the below sections we will explain where (the data access/source), what (description) and how (cleansing process for the above charts) the data for the above chart is prepared. Each chart (or group of charts) will have heading section followed by where,how and what about the data.\n"
   ]
  },
  {
   "cell_type": "markdown",
   "metadata": {},
   "source": [
    "## Chart-1"
   ]
  },
  {
   "cell_type": "markdown",
   "metadata": {},
   "source": []
  },
  {
   "cell_type": "code",
   "execution_count": null,
   "metadata": {},
   "outputs": [],
   "source": []
  },
  {
   "cell_type": "markdown",
   "metadata": {},
   "source": [
    "## Chart-2"
   ]
  },
  {
   "cell_type": "markdown",
   "metadata": {},
   "source": []
  },
  {
   "cell_type": "code",
   "execution_count": null,
   "metadata": {},
   "outputs": [],
   "source": []
  },
  {
   "cell_type": "markdown",
   "metadata": {},
   "source": [
    "## Chart-3"
   ]
  },
  {
   "cell_type": "markdown",
   "metadata": {},
   "source": []
  },
  {
   "cell_type": "code",
   "execution_count": null,
   "metadata": {},
   "outputs": [],
   "source": []
  },
  {
   "cell_type": "markdown",
   "metadata": {},
   "source": [
    "## Chart-4"
   ]
  },
  {
   "cell_type": "markdown",
   "metadata": {},
   "source": []
  },
  {
   "cell_type": "code",
   "execution_count": null,
   "metadata": {},
   "outputs": [],
   "source": []
  },
  {
   "cell_type": "markdown",
   "metadata": {},
   "source": [
    "## Chart-5"
   ]
  },
  {
   "cell_type": "markdown",
   "metadata": {},
   "source": []
  },
  {
   "cell_type": "code",
   "execution_count": null,
   "metadata": {},
   "outputs": [],
   "source": []
  },
  {
   "cell_type": "markdown",
   "metadata": {},
   "source": [
    "## Chart-6"
   ]
  },
  {
   "cell_type": "markdown",
   "metadata": {},
   "source": []
  },
  {
   "cell_type": "code",
   "execution_count": null,
   "metadata": {},
   "outputs": [],
   "source": []
  },
  {
   "cell_type": "markdown",
   "metadata": {},
   "source": [
    "## Chart-7"
   ]
  },
  {
   "cell_type": "markdown",
   "metadata": {},
   "source": []
  },
  {
   "cell_type": "code",
   "execution_count": null,
   "metadata": {},
   "outputs": [],
   "source": []
  },
  {
   "cell_type": "markdown",
   "metadata": {},
   "source": [
    "## Chart-8"
   ]
  },
  {
   "cell_type": "markdown",
   "metadata": {},
   "source": []
  },
  {
   "cell_type": "code",
   "execution_count": null,
   "metadata": {},
   "outputs": [],
   "source": []
  },
  {
   "cell_type": "markdown",
   "metadata": {},
   "source": [
    "## Chart-9 - Still, gun homicides (like all homicides) have declined over the past couple decades.\n",
    "## Chart-10 - Most gun deaths are suicides."
   ]
  },
  {
   "attachments": {},
   "cell_type": "markdown",
   "metadata": {},
   "source": [
    "For **Chart#9** and **Chart#10** the data source is same. Fetching and cleaning process are same. Hence they are clubbed together.\n",
    "\n",
    "+ Data Source          :https://webappa.cdc.gov/sasweb/ncipc/mortrate.html\n",
    "+ Fetching Process     :Manual\n",
    "+ Need Cleaning        :Yes\n",
    "\n",
    "**Fetching Process**\n",
    "The data is downloaded from https://webappa.cdc.gov/sasweb/ncipc/mortrate.html.\n",
    "For **Chart#9** we need to collect data in two attempts. One for year range 1999 to 2017 and 1981 to 1998\n",
    "and for **Chart#10** we can run the query one year 1999 to 2017. We repeat the steps below for every year range or 'Intent or Manner of injury' either as Homicide or Suicide.\n",
    "\n",
    "1. In the above website given , choose the first option in year range as '1999 to 2017 (ICD-10), National and Regional' and choose Intent or Manner of injury as 'Homicide' as shown in [Picture-1](https://github.com/srivasud/Group7/blob/master/images/Q9-10-CDCImage-1.png)\n",
    "2. Choose 'Cause or mechanism of the injury' as 'Firearm' as shown in [Picture-2](https://github.com/srivasud/Group7/blob/master/images/Q9-10-CDCImage-2.png)\n",
    "3. Choose select 'Specific Options' as shown in [Picture-3](https://github.com/srivasud/Group7/blob/master/images/Q9-10-CDCImage-3.png)   \n",
    "4. Choose 'Advanced Options' as shown in [Picture-4](https://github.com/srivasud/Group7/blob/master/images/Q9-10-CDCImage-4.png)\n",
    "5. Click submit request. The result will be shown as a html page. Scroll to the bottom to download it as csv.\n",
    "6. Repeat the same steps for Chart-9 for the period 1981 to 1998 and download seperate csv.\n",
    "7. For Chart-10, the Intent or Manner of injury as 'Suicide' and year range from 1999 to 2017.\n",
    "\n",
    "We downloaded and uploaded 3 csv files (FirearmHomicide-1981-1998.csv,FirearmHomicide-1999-2018.csv,Firearm-Suicides-1999-2018.csv) to [data](https://github.com/srivasud/Group7/tree/master/data) folder in this repository.\n",
    "\n",
    "We run the below program and clean the data a bit and concatenates and puts into a single data frame.\n",
    "The explanation of the data/data frame after cleaning and removing unwanted columns is given below. \n",
    "Our final data frame contains the data of 'Firearm' caused deaths in USA with the following columns.\n",
    "+ Cause_of_Death - Its the cause or intent of death reported by firearm. The possible values are 'Suicide' or 'Homicide'.\n",
    "+ Year - The year reporting the data.\n",
    "+ Deaths - Total deaths reported due to Firearm with an intent either as Homicide or Suicide.\n",
    "+ Population - Total population in USA for that reported Year.\n",
    "+ Crude_Rate - Crude rate calculated per 100,000 , Formula used is (Total Deaths/ Total Population)*100,000."
   ]
  },
  {
   "cell_type": "code",
   "execution_count": 2,
   "metadata": {},
   "outputs": [
    {
     "data": {
      "text/html": [
       "<div>\n",
       "<style scoped>\n",
       "    .dataframe tbody tr th:only-of-type {\n",
       "        vertical-align: middle;\n",
       "    }\n",
       "\n",
       "    .dataframe tbody tr th {\n",
       "        vertical-align: top;\n",
       "    }\n",
       "\n",
       "    .dataframe thead th {\n",
       "        text-align: right;\n",
       "    }\n",
       "</style>\n",
       "<table border=\"1\" class=\"dataframe\">\n",
       "  <thead>\n",
       "    <tr style=\"text-align: right;\">\n",
       "      <th></th>\n",
       "      <th>Cause_of_Death</th>\n",
       "      <th>Year</th>\n",
       "      <th>Deaths</th>\n",
       "      <th>Population</th>\n",
       "      <th>Crude_Rate</th>\n",
       "    </tr>\n",
       "  </thead>\n",
       "  <tbody>\n",
       "    <tr>\n",
       "      <th>22</th>\n",
       "      <td>Homicide</td>\n",
       "      <td>2003</td>\n",
       "      <td>11920</td>\n",
       "      <td>290107933</td>\n",
       "      <td>4.1</td>\n",
       "    </tr>\n",
       "    <tr>\n",
       "      <th>14</th>\n",
       "      <td>Homicide</td>\n",
       "      <td>1995</td>\n",
       "      <td>15551</td>\n",
       "      <td>266278403</td>\n",
       "      <td>5.8</td>\n",
       "    </tr>\n",
       "    <tr>\n",
       "      <th>2</th>\n",
       "      <td>Homicide</td>\n",
       "      <td>1983</td>\n",
       "      <td>12040</td>\n",
       "      <td>233792237</td>\n",
       "      <td>5.2</td>\n",
       "    </tr>\n",
       "    <tr>\n",
       "      <th>26</th>\n",
       "      <td>Homicide</td>\n",
       "      <td>2007</td>\n",
       "      <td>12632</td>\n",
       "      <td>301231207</td>\n",
       "      <td>4.2</td>\n",
       "    </tr>\n",
       "    <tr>\n",
       "      <th>17</th>\n",
       "      <td>Homicide</td>\n",
       "      <td>1998</td>\n",
       "      <td>11798</td>\n",
       "      <td>275854116</td>\n",
       "      <td>4.3</td>\n",
       "    </tr>\n",
       "    <tr>\n",
       "      <th>51</th>\n",
       "      <td>Suicide</td>\n",
       "      <td>2013</td>\n",
       "      <td>21175</td>\n",
       "      <td>316234505</td>\n",
       "      <td>6.7</td>\n",
       "    </tr>\n",
       "    <tr>\n",
       "      <th>28</th>\n",
       "      <td>Homicide</td>\n",
       "      <td>2009</td>\n",
       "      <td>11493</td>\n",
       "      <td>306771529</td>\n",
       "      <td>3.8</td>\n",
       "    </tr>\n",
       "    <tr>\n",
       "      <th>49</th>\n",
       "      <td>Suicide</td>\n",
       "      <td>2011</td>\n",
       "      <td>19990</td>\n",
       "      <td>311644280</td>\n",
       "      <td>6.4</td>\n",
       "    </tr>\n",
       "    <tr>\n",
       "      <th>55</th>\n",
       "      <td>Suicide</td>\n",
       "      <td>2017</td>\n",
       "      <td>23854</td>\n",
       "      <td>325719178</td>\n",
       "      <td>7.3</td>\n",
       "    </tr>\n",
       "    <tr>\n",
       "      <th>10</th>\n",
       "      <td>Homicide</td>\n",
       "      <td>1991</td>\n",
       "      <td>17746</td>\n",
       "      <td>252980942</td>\n",
       "      <td>7.0</td>\n",
       "    </tr>\n",
       "  </tbody>\n",
       "</table>\n",
       "</div>"
      ],
      "text/plain": [
       "   Cause_of_Death  Year  Deaths  Population  Crude_Rate\n",
       "22       Homicide  2003   11920   290107933         4.1\n",
       "14       Homicide  1995   15551   266278403         5.8\n",
       "2        Homicide  1983   12040   233792237         5.2\n",
       "26       Homicide  2007   12632   301231207         4.2\n",
       "17       Homicide  1998   11798   275854116         4.3\n",
       "51        Suicide  2013   21175   316234505         6.7\n",
       "28       Homicide  2009   11493   306771529         3.8\n",
       "49        Suicide  2011   19990   311644280         6.4\n",
       "55        Suicide  2017   23854   325719178         7.3\n",
       "10       Homicide  1991   17746   252980942         7.0"
      ]
     },
     "execution_count": 2,
     "metadata": {},
     "output_type": "execute_result"
    }
   ],
   "source": [
    "# Data Reading and Cleaning\n",
    "# FirearmHomicide-1981-1998.csv - Homicides by Firearm between 1981 to 1998\n",
    "# FirearmHomicide-1999-2018.csv - Homicides by Firearm between 1999 to 2017\n",
    "# Firearm-Suicides-1999-2018.csv - Suicides by Firearm between 1999 to 2017\n",
    "\n",
    "# Read Firearm homicide csv from 1981 to 1998 from GIT\n",
    "fire_arm_1 = pd.read_csv(\"https://raw.githubusercontent.com/srivasud/Group7/master/data/FirearmHomicide-1981-1998.csv\") \n",
    "\n",
    "# Remove the last row which is the summation row\n",
    "fire_arm_1=fire_arm_1[:-1] \n",
    "\n",
    "# Read Firearm homicide csv from 1999 to 2017 from GIT\n",
    "fire_arm_2 = pd.read_csv(\"https://raw.githubusercontent.com/srivasud/Group7/master/data/FirearmHomicide-1999-2018.csv\") \n",
    "# Remove the last row which is the summation row\n",
    "fire_arm_2=fire_arm_2[:-1] \n",
    "\n",
    "# Dropped the not needed column 'Age-Adjusted Rate'\n",
    "fire_arm_2.drop('Age-Adjusted Rate', axis=1, inplace=True)\n",
    "\n",
    "\n",
    "# Read Firearm suicide data from 1999 to 2017 from GIT\n",
    "firearm_suicide_2=pd.read_csv('https://raw.githubusercontent.com/srivasud/Group7/master/data/Firearm-Suicides-1999-2018.csv')\n",
    "# Remove the last row which is the summation row\n",
    "firearm_suicide_2=firearm_suicide_2[:-1]\n",
    "# Dropped the not needed column 'Age-Adjusted Rate'\n",
    "firearm_suicide_2.drop('Age-Adjusted Rate', axis=1, inplace=True)\n",
    "\n",
    "# Concat all the dataframes into one\n",
    "fa_homicide_suicide=pd.concat([fire_arm_1,fire_arm_2,firearm_suicide_2])\n",
    "\n",
    "# Convert the Year column into Integer data type.\n",
    "fa_homicide_suicide['Year']=fa_homicide_suicide['Year'].values.astype(np.int)\n",
    "\n",
    "fa_homicide_suicide.reset_index(inplace=True)\n",
    "\n",
    "# Drop unwanted columns such as index,sex,race,state,ethnicity,Age group, first year, last year\n",
    "fa_homicide_suicide.drop(['index','Sex','Race','State','Ethnicity','Age Group','First Year','Last Year'],axis=1,inplace=True)\n",
    "\n",
    "# Round the Crude Rate to 1 decimal point\n",
    "fa_homicide_suicide['Crude Rate']=fa_homicide_suicide['Crude Rate'].round(1)\n",
    "\n",
    "# Rename the columns without spaces between parts of the column names.\n",
    "cols=['Cause_of_Death','Year','Deaths','Population','Crude_Rate']\n",
    "fa_homicide_suicide.columns=cols\n",
    "fa_homicide_suicide['Cause_of_Death'] = fa_homicide_suicide['Cause_of_Death'].map({'Homicide Firearm':'Homicide', 'Suicide Firearm': 'Suicide'})\n",
    "fa_homicide_suicide.sample(10)"
   ]
  },
  {
   "cell_type": "markdown",
   "metadata": {},
   "source": [
    "## The states with the most guns report the most suicides"
   ]
  },
  {
   "cell_type": "markdown",
   "metadata": {},
   "source": []
  },
  {
   "cell_type": "code",
   "execution_count": null,
   "metadata": {},
   "outputs": [],
   "source": []
  },
  {
   "cell_type": "markdown",
   "metadata": {},
   "source": [
    "## Chart-12"
   ]
  },
  {
   "cell_type": "markdown",
   "metadata": {},
   "source": []
  },
  {
   "cell_type": "code",
   "execution_count": null,
   "metadata": {},
   "outputs": [],
   "source": []
  },
  {
   "cell_type": "markdown",
   "metadata": {},
   "source": [
    "## Chart-13"
   ]
  },
  {
   "cell_type": "markdown",
   "metadata": {},
   "source": []
  },
  {
   "cell_type": "code",
   "execution_count": null,
   "metadata": {},
   "outputs": [],
   "source": []
  },
  {
   "cell_type": "markdown",
   "metadata": {},
   "source": [
    "## Chart-14"
   ]
  },
  {
   "cell_type": "markdown",
   "metadata": {},
   "source": []
  },
  {
   "cell_type": "code",
   "execution_count": null,
   "metadata": {},
   "outputs": [],
   "source": []
  },
  {
   "cell_type": "markdown",
   "metadata": {},
   "source": [
    "## Chart-15"
   ]
  },
  {
   "cell_type": "markdown",
   "metadata": {},
   "source": []
  },
  {
   "cell_type": "code",
   "execution_count": null,
   "metadata": {},
   "outputs": [],
   "source": []
  },
  {
   "cell_type": "markdown",
   "metadata": {},
   "source": [
    "## Chart-16"
   ]
  },
  {
   "cell_type": "markdown",
   "metadata": {},
   "source": []
  },
  {
   "cell_type": "code",
   "execution_count": null,
   "metadata": {},
   "outputs": [],
   "source": []
  }
 ],
 "metadata": {
  "kernelspec": {
   "display_name": "Python 3",
   "language": "python",
   "name": "python3"
  },
  "language_info": {
   "codemirror_mode": {
    "name": "ipython",
    "version": 3
   },
   "file_extension": ".py",
   "mimetype": "text/x-python",
   "name": "python",
   "nbconvert_exporter": "python",
   "pygments_lexer": "ipython3",
   "version": "3.7.3"
  },
  "toc": {
   "base_numbering": 1,
   "nav_menu": {},
   "number_sections": true,
   "sideBar": true,
   "skip_h1_title": false,
   "title_cell": "Table of Contents",
   "title_sidebar": "Contents",
   "toc_cell": false,
   "toc_position": {},
   "toc_section_display": true,
   "toc_window_display": false
  }
 },
 "nbformat": 4,
 "nbformat_minor": 2
}
