{
 "cells": [
  {
   "cell_type": "code",
   "execution_count": 5,
   "metadata": {},
   "outputs": [
    {
     "data": {
      "text/plain": [
       "RendererRegistry.enable('notebook')"
      ]
     },
     "execution_count": 5,
     "metadata": {},
     "output_type": "execute_result"
    }
   ],
   "source": [
    "import pandas as pd \n",
    "import numpy as np\n",
    "import altair as alt\n",
    "alt.renderers.enable('notebook')"
   ]
  },
  {
   "cell_type": "markdown",
   "metadata": {},
   "source": [
    "9) Still, gun homicides (like all homicides) have declined over the past couple decades\n",
    "\n",
    "+ Data Source: Access: Yes. The data is downloaded from https://webappa.cdc.gov/sasweb/ncipc/mortrate.html\n",
    "               # Steps followed to collect the data:\n",
    "               + "
   ]
  },
  {
   "cell_type": "code",
   "execution_count": 2,
   "metadata": {},
   "outputs": [],
   "source": [
    "# downloaded the data from https://webappa.cdc.gov/sasweb/ncipc/mortrate.html for homicide and suicide deaths by firearm\n",
    "\n",
    "# Read Firearm homicide csv from 1981 to 1998\n",
    "fire_arm_1 = pd.read_csv(\"data/FirearmHomicide-1981-1998.csv\") \n",
    "fire_arm_1=fire_arm_1[:-1] # remove the last row which is the summation row\n",
    "# Read Firearm homicide csv from 1999 to 2017\n",
    "fire_arm_2 = pd.read_csv(\"data/FirearmHomicide-1999-2018.csv\") \n",
    "fire_arm_2.drop('Age-Adjusted Rate', axis=1, inplace=True)\n",
    "fire_arm_2=fire_arm_2[:-1] # remove the last row which is the summation row\n",
    "\n",
    "# Read Firearm suicide data from 1999 to 2017\n",
    "firearm_suicide_2=pd.read_csv('data/Firearm-Suicides-1999-2018.csv')\n",
    "firearm_suicide_2=firearm_suicide_2[:-1] # remove the last row which is the summation row\n",
    "firearm_suicide_2.drop('Age-Adjusted Rate', axis=1, inplace=True)\n",
    "\n",
    "fa_homicide_suicide=pd.concat([fire_arm_1,fire_arm_2,firearm_suicide_2])\n",
    "fa_homicide_suicide['Year']=fa_homicide_suicide['Year'].values.astype(np.int)\n",
    "fa_homicide_suicide.reset_index(inplace=True)\n",
    "\n",
    "# drop unwanted columns such as index,sex,race,state,ethnicity,Age group, first year, last year\n",
    "fa_homicide_suicide.drop(['index','Sex','Race','State','Ethnicity','Age Group','First Year','Last Year'],axis=1,inplace=True)\n",
    "fa_homicide_suicide['Crude Rate']=fa_homicide_suicide['Crude Rate'].round(1)\n",
    "fa_homicide_suicide.head()\n",
    "cols=['Cause_of_Death','Year','Deaths','Population','Crude_Rate']\n",
    "fa_homicide_suicide.columns=cols"
   ]
  },
  {
   "cell_type": "code",
   "execution_count": 6,
   "metadata": {},
   "outputs": [
    {
     "data": {
      "text/html": [
       "<div>\n",
       "<style scoped>\n",
       "    .dataframe tbody tr th:only-of-type {\n",
       "        vertical-align: middle;\n",
       "    }\n",
       "\n",
       "    .dataframe tbody tr th {\n",
       "        vertical-align: top;\n",
       "    }\n",
       "\n",
       "    .dataframe thead th {\n",
       "        text-align: right;\n",
       "    }\n",
       "</style>\n",
       "<table border=\"1\" class=\"dataframe\">\n",
       "  <thead>\n",
       "    <tr style=\"text-align: right;\">\n",
       "      <th></th>\n",
       "      <th>Cause_of_Death</th>\n",
       "      <th>Year</th>\n",
       "      <th>Deaths</th>\n",
       "      <th>Population</th>\n",
       "      <th>Crude_Rate</th>\n",
       "    </tr>\n",
       "  </thead>\n",
       "  <tbody>\n",
       "    <tr>\n",
       "      <th>0</th>\n",
       "      <td>Homicide Firearm</td>\n",
       "      <td>1981</td>\n",
       "      <td>15089</td>\n",
       "      <td>229465316</td>\n",
       "      <td>6.6</td>\n",
       "    </tr>\n",
       "    <tr>\n",
       "      <th>1</th>\n",
       "      <td>Homicide Firearm</td>\n",
       "      <td>1982</td>\n",
       "      <td>13830</td>\n",
       "      <td>231664211</td>\n",
       "      <td>6.0</td>\n",
       "    </tr>\n",
       "    <tr>\n",
       "      <th>2</th>\n",
       "      <td>Homicide Firearm</td>\n",
       "      <td>1983</td>\n",
       "      <td>12040</td>\n",
       "      <td>233792237</td>\n",
       "      <td>5.2</td>\n",
       "    </tr>\n",
       "    <tr>\n",
       "      <th>3</th>\n",
       "      <td>Homicide Firearm</td>\n",
       "      <td>1984</td>\n",
       "      <td>11815</td>\n",
       "      <td>235825040</td>\n",
       "      <td>5.0</td>\n",
       "    </tr>\n",
       "    <tr>\n",
       "      <th>4</th>\n",
       "      <td>Homicide Firearm</td>\n",
       "      <td>1985</td>\n",
       "      <td>11836</td>\n",
       "      <td>237924038</td>\n",
       "      <td>5.0</td>\n",
       "    </tr>\n",
       "  </tbody>\n",
       "</table>\n",
       "</div>"
      ],
      "text/plain": [
       "     Cause_of_Death  Year  Deaths  Population  Crude_Rate\n",
       "0  Homicide Firearm  1981   15089   229465316         6.6\n",
       "1  Homicide Firearm  1982   13830   231664211         6.0\n",
       "2  Homicide Firearm  1983   12040   233792237         5.2\n",
       "3  Homicide Firearm  1984   11815   235825040         5.0\n",
       "4  Homicide Firearm  1985   11836   237924038         5.0"
      ]
     },
     "execution_count": 6,
     "metadata": {},
     "output_type": "execute_result"
    }
   ],
   "source": [
    "fa_homicide_suicide[fa_homicide_suicide.Cause_of_Death=='Homicide Firearm'].head()"
   ]
  },
  {
   "cell_type": "code",
   "execution_count": 7,
   "metadata": {},
   "outputs": [
    {
     "data": {
      "application/javascript": [
       "var spec = {\"config\": {\"view\": {\"width\": 400, \"height\": 300}, \"mark\": {\"tooltip\": null}}, \"data\": {\"name\": \"data-4a773e2a1bb64756a179a5c809d9c2f2\"}, \"mark\": \"line\", \"encoding\": {\"x\": {\"type\": \"ordinal\", \"field\": \"Year\", \"title\": \"Year\"}, \"y\": {\"type\": \"quantitative\", \"field\": \"Crude_Rate\", \"scale\": {\"domain\": [0, 8]}, \"title\": \"Rate\"}}, \"height\": 400, \"title\": \"Rate of Firearm Homicide Deaths, \\nPer 100,000 people\", \"width\": 650, \"$schema\": \"https://vega.github.io/schema/vega-lite/v3.2.1.json\", \"datasets\": {\"data-4a773e2a1bb64756a179a5c809d9c2f2\": [{\"Cause_of_Death\": \"Homicide Firearm\", \"Year\": 1981, \"Deaths\": 15089, \"Population\": 229465316, \"Crude_Rate\": 6.6}, {\"Cause_of_Death\": \"Homicide Firearm\", \"Year\": 1982, \"Deaths\": 13830, \"Population\": 231664211, \"Crude_Rate\": 6.0}, {\"Cause_of_Death\": \"Homicide Firearm\", \"Year\": 1983, \"Deaths\": 12040, \"Population\": 233792237, \"Crude_Rate\": 5.2}, {\"Cause_of_Death\": \"Homicide Firearm\", \"Year\": 1984, \"Deaths\": 11815, \"Population\": 235825040, \"Crude_Rate\": 5.0}, {\"Cause_of_Death\": \"Homicide Firearm\", \"Year\": 1985, \"Deaths\": 11836, \"Population\": 237924038, \"Crude_Rate\": 5.0}, {\"Cause_of_Death\": \"Homicide Firearm\", \"Year\": 1986, \"Deaths\": 13029, \"Population\": 240133048, \"Crude_Rate\": 5.4}, {\"Cause_of_Death\": \"Homicide Firearm\", \"Year\": 1987, \"Deaths\": 12657, \"Population\": 242289046, \"Crude_Rate\": 5.2}, {\"Cause_of_Death\": \"Homicide Firearm\", \"Year\": 1988, \"Deaths\": 13645, \"Population\": 244499040, \"Crude_Rate\": 5.6}, {\"Cause_of_Death\": \"Homicide Firearm\", \"Year\": 1989, \"Deaths\": 14464, \"Population\": 246819195, \"Crude_Rate\": 5.9}, {\"Cause_of_Death\": \"Homicide Firearm\", \"Year\": 1990, \"Deaths\": 16218, \"Population\": 249464396, \"Crude_Rate\": 6.5}, {\"Cause_of_Death\": \"Homicide Firearm\", \"Year\": 1991, \"Deaths\": 17746, \"Population\": 252980942, \"Crude_Rate\": 7.0}, {\"Cause_of_Death\": \"Homicide Firearm\", \"Year\": 1992, \"Deaths\": 17488, \"Population\": 256514231, \"Crude_Rate\": 6.8}, {\"Cause_of_Death\": \"Homicide Firearm\", \"Year\": 1993, \"Deaths\": 18253, \"Population\": 259918595, \"Crude_Rate\": 7.0}, {\"Cause_of_Death\": \"Homicide Firearm\", \"Year\": 1994, \"Deaths\": 17527, \"Population\": 263125826, \"Crude_Rate\": 6.7}, {\"Cause_of_Death\": \"Homicide Firearm\", \"Year\": 1995, \"Deaths\": 15551, \"Population\": 266278403, \"Crude_Rate\": 5.8}, {\"Cause_of_Death\": \"Homicide Firearm\", \"Year\": 1996, \"Deaths\": 14037, \"Population\": 269394291, \"Crude_Rate\": 5.2}, {\"Cause_of_Death\": \"Homicide Firearm\", \"Year\": 1997, \"Deaths\": 13252, \"Population\": 272646932, \"Crude_Rate\": 4.9}, {\"Cause_of_Death\": \"Homicide Firearm\", \"Year\": 1998, \"Deaths\": 11798, \"Population\": 275854116, \"Crude_Rate\": 4.3}, {\"Cause_of_Death\": \"Homicide Firearm\", \"Year\": 1999, \"Deaths\": 10828, \"Population\": 279040238, \"Crude_Rate\": 3.9}, {\"Cause_of_Death\": \"Homicide Firearm\", \"Year\": 2000, \"Deaths\": 10801, \"Population\": 282171936, \"Crude_Rate\": 3.8}, {\"Cause_of_Death\": \"Homicide Firearm\", \"Year\": 2001, \"Deaths\": 11348, \"Population\": 284968955, \"Crude_Rate\": 4.0}, {\"Cause_of_Death\": \"Homicide Firearm\", \"Year\": 2002, \"Deaths\": 11829, \"Population\": 287625193, \"Crude_Rate\": 4.1}, {\"Cause_of_Death\": \"Homicide Firearm\", \"Year\": 2003, \"Deaths\": 11920, \"Population\": 290107933, \"Crude_Rate\": 4.1}, {\"Cause_of_Death\": \"Homicide Firearm\", \"Year\": 2004, \"Deaths\": 11624, \"Population\": 292805298, \"Crude_Rate\": 4.0}, {\"Cause_of_Death\": \"Homicide Firearm\", \"Year\": 2005, \"Deaths\": 12352, \"Population\": 295516599, \"Crude_Rate\": 4.2}, {\"Cause_of_Death\": \"Homicide Firearm\", \"Year\": 2006, \"Deaths\": 12791, \"Population\": 298379912, \"Crude_Rate\": 4.3}, {\"Cause_of_Death\": \"Homicide Firearm\", \"Year\": 2007, \"Deaths\": 12632, \"Population\": 301231207, \"Crude_Rate\": 4.2}, {\"Cause_of_Death\": \"Homicide Firearm\", \"Year\": 2008, \"Deaths\": 12179, \"Population\": 304093966, \"Crude_Rate\": 4.0}, {\"Cause_of_Death\": \"Homicide Firearm\", \"Year\": 2009, \"Deaths\": 11493, \"Population\": 306771529, \"Crude_Rate\": 3.8}, {\"Cause_of_Death\": \"Homicide Firearm\", \"Year\": 2010, \"Deaths\": 11078, \"Population\": 308758105, \"Crude_Rate\": 3.6}, {\"Cause_of_Death\": \"Homicide Firearm\", \"Year\": 2011, \"Deaths\": 11068, \"Population\": 311644280, \"Crude_Rate\": 3.6}, {\"Cause_of_Death\": \"Homicide Firearm\", \"Year\": 2012, \"Deaths\": 11622, \"Population\": 313993272, \"Crude_Rate\": 3.7}, {\"Cause_of_Death\": \"Homicide Firearm\", \"Year\": 2013, \"Deaths\": 11208, \"Population\": 316234505, \"Crude_Rate\": 3.5}, {\"Cause_of_Death\": \"Homicide Firearm\", \"Year\": 2014, \"Deaths\": 11008, \"Population\": 318622525, \"Crude_Rate\": 3.4}, {\"Cause_of_Death\": \"Homicide Firearm\", \"Year\": 2015, \"Deaths\": 12979, \"Population\": 321039839, \"Crude_Rate\": 4.0}, {\"Cause_of_Death\": \"Homicide Firearm\", \"Year\": 2016, \"Deaths\": 14415, \"Population\": 323405935, \"Crude_Rate\": 4.5}, {\"Cause_of_Death\": \"Homicide Firearm\", \"Year\": 2017, \"Deaths\": 14542, \"Population\": 325719178, \"Crude_Rate\": 4.5}]}};\n",
       "var opt = {};\n",
       "var type = \"vega-lite\";\n",
       "var id = \"093946ee-b7cf-408e-950f-ba4a72ac37d8\";\n",
       "\n",
       "var output_area = this;\n",
       "\n",
       "require([\"nbextensions/jupyter-vega/index\"], function(vega) {\n",
       "  var target = document.createElement(\"div\");\n",
       "  target.id = id;\n",
       "  target.className = \"vega-embed\";\n",
       "\n",
       "  var style = document.createElement(\"style\");\n",
       "  style.textContent = [\n",
       "    \".vega-embed .error p {\",\n",
       "    \"  color: firebrick;\",\n",
       "    \"  font-size: 14px;\",\n",
       "    \"}\",\n",
       "  ].join(\"\\\\n\");\n",
       "\n",
       "  // element is a jQuery wrapped DOM element inside the output area\n",
       "  // see http://ipython.readthedocs.io/en/stable/api/generated/\\\n",
       "  // IPython.display.html#IPython.display.Javascript.__init__\n",
       "  element[0].appendChild(target);\n",
       "  element[0].appendChild(style);\n",
       "\n",
       "  vega.render(\"#\" + id, spec, type, opt, output_area);\n",
       "}, function (err) {\n",
       "  if (err.requireType !== \"scripterror\") {\n",
       "    throw(err);\n",
       "  }\n",
       "});\n"
      ],
      "text/plain": [
       "<vega.vegalite.VegaLite at 0x10662bda0>"
      ]
     },
     "metadata": {
      "jupyter-vega": "#093946ee-b7cf-408e-950f-ba4a72ac37d8"
     },
     "output_type": "display_data"
    },
    {
     "data": {
      "text/plain": []
     },
     "execution_count": 7,
     "metadata": {},
     "output_type": "execute_result"
    },
    {
     "data": {
      "image/png": "[encoded data removed]"
     },
     "metadata": {
      "jupyter-vega": "#093946ee-b7cf-408e-950f-ba4a72ac37d8"
     },
     "output_type": "display_data"
    }
   ],
   "source": [
    "alt.Chart(fa_homicide_suicide[fa_homicide_suicide.Cause_of_Death=='Homicide Firearm']).mark_line().encode(\n",
    "alt.X('Year:O', title='Year'),\n",
    "alt.Y('Crude_Rate:Q', title = 'Rate',scale=alt.Scale(domain=[0, 8]))\n",
    ").properties(\n",
    "    title='Rate of Firearm Homicide Deaths, '+\n",
    "            \"\\nPer 100,000 people\",\n",
    "    width=650,\n",
    "    height=400\n",
    ")"
   ]
  },
  {
   "cell_type": "markdown",
   "metadata": {},
   "source": [
    "10) Most gun deaths are suicides"
   ]
  },
  {
   "cell_type": "code",
   "execution_count": null,
   "metadata": {},
   "outputs": [],
   "source": []
  }
 ],
 "metadata": {
  "kernelspec": {
   "display_name": "Python [conda env:myenv] *",
   "language": "python",
   "name": "conda-env-myenv-py"
  },
  "language_info": {
   "codemirror_mode": {
    "name": "ipython",
    "version": 3
   },
   "file_extension": ".py",
   "mimetype": "text/x-python",
   "name": "python",
   "nbconvert_exporter": "python",
   "pygments_lexer": "ipython3",
   "version": "3.7.3"
  },
  "toc": {
   "base_numbering": 1,
   "nav_menu": {},
   "number_sections": true,
   "sideBar": true,
   "skip_h1_title": false,
   "title_cell": "Table of Contents",
   "title_sidebar": "Contents",
   "toc_cell": false,
   "toc_position": {},
   "toc_section_display": true,
   "toc_window_display": false
  }
 },
 "nbformat": 4,
 "nbformat_minor": 2
}
