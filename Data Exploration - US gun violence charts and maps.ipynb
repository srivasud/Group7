{
 "cells": [
  {
   "cell_type": "code",
   "execution_count": 1,
   "metadata": {},
   "outputs": [
    {
     "name": "stdout",
     "output_type": "stream",
     "text": [
      "Populating the interactive namespace from numpy and matplotlib\n"
     ]
    }
   ],
   "source": [
    "%pylab inline\n",
    "import pandas as pd\n",
    "import numpy as np\n",
    "import re\n",
    "from IPython.display import Image"
   ]
  },
  {
   "cell_type": "markdown",
   "metadata": {},
   "source": [
    "# Summary\n",
    "\n",
    "Note:  \n",
    "Data Quality (Excellent/Good/Bad)  \n",
    "Up-to Date: Yes (Available until 2019) / No (Unavailable until 2019)\n",
    "\n",
    "| Chart Number  | Data Access   |Up-to Date    |Data Quality  |Comments      |\n",
    "| ------------- | ------------- |--------------|--------------|--------------|\n",
    "| Chart-1        | Yes           |No            |Excellent     |Data Available up to 2017|\n",
    "| Chart-2        | Yes           |No            |Excellent     |Data Available up to 2017|\n",
    "| Chart-3        | yes           |yes           |Excellent     |Latest Data|\n",
    "| Chart-4        | yes           |yes           |Excellent     |Latest Data|\n",
    "| Chart-5        | yes           |No            |--------------|--------------|\n",
    "| Chart-6        | ------------- |--------------|--------------|--------------|\n",
    "| Chart-7        | ------------- |--------------|--------------|--------------|\n",
    "| Chart-8        | ------------- |--------------|--------------|--------------|\n",
    "| Chart-9        | Yes           |No            |Excellent     |Data Available until 2017|\n",
    "| Chart-10       | Yes           |No            |Excellent     |Data Available until 2017|\n",
    "| Chart-11       | No            |No            |Bad           |Gun ownership Rate is not defined,Ownership data is  available as pdf|\n",
    "| Chart-12       | ------------- |--------------|--------------|--------------|\n",
    "| Chart-13       | ------------- |--------------|--------------|--------------|\n",
    "| Chart-14       | ------------- |--------------|--------------|--------------|\n",
    "| Chart-15       | Yes           |Yes           |Excellent       |Data Available until 2017|\n",
    "| Chart-16       | Yes           |Yes           |Excellent            |Data Available until 2017|\n",
    "\n",
    "In the below sections we will explain where (the data access/source), what (description) and how (cleansing process for the above charts) the data for the above chart is prepared. Each chart (or group of charts) will have heading section followed by where,how and what about the data.\n"
   ]
  },
  {
   "cell_type": "markdown",
   "metadata": {},
   "source": [
    "## Chart-1"
   ]
  },
  {
   "cell_type": "markdown",
   "metadata": {},
   "source": [
    "For the __Chart 1__ and __Chart 2__, we obtained the data from this [Guardian article](https://www.theguardian.com/news/datablog/2012/jul/22/gun-homicides-ownership-world-list#data). The data had to be manually downloaded as a .csv and read into the notebook. \n",
    "\n",
    "Get data here: https://docs.google.com/spreadsheets/d/1chqUZHuY6cXYrRYkuE0uwXisGaYvr7durZHJhpLGycs/edit#gid=0"
   ]
  },
  {
   "cell_type": "markdown",
   "metadata": {},
   "source": [
    "#### Read in the file"
   ]
  },
  {
   "cell_type": "code",
   "execution_count": 2,
   "metadata": {},
   "outputs": [],
   "source": [
    "df = pd.read_csv('https://raw.githubusercontent.com/srivasud/Group7/master/data/guardian.csv', index_col = False)"
   ]
  },
  {
   "cell_type": "markdown",
   "metadata": {},
   "source": [
    "It looks like there is a column measuring homicide by firearm rate per 100 thousand population. To recreate the Vox visualization, we will have to create a new column 'fire_hom_m' that measures the homicide by firearm rate per 1 mil population."
   ]
  },
  {
   "cell_type": "code",
   "execution_count": 3,
   "metadata": {},
   "outputs": [],
   "source": [
    "df['fire_hom_m'] = df['Homicide by firearm rate per 100,000 pop'] * 10\n",
    "\n",
    "df2 = df.dropna().reset_index(drop = True)"
   ]
  },
  {
   "cell_type": "markdown",
   "metadata": {},
   "source": [
    "Next, we will declare a list of only countries we want to visualize. Looks like the Vox chart only has a selected list of developed countries."
   ]
  },
  {
   "cell_type": "code",
   "execution_count": 4,
   "metadata": {},
   "outputs": [],
   "source": [
    "# List of selected developed countries\n",
    "ls = ['Australia', 'New Zealand', 'Germany', 'Austria', 'Denmark',\\\n",
    "     'Netherlands', 'Sweden', 'Finland', 'Ireland', 'Canada', 'Luxembourg', 'Belgium',\\\n",
    "     'Switzerland', 'United States']\n",
    "\n",
    "# We sort the table by fire_hom_m values in ascending order. We leave the index unchanged in case we want the original order.\n",
    "adv = df2[df2['Country/Territory'].isin(ls)].reset_index(drop = True)\n",
    "adv = adv.sort_values(by = 'fire_hom_m')"
   ]
  },
  {
   "cell_type": "markdown",
   "metadata": {},
   "source": [
    "The dataframe is now ready to use for visualizing __Chart 1__"
   ]
  },
  {
   "cell_type": "markdown",
   "metadata": {},
   "source": [
    "#### Visualization"
   ]
  },
  {
   "cell_type": "markdown",
   "metadata": {},
   "source": [
    "We can replicate this chart by using Altair's Isotype Visualization, as outlined here: https://altair-viz.github.io/gallery/isotype.html"
   ]
  },
  {
   "cell_type": "markdown",
   "metadata": {},
   "source": [
    "## Chart-2"
   ]
  },
  {
   "cell_type": "markdown",
   "metadata": {},
   "source": [
    "For __Chart(s) 2__, we will have to calculate proportions of two things:\n",
    "1. The proportion of _US population_ to the global population, and,\n",
    "2. The proportion of _US civilian gun ownership_ to global civilian gun ownership"
   ]
  },
  {
   "cell_type": "markdown",
   "metadata": {},
   "source": [
    "Based on the information already in hand, it seems we already have data to address (2) using the 'Average total all civilian firearms' field."
   ]
  },
  {
   "cell_type": "code",
   "execution_count": 5,
   "metadata": {},
   "outputs": [
    {
     "name": "stdout",
     "output_type": "stream",
     "text": [
      "Americans own 41.9% of the world's guns.\n"
     ]
    }
   ],
   "source": [
    "# Calculates the proportion of US gun ownership to the global gun ownership rate.\n",
    "us_guns_prop = df[df['ISO code'] == 'US'].iloc[:,-2].sum() / df.iloc[:,-2].sum()\n",
    "print('Americans own ' + str(round(us_guns_prop, 3) * 100) + '% of the world\\'s guns.')"
   ]
  },
  {
   "cell_type": "markdown",
   "metadata": {},
   "source": [
    "This result is consistent with the percentage presented by Vox in the RHS chart.\n",
    "\n",
    "To recreate the LHS chart, we have to be slightly crafty and utilize some assumptions. Witness the strength of street knowledge:\n",
    "\n",
    "- We can safely assume that the world population today is somewhere around 7 billion people, while the current US population is about 320 million people.\n",
    "\n",
    "We'll have to validate this using some [World Bank data](https://data.worldbank.org/indicator/sp.pop.totl) (by way of Wikipedia). This dataset is up to date as of 2017.\n",
    "\n",
    "__Note: the .csv file needs to be manipulated in a text editor to remove the first 4 lines of header. pd.read.csv will throw an error if these lines are not removed.__"
   ]
  },
  {
   "cell_type": "code",
   "execution_count": 6,
   "metadata": {},
   "outputs": [],
   "source": [
    "bank = pd.read_csv('https://raw.githubusercontent.com/srivasud/Group7/master/data/world_bank_pop_2017.csv', index_col = False, encoding = 'latin1')"
   ]
  },
  {
   "cell_type": "code",
   "execution_count": 7,
   "metadata": {},
   "outputs": [],
   "source": [
    "def pop_prop(country, year):\n",
    "    \n",
    "    if year < 1960:\n",
    "        print('Please enter 1960 or later.')\n",
    "    elif year > 2017:\n",
    "        print('Please enter 2017 or earlier.')\n",
    "    else:\n",
    "        # List of regex filters we don't want to be part of our global population calculation\n",
    "        filt = '.*&.*|.*Income.*|.*North America.*|.*Asia.*|.*Europe.*|.*dividend.*|.*area.*|.*conflict.*|.*indebted.*|.*only.*|.*IDA.*|.*classified.*|.*developed.*|.*income.*|.*World.*|.*Sub-Saharan.*|.*states.*|.*members.*'\n",
    "\n",
    "        # Calculates the global pop. and US pop. separetely, then prints the proportion as a string\n",
    "        total_pop = bank[((bank['Country Name'].str.match(filt) - 1) * -1).astype('bool')][str(year)].sum()\n",
    "        us_pop = bank[bank['Country Name'] == country][str(year)].sum()\n",
    "\n",
    "        print(country + ' makes up ' + str(round(us_pop / total_pop, 4) * 100) + '% of the world population.')"
   ]
  },
  {
   "cell_type": "code",
   "execution_count": 8,
   "metadata": {},
   "outputs": [
    {
     "name": "stdout",
     "output_type": "stream",
     "text": [
      "United States makes up 4.33% of the world population.\n"
     ]
    }
   ],
   "source": [
    "pop_prop('United States', 2017)"
   ]
  },
  {
   "cell_type": "markdown",
   "metadata": {},
   "source": [
    "It seems our calculations are overestimating the total world population, but we're within 10 basis points of Vox's calculations, so it's fine."
   ]
  },
  {
   "cell_type": "markdown",
   "metadata": {},
   "source": [
    "#### Visualization"
   ]
  },
  {
   "cell_type": "markdown",
   "metadata": {},
   "source": [
    "Again, we will use Altair's Isotype Grid Visualization outlined here: https://altair-viz.github.io/gallery/isotype_grid.html"
   ]
  },
  {
   "cell_type": "markdown",
   "metadata": {},
   "source": [
    "## Chart-3-There have been more than 1,600 mass shootings since Sandy Hook"
   ]
  },
  {
   "cell_type": "markdown",
   "metadata": {},
   "source": [
    "The dataset is the same for __Chart-3__ and chart __Chart-4__.But will be manipulated according to the need of the visulaizations.__Chart-3__ uses an additional file.\n",
    "\n",
    "\n",
    "+ Data Source(for Chart-3 and Chart-4)   :https://www.gunviolencearchive.org/reports\n",
    "+ Data Source(Chart-3 only) :https://simplemaps.com/data/us-cities\n",
    "+ Fetching Process     :Manual\n",
    "+ Need Cleaning        :Yes\n",
    "\n",
    "\n",
    "The Data used in **Chart-3** and **Chart-4** were collected individually for the years 2013 to 2019.\n",
    "This data records the majority of reported mass shooting in the US.The information captured is a follows\n",
    "+ Incident Date\n",
    "+ State\n",
    "+ City Or County\n",
    "+ #Killed:The number of people killed in the incident\n",
    "+ #Injured:The number of people injured in the incident\n",
    "+ Operations: is N/A in the table , but on the website it redirects to article related to the incident.\n",
    "\n",
    "The additional data used in __Chart-3__ gives us the co-ordnates for each city in the US.The data has many fields, but the ones we were interested in were:\n",
    "+ city\n",
    "+ state_name\n",
    "+ lat:Captures the latitude for the city\n",
    "+ lng:Captures the longitude for the city\n",
    "\n",
    "**Processing the Data**\n",
    "1. Importing the files.\n",
    "2. Concatinating the files that captured data on Mass Shootings.from 2013-2019\n",
    "3. Creating a Dummy variable for each row.\n",
    "4. Grouping the data by \"City or County\"\n",
    "5. Summing the dummy varibale introduced earlier .The sum gives the count of Mass Shootings done in the city so far.\n",
    "6. Reading in the additional file captures the zipcode\n",
    "7. Renaming the Columns so that it matches :\"City or County\" and \"State\"\n",
    "8. Merging the The two datasets based on city name and state.\n",
    "9. The Final Output is a Dataframe with State,City,Total Mass Shootings,latitude and Longitude of the city.\n"
   ]
  },
  {
   "cell_type": "code",
   "execution_count": 9,
   "metadata": {},
   "outputs": [],
   "source": [
    "#Source:https://www.gunviolencearchive.org/reports\n",
    "y2013=pd.read_csv(\"data/Mass shooting pic3 y2013.csv\")\n",
    "y2014=pd.read_csv(\"data/Mass shooting pic3 y2014.csv\")\n",
    "y2015=pd.read_csv(\"data/Mass shooting pic3 y2015.csv\")\n",
    "y2016=pd.read_csv(\"data/Mass shooting pic3 y2016.csv\")\n",
    "y2017=pd.read_csv(\"data/Mass shooting pic3 y2017.csv\")\n",
    "y2018=pd.read_csv(\"data/Mass shooting pic3 y2018.csv\")\n",
    "y2019=pd.read_csv(\"data/Mass shooting pic3 y2019.csv\")\n",
    "\n",
    "#Source:https://simplemaps.com/data/us-cities\n",
    "latlong=pd.read_csv(\"data/uscitiesv1.5.csv\")"
   ]
  },
  {
   "cell_type": "code",
   "execution_count": 10,
   "metadata": {},
   "outputs": [],
   "source": [
    "df=pd.concat([y2013, y2014,y2015,y2016,y2017,y2018,y2019])\n",
    "df[\"happening_dummy\"]=1\n",
    "df1=df.groupby([\"City Or County\"])[\"happening_dummy\"].sum()\n",
    "df1=df1.to_frame()\n",
    "df1 = df1.rename(columns={'happening_dummy':'Total'})\n",
    "df1[\"City Or County\"]=df1.index"
   ]
  },
  {
   "cell_type": "code",
   "execution_count": 11,
   "metadata": {},
   "outputs": [],
   "source": [
    "df2=df[[\"City Or County\",\"State\"]]\n",
    "df2=df2.drop_duplicates()\n"
   ]
  },
  {
   "cell_type": "code",
   "execution_count": 12,
   "metadata": {},
   "outputs": [
    {
     "ename": "ValueError",
     "evalue": "'City Or County' is both an index level and a column label, which is ambiguous.",
     "output_type": "error",
     "traceback": [
      "\u001b[0;31m---------------------------------------------------------------------------\u001b[0m",
      "\u001b[0;31mValueError\u001b[0m                                Traceback (most recent call last)",
      "\u001b[0;32m<ipython-input-12-f086c862cfad>\u001b[0m in \u001b[0;36m<module>\u001b[0;34m\u001b[0m\n\u001b[0;32m----> 1\u001b[0;31m \u001b[0mdf3\u001b[0m\u001b[0;34m=\u001b[0m\u001b[0mdf1\u001b[0m\u001b[0;34m.\u001b[0m\u001b[0mmerge\u001b[0m\u001b[0;34m(\u001b[0m\u001b[0mdf2\u001b[0m\u001b[0;34m)\u001b[0m\u001b[0;34m\u001b[0m\u001b[0;34m\u001b[0m\u001b[0m\n\u001b[0m\u001b[1;32m      2\u001b[0m \u001b[0mdf3\u001b[0m\u001b[0;34m=\u001b[0m\u001b[0mdf3\u001b[0m\u001b[0;34m.\u001b[0m\u001b[0msort_values\u001b[0m\u001b[0;34m(\u001b[0m\u001b[0;34m[\u001b[0m\u001b[0;34m\"State\"\u001b[0m\u001b[0;34m,\u001b[0m\u001b[0;34m\"City Or County\"\u001b[0m\u001b[0;34m]\u001b[0m\u001b[0;34m)\u001b[0m\u001b[0;34m\u001b[0m\u001b[0;34m\u001b[0m\u001b[0m\n\u001b[1;32m      3\u001b[0m \u001b[0mdf3\u001b[0m \u001b[0;34m=\u001b[0m \u001b[0mdf3\u001b[0m\u001b[0;34m.\u001b[0m\u001b[0mreindex_axis\u001b[0m\u001b[0;34m(\u001b[0m\u001b[0;34m[\u001b[0m\u001b[0;34m\"State\"\u001b[0m\u001b[0;34m,\u001b[0m\u001b[0;34m\"City Or County\"\u001b[0m\u001b[0;34m,\u001b[0m\u001b[0;34m\"Total\"\u001b[0m\u001b[0;34m]\u001b[0m\u001b[0;34m,\u001b[0m \u001b[0maxis\u001b[0m\u001b[0;34m=\u001b[0m\u001b[0;36m1\u001b[0m\u001b[0;34m)\u001b[0m\u001b[0;34m\u001b[0m\u001b[0;34m\u001b[0m\u001b[0m\n",
      "\u001b[0;32m~/anaconda3/lib/python3.7/site-packages/pandas/core/frame.py\u001b[0m in \u001b[0;36mmerge\u001b[0;34m(self, right, how, on, left_on, right_on, left_index, right_index, sort, suffixes, copy, indicator, validate)\u001b[0m\n\u001b[1;32m   6866\u001b[0m                      \u001b[0mright_on\u001b[0m\u001b[0;34m=\u001b[0m\u001b[0mright_on\u001b[0m\u001b[0;34m,\u001b[0m \u001b[0mleft_index\u001b[0m\u001b[0;34m=\u001b[0m\u001b[0mleft_index\u001b[0m\u001b[0;34m,\u001b[0m\u001b[0;34m\u001b[0m\u001b[0;34m\u001b[0m\u001b[0m\n\u001b[1;32m   6867\u001b[0m                      \u001b[0mright_index\u001b[0m\u001b[0;34m=\u001b[0m\u001b[0mright_index\u001b[0m\u001b[0;34m,\u001b[0m \u001b[0msort\u001b[0m\u001b[0;34m=\u001b[0m\u001b[0msort\u001b[0m\u001b[0;34m,\u001b[0m \u001b[0msuffixes\u001b[0m\u001b[0;34m=\u001b[0m\u001b[0msuffixes\u001b[0m\u001b[0;34m,\u001b[0m\u001b[0;34m\u001b[0m\u001b[0;34m\u001b[0m\u001b[0m\n\u001b[0;32m-> 6868\u001b[0;31m                      copy=copy, indicator=indicator, validate=validate)\n\u001b[0m\u001b[1;32m   6869\u001b[0m \u001b[0;34m\u001b[0m\u001b[0m\n\u001b[1;32m   6870\u001b[0m     \u001b[0;32mdef\u001b[0m \u001b[0mround\u001b[0m\u001b[0;34m(\u001b[0m\u001b[0mself\u001b[0m\u001b[0;34m,\u001b[0m \u001b[0mdecimals\u001b[0m\u001b[0;34m=\u001b[0m\u001b[0;36m0\u001b[0m\u001b[0;34m,\u001b[0m \u001b[0;34m*\u001b[0m\u001b[0margs\u001b[0m\u001b[0;34m,\u001b[0m \u001b[0;34m**\u001b[0m\u001b[0mkwargs\u001b[0m\u001b[0;34m)\u001b[0m\u001b[0;34m:\u001b[0m\u001b[0;34m\u001b[0m\u001b[0;34m\u001b[0m\u001b[0m\n",
      "\u001b[0;32m~/anaconda3/lib/python3.7/site-packages/pandas/core/reshape/merge.py\u001b[0m in \u001b[0;36mmerge\u001b[0;34m(left, right, how, on, left_on, right_on, left_index, right_index, sort, suffixes, copy, indicator, validate)\u001b[0m\n\u001b[1;32m     45\u001b[0m                          \u001b[0mright_index\u001b[0m\u001b[0;34m=\u001b[0m\u001b[0mright_index\u001b[0m\u001b[0;34m,\u001b[0m \u001b[0msort\u001b[0m\u001b[0;34m=\u001b[0m\u001b[0msort\u001b[0m\u001b[0;34m,\u001b[0m \u001b[0msuffixes\u001b[0m\u001b[0;34m=\u001b[0m\u001b[0msuffixes\u001b[0m\u001b[0;34m,\u001b[0m\u001b[0;34m\u001b[0m\u001b[0;34m\u001b[0m\u001b[0m\n\u001b[1;32m     46\u001b[0m                          \u001b[0mcopy\u001b[0m\u001b[0;34m=\u001b[0m\u001b[0mcopy\u001b[0m\u001b[0;34m,\u001b[0m \u001b[0mindicator\u001b[0m\u001b[0;34m=\u001b[0m\u001b[0mindicator\u001b[0m\u001b[0;34m,\u001b[0m\u001b[0;34m\u001b[0m\u001b[0;34m\u001b[0m\u001b[0m\n\u001b[0;32m---> 47\u001b[0;31m                          validate=validate)\n\u001b[0m\u001b[1;32m     48\u001b[0m     \u001b[0;32mreturn\u001b[0m \u001b[0mop\u001b[0m\u001b[0;34m.\u001b[0m\u001b[0mget_result\u001b[0m\u001b[0;34m(\u001b[0m\u001b[0;34m)\u001b[0m\u001b[0;34m\u001b[0m\u001b[0;34m\u001b[0m\u001b[0m\n\u001b[1;32m     49\u001b[0m \u001b[0;34m\u001b[0m\u001b[0m\n",
      "\u001b[0;32m~/anaconda3/lib/python3.7/site-packages/pandas/core/reshape/merge.py\u001b[0m in \u001b[0;36m__init__\u001b[0;34m(self, left, right, how, on, left_on, right_on, axis, left_index, right_index, sort, suffixes, copy, indicator, validate)\u001b[0m\n\u001b[1;32m    527\u001b[0m         (self.left_join_keys,\n\u001b[1;32m    528\u001b[0m          \u001b[0mself\u001b[0m\u001b[0;34m.\u001b[0m\u001b[0mright_join_keys\u001b[0m\u001b[0;34m,\u001b[0m\u001b[0;34m\u001b[0m\u001b[0;34m\u001b[0m\u001b[0m\n\u001b[0;32m--> 529\u001b[0;31m          self.join_names) = self._get_merge_keys()\n\u001b[0m\u001b[1;32m    530\u001b[0m \u001b[0;34m\u001b[0m\u001b[0m\n\u001b[1;32m    531\u001b[0m         \u001b[0;31m# validate the merge keys dtypes. We may need to coerce\u001b[0m\u001b[0;34m\u001b[0m\u001b[0;34m\u001b[0m\u001b[0;34m\u001b[0m\u001b[0m\n",
      "\u001b[0;32m~/anaconda3/lib/python3.7/site-packages/pandas/core/reshape/merge.py\u001b[0m in \u001b[0;36m_get_merge_keys\u001b[0;34m(self)\u001b[0m\n\u001b[1;32m    844\u001b[0m                         \u001b[0mright_keys\u001b[0m\u001b[0;34m.\u001b[0m\u001b[0mappend\u001b[0m\u001b[0;34m(\u001b[0m\u001b[0mrk\u001b[0m\u001b[0;34m)\u001b[0m\u001b[0;34m\u001b[0m\u001b[0;34m\u001b[0m\u001b[0m\n\u001b[1;32m    845\u001b[0m                     \u001b[0;32mif\u001b[0m \u001b[0mlk\u001b[0m \u001b[0;32mis\u001b[0m \u001b[0;32mnot\u001b[0m \u001b[0;32mNone\u001b[0m\u001b[0;34m:\u001b[0m\u001b[0;34m\u001b[0m\u001b[0;34m\u001b[0m\u001b[0m\n\u001b[0;32m--> 846\u001b[0;31m                         \u001b[0mleft_keys\u001b[0m\u001b[0;34m.\u001b[0m\u001b[0mappend\u001b[0m\u001b[0;34m(\u001b[0m\u001b[0mleft\u001b[0m\u001b[0;34m.\u001b[0m\u001b[0m_get_label_or_level_values\u001b[0m\u001b[0;34m(\u001b[0m\u001b[0mlk\u001b[0m\u001b[0;34m)\u001b[0m\u001b[0;34m)\u001b[0m\u001b[0;34m\u001b[0m\u001b[0;34m\u001b[0m\u001b[0m\n\u001b[0m\u001b[1;32m    847\u001b[0m                         \u001b[0mjoin_names\u001b[0m\u001b[0;34m.\u001b[0m\u001b[0mappend\u001b[0m\u001b[0;34m(\u001b[0m\u001b[0mlk\u001b[0m\u001b[0;34m)\u001b[0m\u001b[0;34m\u001b[0m\u001b[0;34m\u001b[0m\u001b[0m\n\u001b[1;32m    848\u001b[0m                     \u001b[0;32melse\u001b[0m\u001b[0;34m:\u001b[0m\u001b[0;34m\u001b[0m\u001b[0;34m\u001b[0m\u001b[0m\n",
      "\u001b[0;32m~/anaconda3/lib/python3.7/site-packages/pandas/core/generic.py\u001b[0m in \u001b[0;36m_get_label_or_level_values\u001b[0;34m(self, key, axis)\u001b[0m\n\u001b[1;32m   1699\u001b[0m \u001b[0;34m\u001b[0m\u001b[0m\n\u001b[1;32m   1700\u001b[0m         \u001b[0;32mif\u001b[0m \u001b[0mself\u001b[0m\u001b[0;34m.\u001b[0m\u001b[0m_is_label_reference\u001b[0m\u001b[0;34m(\u001b[0m\u001b[0mkey\u001b[0m\u001b[0;34m,\u001b[0m \u001b[0maxis\u001b[0m\u001b[0;34m=\u001b[0m\u001b[0maxis\u001b[0m\u001b[0;34m)\u001b[0m\u001b[0;34m:\u001b[0m\u001b[0;34m\u001b[0m\u001b[0;34m\u001b[0m\u001b[0m\n\u001b[0;32m-> 1701\u001b[0;31m             \u001b[0mself\u001b[0m\u001b[0;34m.\u001b[0m\u001b[0m_check_label_or_level_ambiguity\u001b[0m\u001b[0;34m(\u001b[0m\u001b[0mkey\u001b[0m\u001b[0;34m,\u001b[0m \u001b[0maxis\u001b[0m\u001b[0;34m=\u001b[0m\u001b[0maxis\u001b[0m\u001b[0;34m)\u001b[0m\u001b[0;34m\u001b[0m\u001b[0;34m\u001b[0m\u001b[0m\n\u001b[0m\u001b[1;32m   1702\u001b[0m             \u001b[0mvalues\u001b[0m \u001b[0;34m=\u001b[0m \u001b[0mself\u001b[0m\u001b[0;34m.\u001b[0m\u001b[0mxs\u001b[0m\u001b[0;34m(\u001b[0m\u001b[0mkey\u001b[0m\u001b[0;34m,\u001b[0m \u001b[0maxis\u001b[0m\u001b[0;34m=\u001b[0m\u001b[0mother_axes\u001b[0m\u001b[0;34m[\u001b[0m\u001b[0;36m0\u001b[0m\u001b[0;34m]\u001b[0m\u001b[0;34m)\u001b[0m\u001b[0;34m.\u001b[0m\u001b[0m_values\u001b[0m\u001b[0;34m\u001b[0m\u001b[0;34m\u001b[0m\u001b[0m\n\u001b[1;32m   1703\u001b[0m         \u001b[0;32melif\u001b[0m \u001b[0mself\u001b[0m\u001b[0;34m.\u001b[0m\u001b[0m_is_level_reference\u001b[0m\u001b[0;34m(\u001b[0m\u001b[0mkey\u001b[0m\u001b[0;34m,\u001b[0m \u001b[0maxis\u001b[0m\u001b[0;34m=\u001b[0m\u001b[0maxis\u001b[0m\u001b[0;34m)\u001b[0m\u001b[0;34m:\u001b[0m\u001b[0;34m\u001b[0m\u001b[0;34m\u001b[0m\u001b[0m\n",
      "\u001b[0;32m~/anaconda3/lib/python3.7/site-packages/pandas/core/generic.py\u001b[0m in \u001b[0;36m_check_label_or_level_ambiguity\u001b[0;34m(self, key, axis)\u001b[0m\n\u001b[1;32m   1653\u001b[0m                             \u001b[0mlabel_article\u001b[0m\u001b[0;34m=\u001b[0m\u001b[0mlabel_article\u001b[0m\u001b[0;34m,\u001b[0m\u001b[0;34m\u001b[0m\u001b[0;34m\u001b[0m\u001b[0m\n\u001b[1;32m   1654\u001b[0m                             label_type=label_type)\n\u001b[0;32m-> 1655\u001b[0;31m             \u001b[0;32mraise\u001b[0m \u001b[0mValueError\u001b[0m\u001b[0;34m(\u001b[0m\u001b[0mmsg\u001b[0m\u001b[0;34m)\u001b[0m\u001b[0;34m\u001b[0m\u001b[0;34m\u001b[0m\u001b[0m\n\u001b[0m\u001b[1;32m   1656\u001b[0m \u001b[0;34m\u001b[0m\u001b[0m\n\u001b[1;32m   1657\u001b[0m     \u001b[0;32mdef\u001b[0m \u001b[0m_get_label_or_level_values\u001b[0m\u001b[0;34m(\u001b[0m\u001b[0mself\u001b[0m\u001b[0;34m,\u001b[0m \u001b[0mkey\u001b[0m\u001b[0;34m,\u001b[0m \u001b[0maxis\u001b[0m\u001b[0;34m=\u001b[0m\u001b[0;36m0\u001b[0m\u001b[0;34m)\u001b[0m\u001b[0;34m:\u001b[0m\u001b[0;34m\u001b[0m\u001b[0;34m\u001b[0m\u001b[0m\n",
      "\u001b[0;31mValueError\u001b[0m: 'City Or County' is both an index level and a column label, which is ambiguous."
     ]
    }
   ],
   "source": [
    "df3=df1.merge(df2)\n",
    "df3=df3.sort_values([\"State\",\"City Or County\"])\n",
    "df3 = df3.reindex_axis([\"State\",\"City Or County\",\"Total\"], axis=1)"
   ]
  },
  {
   "cell_type": "code",
   "execution_count": null,
   "metadata": {},
   "outputs": [],
   "source": [
    "latlong1=latlong[[\"city\",\"lat\",\"lng\",\"state_name\"]]\n",
    "latlong1=latlong1.rename(columns={'city':'City Or County','state_name':'State'})\n"
   ]
  },
  {
   "cell_type": "code",
   "execution_count": null,
   "metadata": {},
   "outputs": [],
   "source": [
    "df4=pd.merge(df3, latlong1, on=['State', 'City Or County']).drop_duplicates()\n",
    "\n",
    "Chart_3=df4"
   ]
  },
  {
   "cell_type": "code",
   "execution_count": null,
   "metadata": {},
   "outputs": [],
   "source": [
    "Chart_3"
   ]
  },
  {
   "cell_type": "markdown",
   "metadata": {},
   "source": [
    "## Chart-4- On average, there is around one mass shooting for each day in America"
   ]
  },
  {
   "cell_type": "markdown",
   "metadata": {},
   "source": []
  },
  {
   "cell_type": "markdown",
   "metadata": {},
   "source": [
    "The Description of the dataset has been discussed in the previous markdown\n",
    "\n",
    "**Processing the Data**\n",
    "\n",
    "1. Importing the files.\n",
    "2. Data Cleaning\n",
    "3. Creating a dummy variable for each row ,equal to 1\n",
    "4. Converting the Data from String to datetime64\n",
    "5. Grouping by the date and summing the the dummy variable, this addition describes the number of mass shootings occured within a day\n",
    "6. converting the dataset from series to Dataframe\n",
    "7. filling the Missing dates and filling in Total Shootings = 0 for the missing columns\n",
    "8. Returning the processed data set\n",
    "\n",
    "Repeat the steps for each dataset(2013-2019) by passing the raw data to function-__shooting_function()__"
   ]
  },
  {
   "cell_type": "code",
   "execution_count": null,
   "metadata": {},
   "outputs": [],
   "source": [
    "def shooting_function(df):\n",
    "    df=df.drop([\"Operations\"],axis=1)\n",
    "#df.index = df.index.astype(np.datetime64)\n",
    "    df[\"happening\"]=1\n",
    "    df[\"Incident Date\"] = df[\"Incident Date\"].astype(np.datetime64)\n",
    "    df1=df.groupby(\"Incident Date\").happening.sum()\n",
    "    df1=df1.to_frame()\n",
    "    df1 = df1.rename(columns={'happening':'Total'})\n",
    "    df1=df1.asfreq('1D',fill_value=0)\n",
    "    return df1"
   ]
  },
  {
   "cell_type": "code",
   "execution_count": null,
   "metadata": {},
   "outputs": [],
   "source": [
    "df_2013=shooting_function(y2013)\n",
    "df_2014=shooting_function(y2014)\n",
    "df_2015=shooting_function(y2015)\n",
    "df_2016=shooting_function(y2016)\n",
    "df_2017=shooting_function(y2017)\n",
    "df_2018=shooting_function(y2018)\n",
    "df_2019=shooting_function(y2019)"
   ]
  },
  {
   "cell_type": "markdown",
   "metadata": {},
   "source": [
    "## Chart-5 - States with more guns have more gun deaths"
   ]
  },
  {
   "cell_type": "markdown",
   "metadata": {},
   "source": [
    "\n",
    "+ Data Source(Firearms death rate per 100000)   :https://www.kff.org/other/state-indicator/firearms-death-rate-per-100000/?currentTimeframe=0&sortModel=%7B%22colId%22:%22Location%22,%22sort%22:%22asc%22%7D\n",
    "+ Data Source(Gun Ownership by State %) :https://www.cbsnews.com/pictures/gun-ownership-rates-by-state/\n",
    "+ Fetching Process     :Manual\n",
    "+ Need Cleaning        :Yes\n",
    "\n",
    "The Dataset used in **Chart-5** belongs to the year 2015.\n",
    "\n",
    "Note: \n",
    "+ the Dataset that records Firearms death rate per 100000 was cleaned manually on excel .Reason being that it gives an error on reading the raw file as it is.\n",
    "+ the Dataset that records gun ownership by state was made manually on excel by referring the article[https://www.cbsnews.com/pictures/gun-ownership-rates-by-state/]\n",
    "\n",
    "\n",
    "The Datasets contains the fields:\n",
    "\n",
    "__Firearms death rate per 100000 :__\n",
    "+ Location\n",
    "+ Firearms Death Rate per 100,000\n",
    "\n",
    "__Gun Ownership by State % :__\n",
    "+ Location\n",
    "+ Gun Ownership(percentage)\n",
    "\n",
    "\n",
    "\n",
    "\n",
    "**Processing the Data**\n",
    "1. Importing the files.\n",
    "2. Merging the datsets with Location as the key.\n",
    "\n"
   ]
  },
  {
   "cell_type": "code",
   "execution_count": null,
   "metadata": {},
   "outputs": [],
   "source": [
    "df=pd.read_csv(\"data/2015 deaths.csv\")\n",
    "df2=pd.read_csv(\"data/Gun ownership by 2015.csv\")"
   ]
  },
  {
   "cell_type": "code",
   "execution_count": null,
   "metadata": {},
   "outputs": [],
   "source": [
    "df3=df.merge(df2)"
   ]
  },
  {
   "cell_type": "code",
   "execution_count": null,
   "metadata": {},
   "outputs": [],
   "source": [
    "Chart_5=df3"
   ]
  },
  {
   "cell_type": "code",
   "execution_count": null,
   "metadata": {},
   "outputs": [],
   "source": [
    "Chart_5"
   ]
  },
  {
   "cell_type": "markdown",
   "metadata": {},
   "source": [
    "## Chart-6 - It’s not just the US: Developed countries with more guns also have more gun deaths"
   ]
  },
  {
   "cell_type": "markdown",
   "metadata": {},
   "source": [
    "There are 9 columns in this dataset:\n",
    "    --Country/territory\n",
    "    --ISO code\n",
    "    --Source\n",
    "    --% of homicides by firearm\n",
    "    --Number of homicides by firearm\n",
    "    --Homicide by firearm rate per 100,000 pop\n",
    "    --Rank by rate of ownership\n",
    "    --Average firearms per 100 people\n",
    "    --Average total all civilian firearms\n",
    "    \n",
    "we pick the country, Number of homicides by firearm, Average firearms per 100 people three columns to visualize the topic.\n",
    "\n",
    "Data Source: https://www.theguardian.com/news/datablog/2012/jul/22/gun-homicides-ownership-world-list"
   ]
  },
  {
   "cell_type": "code",
   "execution_count": null,
   "metadata": {
    "scrolled": true
   },
   "outputs": [],
   "source": [
    "#read in file\n",
    "gun6 = pd.read_csv('World firearms murders and ownership - Sheet 1.csv', sep = '\\t')\n",
    "\n",
    "#cleaning the data\n",
    "gun6.columns = ['Description']\n",
    "gun6 = gun6.Description.str.split(',', expand = True)\n",
    "\n",
    "#pick columns 0,5,7 reset columns names\n",
    "gun6 = gun6.iloc[:,[0,5,7]]\n",
    "gun6.columns = ['country', 'Number of homicides by firearm', 'Average firearms per 100 people']\n",
    "\n",
    "#drop na values\n",
    "gun6 = gun6.replace(r'', np.NaN)\n",
    "gun6 = gun6.dropna()\n",
    "\n",
    "gun6"
   ]
  },
  {
   "cell_type": "markdown",
   "metadata": {},
   "source": [
    "## Chart-7"
   ]
  },
  {
   "cell_type": "markdown",
   "metadata": {},
   "source": [
    "\n",
    "Data Scource: https://www.theguardian.com/news/datablog/2012/jul/22/gun-homicides-ownership-world-list"
   ]
  },
  {
   "cell_type": "code",
   "execution_count": null,
   "metadata": {},
   "outputs": [],
   "source": []
  },
  {
   "cell_type": "markdown",
   "metadata": {},
   "source": [
    "## Chart-8 - States with tighter gun control laws have fewer gun-related deaths"
   ]
  },
  {
   "cell_type": "markdown",
   "metadata": {},
   "source": [
    "This are two simple datasets can be used in this chart. \n",
    "\n",
    "First one has two columns, one for 50 States, the other is firearms death rate per 100,000. \n",
    "Data Source: https://www.kff.org/other/state-indicator/firearms-death-rate-per-100000/?currentTimeframe=0&sortModel=%7B%22colId%22:%22Location%22,%22sort%22:%22asc%22%7D\n"
   ]
  },
  {
   "cell_type": "code",
   "execution_count": null,
   "metadata": {},
   "outputs": [],
   "source": [
    "#read in the file\n",
    "gun81 = pd.read_table('chart81.csv')\n",
    "\n",
    "#eliminate other irrelevent rows, only keep 50 States information\n",
    "gun81 = gun81[3:54].reset_index().drop(columns = 'index')\n",
    "\n",
    "#cleaning the dataset into two columns\n",
    "gun81.columns = ['Description']\n",
    "gun81 = gun81.Description.str.split(',', expand = True)\n",
    "gun81.columns = ['State', 'Firearms Death Rate per 100,000']\n",
    "\n",
    "#change the data type into numerical\n",
    "gun81['Firearms Death Rate per 100,000'] = gun81['Firearms Death Rate per 100,000'].str.strip('\"\"').astype(float)\n"
   ]
  },
  {
   "cell_type": "markdown",
   "metadata": {},
   "source": [
    "The second dataset has 4 columns: State, children access prevention firmarms law, safe storage or gun lock requirement, assault weapon ban. We only need the first two columns, one for 50 States, the other is if the State has firmarm law or not. \n",
    "\n",
    "Data Source: https://www.kff.org/other/state-indicator/firearms-and-children-legislation/?currentTimeframe=0&sortModel=%7B%22colId%22:%22Location%22,%22sort%22:%22asc%22%7D\n"
   ]
  },
  {
   "cell_type": "code",
   "execution_count": null,
   "metadata": {},
   "outputs": [],
   "source": [
    "#read in the file\n",
    "gun82 = pd.read_table('chart82.csv')\n",
    "\n",
    "#cleaning the dataset, keep 50 States and two columns\n",
    "gun82 = gun82[3:54].reset_index().drop(columns = 'index')\n",
    "gun82.columns = ['Description']\n",
    "gun82 = gun82.Description.str.split(',', expand = True)\n",
    "gun82 = gun82.loc[:,0:1]\n",
    "gun82.columns = ['State', 'firearm law']\n",
    "\n",
    "#If the State has firearm law, it marks as 1, if not, it marks as 0.\n",
    "gun82['firearm law'] = gun82['firearm law'].apply(lambda x: 1 if x == '\"Yes\"' else 0)\n"
   ]
  },
  {
   "cell_type": "markdown",
   "metadata": {},
   "source": [
    "merge two table into one"
   ]
  },
  {
   "cell_type": "code",
   "execution_count": null,
   "metadata": {},
   "outputs": [],
   "source": [
    "gun8 = pd.merge(gun81, gun82, on = 'State')"
   ]
  },
  {
   "cell_type": "code",
   "execution_count": null,
   "metadata": {
    "scrolled": true
   },
   "outputs": [],
   "source": [
    "gun8"
   ]
  },
  {
   "cell_type": "markdown",
   "metadata": {},
   "source": [
    "## Chart-9 - Still, gun homicides (like all homicides) have declined over the past couple decades.\n",
    "## Chart-10 - Most gun deaths are suicides."
   ]
  },
  {
   "cell_type": "markdown",
   "metadata": {},
   "source": [
    "For **Chart#9** and **Chart#10** the data source is same. Fetching and cleaning process are same. Hence they are clubbed together.\n",
    "\n",
    "+ Data Source          :https://webappa.cdc.gov/sasweb/ncipc/mortrate.html\n",
    "+ Fetching Process     :Manual\n",
    "+ Need Cleaning        :Yes\n",
    "\n",
    "**Fetching Process**\n",
    "The data is downloaded from https://webappa.cdc.gov/sasweb/ncipc/mortrate.html.\n",
    "For **Chart#9** we need to collect data in two attempts. One for year range 1999 to 2017 and 1981 to 1998\n",
    "and for **Chart#10** we can run the query one year 1999 to 2017. We repeat the steps below for every year range or 'Intent or Manner of injury' either as Homicide or Suicide.\n",
    "\n",
    "1. In the above website given , choose the first option in year range as '1999 to 2017 (ICD-10), National and Regional' and choose Intent or Manner of injury as 'Homicide' as shown in [Picture-1](https://github.com/srivasud/Group7/blob/master/images/Q9-10-CDCImage-1.png)\n",
    "2. Choose 'Cause or mechanism of the injury' as 'Firearm' as shown in [Picture-2](https://github.com/srivasud/Group7/blob/master/images/Q9-10-CDCImage-2.png)\n",
    "3. Choose select 'Specific Options' as shown in [Picture-3](https://github.com/srivasud/Group7/blob/master/images/Q9-10-CDCImage-3.png)   \n",
    "4. Choose 'Advanced Options' as shown in [Picture-4](https://github.com/srivasud/Group7/blob/master/images/Q9-10-CDCImage-4.png)\n",
    "5. Click submit request. The result will be shown as a html page. Scroll to the bottom to download it as csv.\n",
    "6. Repeat the same steps for Chart-9 for the period 1981 to 1998 and download seperate csv.\n",
    "7. For Chart-10, the Intent or Manner of injury as 'Suicide' and year range from 1999 to 2017.\n",
    "\n",
    "We downloaded and uploaded 3 csv files (FirearmHomicide-1981-1998.csv,FirearmHomicide-1999-2018.csv,Firearm-Suicides-1999-2018.csv) to [data](https://github.com/srivasud/Group7/tree/master/data) folder in this repository.\n",
    "\n",
    "We run the below program and clean the data a bit and concatenates and puts into a single data frame.\n",
    "The explanation of the data/data frame after cleaning and removing unwanted columns is given below. \n",
    "Our final data frame contains the data of 'Firearm' caused deaths in USA with the following columns.\n",
    "+ Cause_of_Death - Its the cause or intent of death reported by firearm. The possible values are 'Suicide' or 'Homicide'.\n",
    "+ Year - The year reporting the data.\n",
    "+ Deaths - Total deaths reported due to Firearm with an intent either as Homicide or Suicide.\n",
    "+ Population - Total population in USA for that reported Year.\n",
    "+ Crude_Rate - Crude rate calculated per 100,000 , Formula used is (Total Deaths/ Total Population)*100,000."
   ]
  },
  {
   "cell_type": "code",
   "execution_count": null,
   "metadata": {},
   "outputs": [],
   "source": [
    "# Data Reading and Cleaning\n",
    "# FirearmHomicide-1981-1998.csv - Homicides by Firearm between 1981 to 1998\n",
    "# FirearmHomicide-1999-2018.csv - Homicides by Firearm between 1999 to 2017\n",
    "# Firearm-Suicides-1999-2018.csv - Suicides by Firearm between 1999 to 2017\n",
    "\n",
    "# Read Firearm homicide csv from 1981 to 1998 from GIT\n",
    "fire_arm_1 = pd.read_csv(\"https://raw.githubusercontent.com/srivasud/Group7/master/data/FirearmHomicide-1981-1998.csv\") \n",
    "\n",
    "# Remove the last row which is the summation row\n",
    "fire_arm_1=fire_arm_1[:-1] \n",
    "\n",
    "# Read Firearm homicide csv from 1999 to 2017 from GIT\n",
    "fire_arm_2 = pd.read_csv(\"https://raw.githubusercontent.com/srivasud/Group7/master/data/FirearmHomicide-1999-2018.csv\") \n",
    "# Remove the last row which is the summation row\n",
    "fire_arm_2=fire_arm_2[:-1] \n",
    "\n",
    "# Dropped the not needed column 'Age-Adjusted Rate'\n",
    "fire_arm_2.drop('Age-Adjusted Rate', axis=1, inplace=True)\n",
    "\n",
    "\n",
    "# Read Firearm suicide data from 1999 to 2017 from GIT\n",
    "firearm_suicide_2=pd.read_csv('https://raw.githubusercontent.com/srivasud/Group7/master/data/Firearm-Suicides-1999-2018.csv')\n",
    "# Remove the last row which is the summation row\n",
    "firearm_suicide_2=firearm_suicide_2[:-1]\n",
    "# Dropped the not needed column 'Age-Adjusted Rate'\n",
    "firearm_suicide_2.drop('Age-Adjusted Rate', axis=1, inplace=True)\n",
    "\n",
    "# Concat all the dataframes into one\n",
    "fa_homicide_suicide=pd.concat([fire_arm_1,fire_arm_2,firearm_suicide_2])\n",
    "\n",
    "# Convert the Year column into Integer data type.\n",
    "fa_homicide_suicide['Year']=fa_homicide_suicide['Year'].values.astype(np.int)\n",
    "\n",
    "fa_homicide_suicide.reset_index(inplace=True)\n",
    "\n",
    "# Drop unwanted columns such as index,sex,race,state,ethnicity,Age group, first year, last year\n",
    "fa_homicide_suicide.drop(['index','Sex','Race','State','Ethnicity','Age Group','First Year','Last Year'],axis=1,inplace=True)\n",
    "\n",
    "# Round the Crude Rate to 1 decimal point\n",
    "fa_homicide_suicide['Crude Rate']=fa_homicide_suicide['Crude Rate'].round(1)\n",
    "\n",
    "# Rename the columns without spaces between parts of the column names.\n",
    "cols=['Cause_of_Death','Year','Deaths','Population','Crude_Rate']\n",
    "fa_homicide_suicide.columns=cols\n",
    "fa_homicide_suicide['Cause_of_Death'] = fa_homicide_suicide['Cause_of_Death'].map({'Homicide Firearm':'Homicide', 'Suicide Firearm': 'Suicide'})\n",
    "fa_homicide_suicide.sample(10)"
   ]
  },
  {
   "cell_type": "markdown",
   "metadata": {},
   "source": [
    "## The states with the most guns report the most suicides"
   ]
  },
  {
   "cell_type": "markdown",
   "metadata": {},
   "source": [
    "**Data Source** : Suicide data available in https://webappa.cdc.gov/sasweb/ncipc/mortrate.html\n",
    "                  Firearms registered available in https://www.atf.gov/resource-center/data-statistics\n",
    "+ For Chart#11 , we need suicide death count caused by Firearm and NonFirearm is needed by State.\n",
    "+ The data is available in https://webappa.cdc.gov/sasweb/ncipc/mortrate.html website between the year 1999 to 2017\n",
    "+ The gun ownership data is available from https://www.atf.gov/resource-center/data-statistics under the section \"Firearms Commerce Report in the United States\". This is available as PDF and one of the page contains \"Exhibit 8. National Firearms Act Registered Weapons by State\" that contains total firearm registered (licensed) by each State until that Year.\n",
    "+ The rate of gun ownership is not defined clearly anywhere on how to use per capita income per State\n",
    "+ So we used our own formula gun_per1000 = (Total Guns owned by State per year/Total populate in the state per year)*1000\n",
    "\n",
    "**Fetching Process** is manual to fetch both Suicide data from CDC website. \n",
    "+ Please refer to markdown for Chart#10 above for steps on how to download from CDC.\n",
    "+ Firearms registered by State is downloaded (from https://www.atf.gov/resource-center/data-statistics) as a pdf manually for each year.\n",
    "+ We wrote a small [python program](https://github.com/srivasud/Group7/blob/master/Python-Jupyter-PDF-Dataframe.ipynb) to convert the \"Exhibit-8\" page from the downloaded pdf into a python data frame, we exported to excel for further processing for each year 2010,2011,2012,2013,2014,2016,2017.(Note: 2015 data could not be converted into data frame due to the nature of pdf page).\n",
    "+ These two datasets are joined on available Year and State.\n",
    "\n",
    "**Description of Data after Cleansing**\n",
    "+ Important Columns from this table:\n",
    "  + State - US State\n",
    "  + Total - Total Firearms which is sum of any firearm weapon,device, machinegun, silencer guns, short riffles, barreled guns\n",
    "  + Year  - Year of statistics\n",
    "  + Cause - Suicide caused by Firearm (Suicide-Firearm) or Suicide caused by Non-Firearm (Suicide-Non-Firearm).\n",
    "  + Deaths - Deaths in that state, year by the cause\n",
    "  + Population - Total population in that State, Year\n",
    "  + Guns_Per1000 - round((Total/Population)*1000)\n",
    "**The below program, just does the last stage cleansing**\n",
    "+ Join Licensed Total Firearms by State per Year with Deaths/State per Year caused by Firearm/NonfireArm\n",
    "+ Calculate Guns_Per1000"
   ]
  },
  {
   "cell_type": "code",
   "execution_count": null,
   "metadata": {},
   "outputs": [],
   "source": [
    "df=pd.read_csv('data/licensed_ownership_bystate.csv')\n",
    "df.reset_index(inplace=True)\n",
    "df1=pd.read_csv('data/1999-2017-State-SuicideFirearm.csv')\n",
    "df2=pd.read_csv('data/1999-2017-State-Suicide-NonFirearm.csv')\n",
    "miscState = {'North Carolina':'North_Carolina','South Carolina':'South_Carolina','North Dakota':'North_Dakota',\n",
    "                'South Dakota':'South_Dakota','New Hampshire':'New_Hampshire','New Jersey':'New_Jersey',\n",
    "                'New Mexico':'New_Mexico','Rhode Island':'Rhode_Island','West Virginia':'West_Virginia',\n",
    "                'New York':'New_York','Other US Territories':'Other_US_Territories','District of Columbia':'District_of_Columbia'\n",
    "                }\n",
    "df1=df1.replace({\"State\": miscState})\n",
    "df2=df2.replace({\"State\": miscState})\n",
    "final_df=pd.merge(df,df1,on=[\"State\",\"Year\"])\n",
    "final_df2=pd.merge(df,df2,on=[\"State\",\"Year\"])\n",
    "final_df['Guns_Per1000']=round((final_df['Total']/final_df['Population'])*1000)\n",
    "final_df2['Guns_Per1000']=round((final_df2['Total']/final_df2['Population'])*1000)\n",
    "final_dff=pd.concat([final_df,final_df2])\n",
    "final_dff.sample(10)"
   ]
  },
  {
   "cell_type": "markdown",
   "metadata": {},
   "source": [
    "## Chart-12"
   ]
  },
  {
   "cell_type": "code",
   "execution_count": null,
   "metadata": {},
   "outputs": [],
   "source": [
    "import pandas as pd \n",
    "import numpy as np\n",
    "import altair as alt\n",
    "from vega_datasets import data"
   ]
  },
  {
   "cell_type": "markdown",
   "metadata": {},
   "source": [
    "Chart#12 - Guns allow people to kill themselves more easily.\n",
    "\n",
    "Fatal Suicide data comes from the CDC webpage, and to recreate this visualization we need to have total number of attempts and actual deaths.\n",
    "This is a problem as there is no complete data on suicide attempts. (https://afsp.org/about-suicide/suicide-statistics/)\n",
    "Based on this, the best approximate statistic is non-fatal injuries form self-harm collected by the CDC.\n",
    "\n",
    "\n",
    "- Data Access :Yes. https://webappa.cdc.gov/sasweb/ncipc/mortrate.html & https://webappa.cdc.gov/sasweb/ncipc/nfirates.html\n",
    "- Up to Date :Yes, data is available from 2001-2017. Prior to 2001 there is no data on non fatal attempts.\n",
    "- Quality :Medium. Assumption made on suicide attempt data. No actual data on suicide attempts.\n",
    "- Data Source: The data is downloaded from https://www.cdc.gov/injury/wisqars/index.html"
   ]
  },
  {
   "cell_type": "markdown",
   "metadata": {},
   "source": [
    "** Steps followed to collect the data: *\n",
    "\n",
    "         We need to repeat the data collection process for year range 2001 to 2017 for both\n",
    "         Fatal and Non-Fatal Intent of the injury 'Self-Harm' and 'Suicide'.\n",
    "         1. choose Year range as '2001 to 2017 (ICD-10) National and Regional for fatal & 2001 to 2017 for non fatal'\n",
    "         2. choose Intent or Manner of injury as 'Suicide' for fatal and repeat the same \n",
    "            for 'Self-Harm' for non-fatal\n",
    "         3. choose Cause or mechanism of the injury as 'Firearm', 'poison' and 'cutting'\n",
    "         4. choose select specific options\n",
    "             Census Region: United States\n",
    "             Year of report: 2001 to 2017\n",
    "             Race: All races\n",
    "             Sex : Both Sexes\n",
    "         5. Advanced Options:\n",
    "             Select age groups: All\n",
    "             Select output groups: Year\n",
    "             Select Standardized Year for Age-Adjusting: Use 2000 as the standard year."
   ]
  },
  {
   "cell_type": "code",
   "execution_count": null,
   "metadata": {},
   "outputs": [],
   "source": [
    "# Read Fatal-Cut suicide data from 2001 to 2017 from GIT\n",
    "Fatal_cut=pd.read_csv('https://raw.githubusercontent.com/srivasud/Group7/master/data/Fatal-Cut.csv')"
   ]
  },
  {
   "cell_type": "code",
   "execution_count": null,
   "metadata": {},
   "outputs": [],
   "source": [
    "# Remove the last row which is the summation row\n",
    "Fatal_cut=Fatal_cut[:-1]"
   ]
  },
  {
   "cell_type": "code",
   "execution_count": null,
   "metadata": {},
   "outputs": [],
   "source": [
    "# Read Non-Fatal-Cut suicide data from 2001 to 2017 from GIT\n",
    "Nonfatal_cut=pd.read_csv('https://raw.githubusercontent.com/srivasud/Group7/master/data/nonfatal-Cut.csv')"
   ]
  },
  {
   "cell_type": "code",
   "execution_count": null,
   "metadata": {},
   "outputs": [],
   "source": [
    "# Read Fatal-Poison suicide data from 2001 to 2017 from GIT\n",
    "Fatal_Poison=pd.read_csv('https://raw.githubusercontent.com/srivasud/Group7/master/data/Fatal-Poison.csv')"
   ]
  },
  {
   "cell_type": "code",
   "execution_count": null,
   "metadata": {},
   "outputs": [],
   "source": [
    "# Remove the last row which is the summation row\n",
    "Fatal_Poison=Fatal_Poison[:-1]"
   ]
  },
  {
   "cell_type": "code",
   "execution_count": null,
   "metadata": {},
   "outputs": [],
   "source": [
    "# Read Non-Fatal-Poison suicide data from 2001 to 2017 from GIT\n",
    "NonFatal_Poison=pd.read_csv('https://raw.githubusercontent.com/srivasud/Group7/master/data/Nonfatal-Poison.csv')"
   ]
  },
  {
   "cell_type": "code",
   "execution_count": null,
   "metadata": {},
   "outputs": [],
   "source": [
    "# Read Fatal-gunshot suicide data from 2001 to 2017 from GIT\n",
    "Fatal_gunshot=pd.read_csv('https://raw.githubusercontent.com/srivasud/Group7/master/data/Fatal-gunshot.csv')"
   ]
  },
  {
   "cell_type": "code",
   "execution_count": null,
   "metadata": {},
   "outputs": [],
   "source": [
    "# Remove the last row which is the summation row\n",
    "Fatal_gunshot=Fatal_gunshot[:-1]"
   ]
  },
  {
   "cell_type": "code",
   "execution_count": null,
   "metadata": {},
   "outputs": [],
   "source": [
    "# Read Non-Fatal-gunshot suicide data from 2001 to 2017 from GIT\n",
    "NonFatal_gunshot=pd.read_csv('https://raw.githubusercontent.com/srivasud/Group7/master/data/nonfatal-gunshot.csv')"
   ]
  },
  {
   "cell_type": "code",
   "execution_count": null,
   "metadata": {},
   "outputs": [],
   "source": [
    "# Concat all the dataframes into one\n",
    "Attemptsvssuicides=pd.concat([Fatal_cut,Nonfatal_cut,Fatal_Poison,NonFatal_Poison,Fatal_gunshot,NonFatal_gunshot])"
   ]
  },
  {
   "cell_type": "code",
   "execution_count": null,
   "metadata": {},
   "outputs": [],
   "source": [
    "# Drop unwanted columns such as index,sex,race,state,ethnicity,Age group, first year, last year\n",
    "Attemptsvssuicides.drop(['Age Group','Age-Adjusted Rate','Ethnicity','Population','Ethnicity','Race','First Year','Race/Ethnicity','State','cv','records','Sex','Crude Rate'],axis=1,inplace=True)"
   ]
  },
  {
   "cell_type": "code",
   "execution_count": null,
   "metadata": {},
   "outputs": [],
   "source": [
    "# Rename the columns without spaces between parts of the column names.\n",
    "cols=['Suicide','Nonfatal','Deaths','Attempts','Last_Year']\n",
    "Attemptsvssuicides.columns=cols\n",
    "Attemptsvssuicides.head()"
   ]
  },
  {
   "cell_type": "code",
   "execution_count": null,
   "metadata": {},
   "outputs": [],
   "source": [
    "# Defined variables for pie chart\n",
    "Suicide_cut_pierce = Attemptsvssuicides.Deaths.values[0]\n",
    "Attempt_cut_pierce = 1533853\n",
    "Suicide_Poisoning = Attemptsvssuicides.Deaths.values[2]\n",
    "Attempt_Poisoning = 4116511\n",
    "Suicide_gunshot = Attemptsvssuicides.Deaths.values[4]\n",
    "Attempt_gunshot = 63672"
   ]
  },
  {
   "cell_type": "code",
   "execution_count": null,
   "metadata": {},
   "outputs": [],
   "source": [
    "#Creating the graph\n",
    "import plotly.graph_objs as go\n",
    "from plotly.offline import download_plotlyjs, init_notebook_mode, plot, iplot"
   ]
  },
  {
   "cell_type": "code",
   "execution_count": null,
   "metadata": {},
   "outputs": [],
   "source": [
    "init_notebook_mode(connected=True)"
   ]
  },
  {
   "cell_type": "code",
   "execution_count": null,
   "metadata": {},
   "outputs": [],
   "source": [
    "import plotly as py\n",
    "import plotly.graph_objs as go\n",
    "\n",
    "fig = {\n",
    "  \"data\": [\n",
    "    {\n",
    "      \"values\": [Suicide_cut_pierce, Attempt_cut_pierce],\n",
    "      \"labels\": [\n",
    "        \"Fatal\",\n",
    "        \"Non-Fatal\",\n",
    "        \n",
    "      ],\n",
    "      \"textposition\":\"outside\",\n",
    "      \"domain\": {\"column\": 0},\n",
    "      \"name\": \"Cutting\",\n",
    "      \"hoverinfo\":\"label+percent+name\",\n",
    "      \"hole\": .0,\n",
    "      \"type\": \"pie\"\n",
    "    },\n",
    "    {\n",
    "      \"values\": [Suicide_Poisoning,Attempt_Poisoning],\n",
    "      \"labels\": [\n",
    "        \"Fatal\",\n",
    "        \"Non-Fatal\",\n",
    "       \n",
    "      ],\n",
    "      \"text\":[\"Poison\"],\n",
    "      \"textposition\":\"outside\",\n",
    "      \"domain\": {\"column\": 1},\n",
    "      \"name\": \"Poison\",\n",
    "      \"hoverinfo\":\"label+percent+name\",\n",
    "      \"hole\": .0,\n",
    "      \"type\": \"pie\"\n",
    "        \n",
    "    },\n",
    "    {\n",
    "     \"values\": [Suicide_gunshot,Attempt_gunshot],\n",
    "      \"labels\": [\n",
    "        \"Fatal\",\n",
    "        \"Non-Fatal\",\n",
    "       \n",
    "      ],\n",
    "      \"text\":[\"Firearm\"],\n",
    "      \"textposition\":\"outside\",\n",
    "      \"domain\": {\"column\": 2},\n",
    "      \"name\": \"Firearm\",\n",
    "      \"hoverinfo\":\"label+percent+name\",\n",
    "      \"hole\": .0,\n",
    "      \"type\": \"pie\"       \n",
    "        \n",
    "    }],    \n",
    "\n",
    "  \"layout\": {\n",
    "        \"title\":\"Fatal Suicide attempts\",\n",
    "        \"grid\": {\"rows\": 3, \"columns\": 3},\n",
    "        \"annotations\": [\n",
    "            {\n",
    "                \"font\": {\n",
    "                    \"size\": 20\n",
    "                },\n",
    "                \"showarrow\": False,\n",
    "                \"text\": \"Cutting\",\n",
    "                \"x\": 0.10,\n",
    "                \"y\": 0.50\n",
    "            },\n",
    "            {\n",
    "                \"font\": {\n",
    "                    \"size\": 20\n",
    "                },\n",
    "                \"showarrow\": False,\n",
    "                \"text\": \"Poison\",\n",
    "                \"x\": 0.50,\n",
    "                \"y\": 0.50\n",
    "            },\n",
    "            {\n",
    "                \"font\": {\n",
    "                    \"size\": 20\n",
    "                },\n",
    "                \"showarrow\": False,\n",
    "                \"text\": \"Firearm\",\n",
    "                \"x\": 0.90,\n",
    "                \"y\": 0.50\n",
    "            }\n",
    "        ]\n",
    "    }\n",
    "}\n",
    "\n",
    "\n",
    "py.offline.iplot(fig)"
   ]
  },
  {
   "cell_type": "markdown",
   "metadata": {},
   "source": [
    "## Chart-13"
   ]
  },
  {
   "cell_type": "markdown",
   "metadata": {},
   "source": [
    "### Chart#13 - Policies that limit access to guns have decreased suicides\n",
    "\n",
    "Rate of firearm suicides after Australia's gun buyback program. Fatal Suicide data comes from Australian Bureau of Statistics. To recreate this visualization we need to have total number of actual deaths by Firearm. \n",
    "\n",
    "\n",
    "- Data Access :Yes. \n",
    "http://www.abs.gov.au/AUSSTATS/abs@.nsf/second+level+view?ReadForm&prodno=3303.0&viewtitle=Causes%20of%20Death,%20Australia~2017~Latest~26/09/2018&&tabname=Past%20Future%20Issues&prodno=3303.0&issue=2017&num=&view=&\n",
    "- Up to Date :Yes, data is available from 1993-2017. \n",
    "- Quality :Good.\n",
    "- Data Source: The data is downloaded from https://www.abs.gov.au/\n",
    "\n",
    "\n",
    "** Steps followed to collect the data: *\n",
    "\n",
    "     1. Go to https://www.abs.gov.au/\n",
    "     2. Choose Statistics - Health - Causes of Death - Causes of Death - Downloads - Different years\n",
    "     3. choose Intentional self-harm (Suicide)\n",
    "     4. Download to CSV file, save sheet 5 or mechanism of injury\n",
    "     5. CSV file needs to be modify to only include the persons data, as we are not interested in gender breakdown.\n",
    "     6. Remaining manipulation in Python"
   ]
  },
  {
   "cell_type": "code",
   "execution_count": null,
   "metadata": {},
   "outputs": [],
   "source": [
    "import pandas as pd \n",
    "import numpy as np"
   ]
  },
  {
   "cell_type": "code",
   "execution_count": null,
   "metadata": {},
   "outputs": [],
   "source": [
    "# Read Fatal-Cut suicide data from 1998 to 2006 from GIT\n",
    "Yr98_2007=pd.read_csv('https://raw.githubusercontent.com/srivasud/Group7/master/data/1998-2007.csv')"
   ]
  },
  {
   "cell_type": "code",
   "execution_count": null,
   "metadata": {},
   "outputs": [],
   "source": [
    "# Drop unwanted column\n",
    "Yr98_2007.drop(['Unnamed: 1','Unnamed: 2','Unnamed: 3','Unnamed: 4','Unnamed: 6','Unnamed: 7','Unnamed: 8','Unnamed: 9','Unnamed: 10',],axis=1,inplace=True)"
   ]
  },
  {
   "cell_type": "code",
   "execution_count": null,
   "metadata": {},
   "outputs": [],
   "source": [
    "# drop unwanted rows\n",
    "Yr1998_2007 = Yr98_2007.loc[31:40:]"
   ]
  },
  {
   "cell_type": "code",
   "execution_count": null,
   "metadata": {},
   "outputs": [],
   "source": [
    "# Rename the columns.\n",
    "cols=['Year','Suicides']\n",
    "Yr1998_2007.columns=cols"
   ]
  },
  {
   "cell_type": "code",
   "execution_count": null,
   "metadata": {},
   "outputs": [],
   "source": [
    "# reset index\n",
    "Yr1998_2007.reset_index(inplace=True)\n",
    "# Drop unwanted column\n",
    "Yr1998_2007.drop(['index'],axis=1,inplace=True)"
   ]
  },
  {
   "cell_type": "code",
   "execution_count": null,
   "metadata": {},
   "outputs": [],
   "source": [
    "#change string type to float\n",
    "Yr1998_2007['Suicides'] = Yr1998_2007.Suicides.astype(float)"
   ]
  },
  {
   "cell_type": "code",
   "execution_count": null,
   "metadata": {},
   "outputs": [],
   "source": [
    "# First file\n",
    "Yr1998_2007.head()"
   ]
  },
  {
   "cell_type": "markdown",
   "metadata": {},
   "source": [
    "####  Second file"
   ]
  },
  {
   "cell_type": "code",
   "execution_count": null,
   "metadata": {},
   "outputs": [],
   "source": [
    "import pandas as pd \n",
    "import numpy as np"
   ]
  },
  {
   "cell_type": "code",
   "execution_count": null,
   "metadata": {},
   "outputs": [],
   "source": [
    "# Read Fatal-Cut suicide data from 2008 to 2017 from GIT\n",
    "Yr08_2017=pd.read_csv('https://raw.githubusercontent.com/srivasud/Group7/master/data/2008-2017.csv', header=0)"
   ]
  },
  {
   "cell_type": "code",
   "execution_count": null,
   "metadata": {},
   "outputs": [],
   "source": [
    "# getting rid of unwanted rows\n",
    "Yr08_2017 = Yr08_2017.loc[3:3:]"
   ]
  },
  {
   "cell_type": "code",
   "execution_count": null,
   "metadata": {},
   "outputs": [],
   "source": [
    "# transpose rows and columns\n",
    "Yr08_2017 = Yr08_2017.set_index('Unnamed: 0').transpose()"
   ]
  },
  {
   "cell_type": "code",
   "execution_count": null,
   "metadata": {},
   "outputs": [],
   "source": [
    "# reset index\n",
    "Yr08_2017.reset_index(inplace = True)"
   ]
  },
  {
   "cell_type": "code",
   "execution_count": null,
   "metadata": {},
   "outputs": [],
   "source": [
    "# rename column index\n",
    "Yr08_2017.rename(columns={'index':'Year'},inplace = True)"
   ]
  },
  {
   "cell_type": "code",
   "execution_count": null,
   "metadata": {},
   "outputs": [],
   "source": [
    "# Concat all the dataframes into one\n",
    "Newdf=pd.concat([Yr08_2017,Yr1998_2007])"
   ]
  },
  {
   "cell_type": "code",
   "execution_count": null,
   "metadata": {},
   "outputs": [],
   "source": [
    "# sort by year\n",
    "Newdf.sort_values('Year',inplace=True)"
   ]
  },
  {
   "cell_type": "code",
   "execution_count": null,
   "metadata": {},
   "outputs": [],
   "source": [
    "# fill na with zeros\n",
    "Newdf.fillna(0,inplace=True)"
   ]
  },
  {
   "cell_type": "code",
   "execution_count": null,
   "metadata": {},
   "outputs": [],
   "source": [
    "#reset index\n",
    "Newdf.reset_index(inplace=True)"
   ]
  },
  {
   "cell_type": "code",
   "execution_count": null,
   "metadata": {},
   "outputs": [],
   "source": [
    "# drop index column\n",
    "Newdf.drop(columns = 'index',inplace=True)"
   ]
  },
  {
   "cell_type": "code",
   "execution_count": null,
   "metadata": {},
   "outputs": [],
   "source": [
    "# create new column with total suicides\n",
    "Newdf['totalsuicides'] = Newdf.Firearms + Newdf.Suicides"
   ]
  },
  {
   "cell_type": "code",
   "execution_count": null,
   "metadata": {},
   "outputs": [],
   "source": [
    "# new column suicide per 1000 residents\n",
    "Newdf['suicideper1000residents']= (Newdf.totalsuicides / 100000) *1000"
   ]
  },
  {
   "cell_type": "code",
   "execution_count": null,
   "metadata": {},
   "outputs": [],
   "source": [
    "X = Newdf.Year "
   ]
  },
  {
   "cell_type": "code",
   "execution_count": null,
   "metadata": {},
   "outputs": [],
   "source": [
    "Y = Newdf.suicideper1000residents "
   ]
  },
  {
   "cell_type": "code",
   "execution_count": null,
   "metadata": {},
   "outputs": [],
   "source": [
    "import matplotlib.pyplot as plt"
   ]
  },
  {
   "cell_type": "code",
   "execution_count": null,
   "metadata": {},
   "outputs": [],
   "source": [
    "plt.plot(X,Y)"
   ]
  },
  {
   "cell_type": "markdown",
   "metadata": {},
   "source": [
    "## Chart-14"
   ]
  },
  {
   "cell_type": "markdown",
   "metadata": {},
   "source": [
    "### Chart#14 - In states with more guns, more police officers are also killed on duty\n",
    "\n",
    "Police officers are more likely to be killed in homicides in states with more guns. \n",
    "\n",
    "Data comes from https://www.odmp.org/search/browse and https://www.atf.gov/file/130436/download.\n",
    "\n",
    "\n",
    "- Data Access :Yes. \n",
    "https://www.odmp.org/search/browse\n",
    "https://www.atf.gov/file/130436/download\n",
    "\n",
    "- Up to Date :Yes, data is available from 2010-2017 for gun ownership and for office fatality 1808-2019. \n",
    "- Quality : Medium\n",
    "- Data Source: The data is downloaded from https://www.odmp.org/search/browse\n",
    "https://www.atf.gov/file/130436/download\n",
    "\n",
    "\n",
    "** Steps followed to collect the data: *\n",
    "\n",
    "     1. Scrap information from PDF files by year for gun ownership\n",
    "     2. There is no data set for officer fatality. However, there is vizualizations and documents that summarize fatalities\n",
    "     3. I had to create a manual excel file of officers gun fire fatality by state.\n",
    "     4. Remaining manipulation in Python"
   ]
  },
  {
   "cell_type": "code",
   "execution_count": null,
   "metadata": {},
   "outputs": [],
   "source": [
    "import pandas as pd \n",
    "import numpy as np"
   ]
  },
  {
   "cell_type": "code",
   "execution_count": null,
   "metadata": {},
   "outputs": [],
   "source": [
    "# Read gun ownership by state from GIT\n",
    "Ownership=pd.read_csv('https://raw.githubusercontent.com/srivasud/Group7/master/data/licensed_ownership_bystate.csv')"
   ]
  },
  {
   "cell_type": "code",
   "execution_count": null,
   "metadata": {},
   "outputs": [],
   "source": [
    "# Drop unwanted columns \n",
    "Ownership.drop(['Unnamed: 0','weapons','machinegun','short_barreled_rifle','short_barreled_gun','silencer'],axis=1,inplace=True)"
   ]
  },
  {
   "cell_type": "code",
   "execution_count": null,
   "metadata": {},
   "outputs": [],
   "source": [
    "# group by and to new frame\n",
    "gunownership = Ownership.groupby('state')['Total'].sum().to_frame()"
   ]
  },
  {
   "cell_type": "code",
   "execution_count": null,
   "metadata": {},
   "outputs": [],
   "source": [
    "# We have the total gun ownership by states\n",
    "gunownership.head()"
   ]
  },
  {
   "cell_type": "code",
   "execution_count": null,
   "metadata": {},
   "outputs": [],
   "source": [
    "# average number of gun ownership\n",
    "mean = gunownership.Total.mean()\n",
    "mean"
   ]
  },
  {
   "cell_type": "code",
   "execution_count": null,
   "metadata": {},
   "outputs": [],
   "source": [
    "# Group of states with high gunownership\n",
    "High_states = gunownership[gunownership.Total > mean]\n",
    "High_states.head()"
   ]
  },
  {
   "cell_type": "code",
   "execution_count": null,
   "metadata": {},
   "outputs": [],
   "source": [
    "## Group of states with low gunownership\n",
    "Low_states = gunownership[gunownership.Total < mean]\n",
    "Low_states.head()"
   ]
  },
  {
   "cell_type": "markdown",
   "metadata": {},
   "source": [
    "File 2"
   ]
  },
  {
   "cell_type": "code",
   "execution_count": null,
   "metadata": {},
   "outputs": [],
   "source": [
    "# Read gun fire officer fatalities by state from GIT\n",
    "statefatalities=pd.read_csv('https://raw.githubusercontent.com/srivasud/Group7/master/data/stateofficersdeath.csv')"
   ]
  },
  {
   "cell_type": "code",
   "execution_count": null,
   "metadata": {},
   "outputs": [],
   "source": [
    "# drom unwated columns\n",
    "statefatalities.drop(columns=['id'], inplace = True )"
   ]
  },
  {
   "cell_type": "code",
   "execution_count": null,
   "metadata": {},
   "outputs": [],
   "source": [
    "# Rename the columns \n",
    "cols=['State','abbr','gunfire_deaths']\n",
    "statefatalities.columns=cols\n",
    "statefatalities.head()"
   ]
  },
  {
   "cell_type": "markdown",
   "metadata": {},
   "source": [
    "We now have 2 groups, one with low gun ownership and the other with high. We also have gunfire fatalities of police officers by state. These information would allow us to reproduce visualization 14."
   ]
  },
  {
   "cell_type": "code",
   "execution_count": null,
   "metadata": {},
   "outputs": [],
   "source": []
  },
  {
   "cell_type": "markdown",
   "metadata": {},
   "source": [
    "## Chart-15"
   ]
  },
  {
   "cell_type": "markdown",
   "metadata": {},
   "source": []
  },
  {
   "cell_type": "code",
   "execution_count": null,
   "metadata": {},
   "outputs": [],
   "source": []
  },
  {
   "cell_type": "markdown",
   "metadata": {},
   "source": [
    "## Chart 17"
   ]
  },
  {
   "cell_type": "markdown",
   "metadata": {},
   "source": [
    "For __Chart 17__, the data can be obtained from Pew Research (you'll need to create an account to gain access to their excellent database of survey data)."
   ]
  },
  {
   "cell_type": "markdown",
   "metadata": {},
   "source": [
    "For this chart, the data can be downloaded from [this link](https://www.pewsocialtrends.org/2017/06/22/americas-complex-relationship-with-guns/).\n",
    "\n",
    "Note that it comes zipped with the actual questionnaire and methodology. To load the dataset, you'll need to use pyreadstat to load in the .sav file included in the download. You'll immediately notice that the data is incredibly complex and measures about 130 different variables, as do most well constructed surveys do.\n",
    "\n",
    "Because of the complexity and requirement to understand the research methodology in order to replicate the charts, we won't attempt this feat for now.\n",
    "\n",
    "(Even Vox didn't recreate the charts; they simply published the ones made by Pew Research onto their website!)"
   ]
  },
  {
   "cell_type": "markdown",
   "metadata": {},
   "source": [
    "Here's the data anyway:"
   ]
  },
  {
   "cell_type": "code",
   "execution_count": null,
   "metadata": {},
   "outputs": [],
   "source": [
    "import pyreadstat\n",
    "\n",
    "w28, meta = pyreadstat.read_sav('https://raw.githubusercontent.com/srivasud/Group7/master/data/ATP W28.sav')"
   ]
  },
  {
   "cell_type": "markdown",
   "metadata": {},
   "source": [
    "And proof that the dataset is complex:"
   ]
  },
  {
   "cell_type": "code",
   "execution_count": null,
   "metadata": {},
   "outputs": [],
   "source": [
    "shape(w28)"
   ]
  },
  {
   "cell_type": "code",
   "execution_count": null,
   "metadata": {},
   "outputs": [],
   "source": [
    "w28[:10]"
   ]
  },
  {
   "cell_type": "code",
   "execution_count": null,
   "metadata": {},
   "outputs": [],
   "source": [
    "w28.columns.unique()"
   ]
  }
 ],
 "metadata": {
  "kernelspec": {
   "display_name": "Python 3",
   "language": "python",
   "name": "python3"
  },
  "language_info": {
   "codemirror_mode": {
    "name": "ipython",
    "version": 3
   },
   "file_extension": ".py",
   "mimetype": "text/x-python",
   "name": "python",
   "nbconvert_exporter": "python",
   "pygments_lexer": "ipython3",
   "version": "3.7.3"
  },
  "toc": {
   "base_numbering": 1,
   "nav_menu": {},
   "number_sections": true,
   "sideBar": true,
   "skip_h1_title": false,
   "title_cell": "Table of Contents",
   "title_sidebar": "Contents",
   "toc_cell": false,
   "toc_position": {},
   "toc_section_display": true,
   "toc_window_display": false
  }
 },
 "nbformat": 4,
 "nbformat_minor": 2
}
