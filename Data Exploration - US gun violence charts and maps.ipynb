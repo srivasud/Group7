{
 "cells": [
  {
   "cell_type": "code",
   "execution_count": 3,
   "metadata": {},
   "outputs": [
    {
     "name": "stdout",
     "output_type": "stream",
     "text": [
      "Populating the interactive namespace from numpy and matplotlib\n"
     ]
    }
   ],
   "source": [
    "%pylab inline\n",
    "import pandas as pd\n",
    "import altair as alt\n",
    "import re\n",
    "from IPython.display import Image"
   ]
  },
  {
   "cell_type": "code",
   "execution_count": null,
   "metadata": {},
   "outputs": [],
   "source": []
  },
  {
   "cell_type": "markdown",
   "metadata": {},
   "source": [
    "# Summary\n",
    "\n",
    "Note:  \n",
    "Data Quality (Excellent/Good/Bad)  \n",
    "Up-to Date: Yes (Available until 2019) / No (Unavailable until 2019)\n",
    "\n",
    "| Chart Number  | Data Access   |Up-to Date    |Data Quality  |Comments      |\n",
    "| ------------- | ------------- |--------------|--------------|--------------|\n",
    "| Chart-1        | Yes           |No            |Excellent     |Data Available up to 2017|\n",
    "| Chart-2        | Yes           |No            |Excellent     |Data Available up to 2017|\n",
    "| Chart-3        | yes           |yes           |Excellent     |Latest Data|\n",
    "| Chart-4        | yes           |yes           |Excellent     |Latest Data|\n",
    "| Chart-5        | yes           |No            |Good          |Had to manually fill in data;Latest version of data from 2015|\n",
    "| Chart-6        | ------------- |--------------|--------------|--------------|\n",
    "| Chart-7        | ------------- |--------------|--------------|--------------|\n",
    "| Chart-8        | ------------- |--------------|--------------|--------------|\n",
    "| Chart-9        | Yes           |No            |Excellent     |Data Available until 2017|\n",
    "| Chart-10       | Yes           |No            |Excellent     |Data Available until 2017|\n",
    "| Chart-11       | No            |No            |Bad           |Gun ownership Rate is not defined,Ownership data is  available as pdf|\n",
    "| Chart-12       | ------------- |--------------|--------------|--------------|\n",
    "| Chart-13       | ------------- |--------------|--------------|--------------|\n",
    "| Chart-14       | ------------- |--------------|--------------|--------------|\n",
    "| Chart-15       | Yes           |Yes           |Excellent       |Data Available until 2017|\n",
    "| Chart-16       | Yes           |Yes           |Excellent            |Data Available until 2017|\n",
    "\n",
    "In the below sections we will explain where (the data access/source), what (description) and how (cleansing process for the above charts) the data for the above chart is prepared. Each chart (or group of charts) will have heading section followed by where,how and what about the data.\n"
   ]
  },
  {
   "cell_type": "markdown",
   "metadata": {},
   "source": [
    "## Chart-1"
   ]
  },
  {
   "cell_type": "markdown",
   "metadata": {},
   "source": [
    "For the __Chart 1__ and __Chart 2__, we obtained the data from this [Guardian article](https://www.theguardian.com/news/datablog/2012/jul/22/gun-homicides-ownership-world-list#data). The data had to be manually downloaded as a .csv and read into the notebook. \n",
    "\n",
    "Get data here: https://docs.google.com/spreadsheets/d/1chqUZHuY6cXYrRYkuE0uwXisGaYvr7durZHJhpLGycs/edit#gid=0"
   ]
  },
  {
   "cell_type": "markdown",
   "metadata": {},
   "source": [
    "#### Read in the file"
   ]
  },
  {
   "cell_type": "code",
   "execution_count": 2,
   "metadata": {},
   "outputs": [],
   "source": [
    "df = pd.read_csv('https://raw.githubusercontent.com/srivasud/Group7/master/data/guardian.csv', index_col = False)"
   ]
  },
  {
   "cell_type": "markdown",
   "metadata": {},
   "source": [
    "It looks like there is a column measuring homicide by firearm rate per 100 thousand population. To recreate the Vox visualization, we will have to create a new column 'fire_hom_m' that measures the homicide by firearm rate per 1 mil population."
   ]
  },
  {
   "cell_type": "code",
   "execution_count": 3,
   "metadata": {},
   "outputs": [],
   "source": [
    "df['fire_hom_m'] = df['Homicide by firearm rate per 100,000 pop'] * 10\n",
    "\n",
    "df2 = df.dropna().reset_index(drop = True)"
   ]
  },
  {
   "cell_type": "markdown",
   "metadata": {},
   "source": [
    "Next, we will declare a list of only countries we want to visualize. Looks like the Vox chart only has a selected list of developed countries."
   ]
  },
  {
   "cell_type": "code",
   "execution_count": 4,
   "metadata": {},
   "outputs": [],
   "source": [
    "# List of selected developed countries\n",
    "ls = ['Australia', 'New Zealand', 'Germany', 'Austria', 'Denmark',\\\n",
    "     'Netherlands', 'Sweden', 'Finland', 'Ireland', 'Canada', 'Luxembourg', 'Belgium',\\\n",
    "     'Switzerland', 'United States']\n",
    "\n",
    "# We sort the table by fire_hom_m values in ascending order. We leave the index unchanged in case we want the original order.\n",
    "adv = df2[df2['Country/Territory'].isin(ls)].reset_index(drop = True)\n",
    "adv = adv.sort_values(by = 'fire_hom_m')"
   ]
  },
  {
   "cell_type": "markdown",
   "metadata": {},
   "source": [
    "The dataframe is now ready to use for visualizing __Chart 1__"
   ]
  },
  {
   "cell_type": "markdown",
   "metadata": {},
   "source": [
    "#### Visualization"
   ]
  },
  {
   "cell_type": "markdown",
   "metadata": {},
   "source": [
    "We can replicate this chart by using Altair's Isotype Visualization, as outlined here: https://altair-viz.github.io/gallery/isotype.html"
   ]
  },
  {
   "cell_type": "markdown",
   "metadata": {},
   "source": [
    "## Chart-2"
   ]
  },
  {
   "cell_type": "markdown",
   "metadata": {},
   "source": [
    "For __Chart(s) 2__, we will have to calculate proportions of two things:\n",
    "1. The proportion of _US population_ to the global population, and,\n",
    "2. The proportion of _US civilian gun ownership_ to global civilian gun ownership"
   ]
  },
  {
   "cell_type": "markdown",
   "metadata": {},
   "source": [
    "Based on the information already in hand, it seems we already have data to address (2) using the 'Average total all civilian firearms' field."
   ]
  },
  {
   "cell_type": "code",
   "execution_count": 8,
   "metadata": {},
   "outputs": [
    {
     "name": "stdout",
     "output_type": "stream",
     "text": [
      "Americans own 41.9% of the world's guns.\n"
     ]
    }
   ],
   "source": [
    "# Calculates the proportion of US gun ownership to the global gun ownership rate.\n",
    "us_guns_prop = df[df['ISO code'] == 'US'].iloc[:,-2].sum() / df.iloc[:,-2].sum()\n",
    "print('Americans own ' + str(round(us_guns_prop, 3) * 100) + '% of the world\\'s guns.')"
   ]
  },
  {
   "cell_type": "markdown",
   "metadata": {},
   "source": [
    "This result is consistent with the percentage presented by Vox in the RHS chart.\n",
    "\n",
    "To recreate the LHS chart, we have to be slightly crafty and utilize some assumptions. Witness the strength of street knowledge:\n",
    "\n",
    "- We can safely assume that the world population today is somewhere around 7 billion people, while the current US population is about 320 million people.\n",
    "\n",
    "We'll have to validate this using some [World Bank data](https://data.worldbank.org/indicator/sp.pop.totl) (by way of Wikipedia). This dataset is up to date as of 2017.\n",
    "\n",
    "__Note: the .csv file needs to be manipulated in a text editor to remove the first 4 lines of header. pd.read.csv will throw an error if these lines are not removed.__"
   ]
  },
  {
   "cell_type": "code",
   "execution_count": 9,
   "metadata": {},
   "outputs": [],
   "source": [
    "bank = pd.read_csv('https://raw.githubusercontent.com/srivasud/Group7/master/data/world_bank_pop_2017.csv', index_col = False, encoding = 'latin1')"
   ]
  },
  {
   "cell_type": "code",
   "execution_count": 25,
   "metadata": {},
   "outputs": [],
   "source": [
    "def pop_prop(country, year):\n",
    "    \n",
    "    if year < 1960:\n",
    "        print('Please enter 1960 or later.')\n",
    "    elif year > 2017:\n",
    "        print('Please enter 2017 or earlier.')\n",
    "    else:\n",
    "        # List of regex filters we don't want to be part of our global population calculation\n",
    "        filt = '.*&.*|.*Income.*|.*North America.*|.*Asia.*|.*Europe.*|.*dividend.*|.*area.*|.*conflict.*|.*indebted.*|.*only.*|.*IDA.*|.*classified.*|.*developed.*|.*income.*|.*World.*|.*Sub-Saharan.*|.*states.*|.*members.*'\n",
    "\n",
    "        # Calculates the global pop. and US pop. separetely, then prints the proportion as a string\n",
    "        total_pop = bank[((bank['Country Name'].str.match(filt) - 1) * -1).astype('bool')][str(year)].sum()\n",
    "        us_pop = bank[bank['Country Name'] == country][str(year)].sum()\n",
    "\n",
    "        print(country + ' makes up ' + str(round(us_pop / total_pop, 4) * 100) + '% of the world population.')"
   ]
  },
  {
   "cell_type": "code",
   "execution_count": 26,
   "metadata": {},
   "outputs": [
    {
     "name": "stdout",
     "output_type": "stream",
     "text": [
      "United States makes up 4.33% of the world population.\n"
     ]
    }
   ],
   "source": [
    "pop_prop('United States', 2017)"
   ]
  },
  {
   "cell_type": "markdown",
   "metadata": {},
   "source": [
    "It seems our calculations are overestimating the total world population, but we're within 10 basis points of Vox's calculations, so it's fine."
   ]
  },
  {
   "cell_type": "markdown",
   "metadata": {},
   "source": [
    "#### Visualization"
   ]
  },
  {
   "cell_type": "markdown",
   "metadata": {},
   "source": [
    "Again, we will use Altair's Isotype Grid Visualization outlined here: https://altair-viz.github.io/gallery/isotype_grid.html"
   ]
  },
  {
   "cell_type": "markdown",
   "metadata": {},
   "source": [
    "## Chart-3-There have been more than 1,600 mass shootings since Sandy Hook"
   ]
  },
  {
   "cell_type": "markdown",
   "metadata": {},
   "source": [
    "The dataset is the same for __Chart-3__ and chart __Chart-4__.But will be manipulated according to the need of the visulaizations.__Chart-3__ uses an additional file.\n",
    "\n",
    "\n",
    "+ Data Source(for Chart-3 and Chart-4)   :https://www.gunviolencearchive.org/reports\n",
    "+ Data Source(Chart-3 only) :https://simplemaps.com/data/us-cities\n",
    "+ Fetching Process     :Manual\n",
    "+ Need Cleaning        :Yes\n",
    "\n",
    "\n",
    "The Data used in **Chart-3** and **Chart-4** were collected individually for the years 2013 to 2019.\n",
    "This data records the majority of reported mass shooting in the US.The information captured is a follows\n",
    "+ Incident Date\n",
    "+ State\n",
    "+ City Or County\n",
    "+ #Killed:The number of people killed in the incident\n",
    "+ #Injured:The number of people injured in the incident\n",
    "+ Operations: is N/A in the table , but on the website it redirects to article related to the incident.\n",
    "\n",
    "The additional data used in __Chart-3__ gives us the co-ordnates for each city in the US.The data has many fields, but the ones we were interested in were:\n",
    "+ city\n",
    "+ state_name\n",
    "+ lat:Captures the latitude for the city\n",
    "+ lng:Captures the longitude for the city\n",
    "\n",
    "**Processing the Data**\n",
    "1. Importing the files.\n",
    "2. Concatinating the files that captured data on Mass Shootings.from 2013-2019\n",
    "3. Creating a Dummy variable for each row.\n",
    "4. Grouping the data by \"City or County\"\n",
    "5. Summing the dummy varibale introduced earlier .The sum gives the count of Mass Shootings done in the city so far.\n",
    "6. Reading in the additional file captures the zipcode\n",
    "7. Renaming the Columns so that it matches :\"City or County\" and \"State\"\n",
    "8. Merging the The two datasets based on city name and state.\n",
    "9. The Final Output is a Dataframe with State,City,Total Mass Shootings,latitude and Longitude of the city.\n"
   ]
  },
  {
   "cell_type": "code",
   "execution_count": 25,
   "metadata": {},
   "outputs": [],
   "source": [
    "#Source:https://www.gunviolencearchive.org/reports\n",
    "y2013=pd.read_csv(\"data/Mass shooting pic3 y2013.csv\")\n",
    "y2014=pd.read_csv(\"data/Mass shooting pic3 y2014.csv\")\n",
    "y2015=pd.read_csv(\"data/Mass shooting pic3 y2015.csv\")\n",
    "y2016=pd.read_csv(\"data/Mass shooting pic3 y2016.csv\")\n",
    "y2017=pd.read_csv(\"data/Mass shooting pic3 y2017.csv\")\n",
    "y2018=pd.read_csv(\"data/Mass shooting pic3 y2018.csv\")\n",
    "y2019=pd.read_csv(\"data/Mass shooting pic3 y2019.csv\")\n",
    "\n",
    "#Source:https://simplemaps.com/data/us-cities\n",
    "latlong=pd.read_csv(\"data/uscitiesv1.5.csv\")"
   ]
  },
  {
   "cell_type": "code",
   "execution_count": 26,
   "metadata": {},
   "outputs": [],
   "source": [
    "df=pd.concat([y2013, y2014,y2015,y2016,y2017,y2018,y2019])\n",
    "df[\"happening_dummy\"]=1\n",
    "df1=df.groupby([\"City Or County\"])[\"happening_dummy\"].sum()\n",
    "df1=df1.to_frame()\n",
    "df1 = df1.rename(columns={'happening_dummy':'Total'})\n",
    "df1[\"City Or County\"]=df1.index"
   ]
  },
  {
   "cell_type": "code",
   "execution_count": 27,
   "metadata": {},
   "outputs": [],
   "source": [
    "df2=df[[\"City Or County\",\"State\"]]\n",
    "df2=df2.drop_duplicates()\n"
   ]
  },
  {
   "cell_type": "code",
   "execution_count": 28,
   "metadata": {},
   "outputs": [
    {
     "name": "stderr",
     "output_type": "stream",
     "text": [
      "C:\\Users\\KushallYash\\Anaconda3\\lib\\site-packages\\ipykernel_launcher.py:1: FutureWarning: 'City Or County' is both an index level and a column label.\n",
      "Defaulting to column, but this will raise an ambiguity error in a future version\n",
      "  \"\"\"Entry point for launching an IPython kernel.\n",
      "C:\\Users\\KushallYash\\Anaconda3\\lib\\site-packages\\ipykernel_launcher.py:3: FutureWarning: '.reindex_axis' is deprecated and will be removed in a future version. Use '.reindex' instead.\n",
      "  This is separate from the ipykernel package so we can avoid doing imports until\n"
     ]
    }
   ],
   "source": [
    "df3=df1.merge(df2)\n",
    "df3=df3.sort_values([\"State\",\"City Or County\"])\n",
    "df3 = df3.reindex_axis([\"State\",\"City Or County\",\"Total\"], axis=1)"
   ]
  },
  {
   "cell_type": "code",
   "execution_count": 29,
   "metadata": {},
   "outputs": [],
   "source": [
    "latlong1=latlong[[\"city\",\"lat\",\"lng\",\"state_name\"]]\n",
    "latlong1=latlong1.rename(columns={'city':'City Or County','state_name':'State'})\n"
   ]
  },
  {
   "cell_type": "code",
   "execution_count": 30,
   "metadata": {},
   "outputs": [],
   "source": [
    "df4=pd.merge(df3, latlong1, on=['State', 'City Or County']).drop_duplicates()\n",
    "\n",
    "Chart_3=df4"
   ]
  },
  {
   "cell_type": "code",
   "execution_count": null,
   "metadata": {},
   "outputs": [],
   "source": [
    "Chart_3"
   ]
  },
  {
   "cell_type": "markdown",
   "metadata": {},
   "source": [
    "## Chart-4- On average, there is around one mass shooting for each day in America"
   ]
  },
  {
   "cell_type": "markdown",
   "metadata": {},
   "source": []
  },
  {
   "cell_type": "markdown",
   "metadata": {},
   "source": [
    "The Description of the dataset has been discussed in the previous markdown\n",
    "\n",
    "**Processing the Data**\n",
    "\n",
    "1. Importing the files.\n",
    "2. Data Cleaning\n",
    "3. Creating a dummy variable for each row ,equal to 1\n",
    "4. Converting the Data from String to datetime64\n",
    "5. Grouping by the date and summing the the dummy variable, this addition describes the number of mass shootings occured within a day\n",
    "6. converting the dataset from series to Dataframe\n",
    "7. filling the Missing dates and filling in Total Shootings = 0 for the missing columns\n",
    "8. Returning the processed data set\n",
    "\n",
    "Repeat the steps for each dataset(2013-2019) by passing the raw data to function-__shooting_function()__"
   ]
  },
  {
   "cell_type": "code",
   "execution_count": 22,
   "metadata": {},
   "outputs": [],
   "source": [
    "def shooting_function(df):\n",
    "    df=df.drop([\"Operations\"],axis=1)\n",
    "#df.index = df.index.astype(np.datetime64)\n",
    "    df[\"happening\"]=1\n",
    "    df[\"Incident Date\"] = df[\"Incident Date\"].astype(np.datetime64)\n",
    "    df1=df.groupby(\"Incident Date\").happening.sum()\n",
    "    df1=df1.to_frame()\n",
    "    df1 = df1.rename(columns={'happening':'Total'})\n",
    "    df1=df1.asfreq('1D',fill_value=0)\n",
    "    return df1"
   ]
  },
  {
   "cell_type": "code",
   "execution_count": 23,
   "metadata": {},
   "outputs": [],
   "source": [
    "df_2013=shooting_function(y2013)\n",
    "df_2014=shooting_function(y2014)\n",
    "df_2015=shooting_function(y2015)\n",
    "df_2016=shooting_function(y2016)\n",
    "df_2017=shooting_function(y2017)\n",
    "df_2018=shooting_function(y2018)\n",
    "df_2019=shooting_function(y2019)"
   ]
  },
  {
   "cell_type": "markdown",
   "metadata": {},
   "source": [
    "## Chart-5 - States with more guns have more gun deaths"
   ]
  },
  {
   "cell_type": "markdown",
   "metadata": {},
   "source": [
    "\n",
    "+ Data Source(Firearms death rate per 100000)   :https://www.kff.org/other/state-indicator/firearms-death-rate-per-100000/?currentTimeframe=0&sortModel=%7B%22colId%22:%22Location%22,%22sort%22:%22asc%22%7D\n",
    "+ Data Source(Gun Ownership by State %) :https://www.cbsnews.com/pictures/gun-ownership-rates-by-state/\n",
    "+ Fetching Process     :Manual\n",
    "+ Need Cleaning        :Yes\n",
    "\n",
    "The Dataset used in **Chart-5** belongs to the year 2015.\n",
    "\n",
    "Note: \n",
    "+ the Dataset that records Firearms death rate per 100000 was cleaned manually on excel .Reason being that it gives an error on reading the raw file as it is.\n",
    "+ the Dataset that records gun ownership by state was made manually on excel by referring the article[https://www.cbsnews.com/pictures/gun-ownership-rates-by-state/]\n",
    "\n",
    "\n",
    "The Datasets contains the fields:\n",
    "\n",
    "__Firearms death rate per 100000 :__\n",
    "+ Location\n",
    "+ Firearms Death Rate per 100,000\n",
    "\n",
    "__Gun Ownership by State % :__\n",
    "+ Location\n",
    "+ Gun Ownership(percentage)\n",
    "\n",
    "\n",
    "\n",
    "\n",
    "**Processing the Data**\n",
    "1. Importing the files.\n",
    "2. Merging the datsets with Location as the key.\n",
    "\n"
   ]
  },
  {
   "cell_type": "code",
   "execution_count": 20,
   "metadata": {},
   "outputs": [],
   "source": [
    "df=pd.read_csv(\"data/2015 deaths.csv\")\n",
    "df2=pd.read_csv(\"data/Gun ownership by 2015.csv\")"
   ]
  },
  {
   "cell_type": "code",
   "execution_count": 14,
   "metadata": {},
   "outputs": [],
   "source": [
    "df3=df.merge(df2)"
   ]
  },
  {
   "cell_type": "code",
   "execution_count": 15,
   "metadata": {},
   "outputs": [],
   "source": [
    "Chart_5=df3"
   ]
  },
  {
   "cell_type": "code",
   "execution_count": null,
   "metadata": {},
   "outputs": [],
   "source": [
    "Chart_5"
   ]
  },
  {
   "cell_type": "markdown",
   "metadata": {},
   "source": [
    "## Chart-6 - It’s not just the US: Developed countries with more guns also have more gun deaths"
   ]
  },
  {
   "cell_type": "markdown",
   "metadata": {},
   "source": [
    "There are 9 columns in this dataset:\n",
    "    --Country/territory\n",
    "    --ISO code\n",
    "    --Source\n",
    "    --% of homicides by firearm\n",
    "    --Number of homicides by firearm\n",
    "    --Homicide by firearm rate per 100,000 pop\n",
    "    --Rank by rate of ownership\n",
    "    --Average firearms per 100 people\n",
    "    --Average total all civilian firearms\n",
    "    \n",
    "we pick the country, Number of homicides by firearm, Average firearms per 100 people three columns to visualize the topic.\n",
    "\n",
    "Data Source: https://www.theguardian.com/news/datablog/2012/jul/22/gun-homicides-ownership-world-list"
   ]
  },
  {
   "cell_type": "code",
   "execution_count": 8,
   "metadata": {
    "scrolled": true
   },
   "outputs": [
    {
     "data": {
      "text/html": [
       "<div>\n",
       "<style scoped>\n",
       "    .dataframe tbody tr th:only-of-type {\n",
       "        vertical-align: middle;\n",
       "    }\n",
       "\n",
       "    .dataframe tbody tr th {\n",
       "        vertical-align: top;\n",
       "    }\n",
       "\n",
       "    .dataframe thead th {\n",
       "        text-align: right;\n",
       "    }\n",
       "</style>\n",
       "<table border=\"1\" class=\"dataframe\">\n",
       "  <thead>\n",
       "    <tr style=\"text-align: right;\">\n",
       "      <th></th>\n",
       "      <th>country</th>\n",
       "      <th>Number of homicides by firearm</th>\n",
       "      <th>Average firearms per 100 people</th>\n",
       "    </tr>\n",
       "  </thead>\n",
       "  <tbody>\n",
       "    <tr>\n",
       "      <th>0</th>\n",
       "      <td>Albania</td>\n",
       "      <td>1.76</td>\n",
       "      <td>8.6</td>\n",
       "    </tr>\n",
       "    <tr>\n",
       "      <th>1</th>\n",
       "      <td>Algeria</td>\n",
       "      <td>0.06</td>\n",
       "      <td>7.6</td>\n",
       "    </tr>\n",
       "    <tr>\n",
       "      <th>4</th>\n",
       "      <td>Argentina</td>\n",
       "      <td>3.02</td>\n",
       "      <td>10.2</td>\n",
       "    </tr>\n",
       "    <tr>\n",
       "      <th>5</th>\n",
       "      <td>Armenia</td>\n",
       "      <td>0.29</td>\n",
       "      <td>12.5</td>\n",
       "    </tr>\n",
       "    <tr>\n",
       "      <th>6</th>\n",
       "      <td>Australia</td>\n",
       "      <td>0.14</td>\n",
       "      <td>15</td>\n",
       "    </tr>\n",
       "    <tr>\n",
       "      <th>7</th>\n",
       "      <td>Austria</td>\n",
       "      <td>0.22</td>\n",
       "      <td>30.4</td>\n",
       "    </tr>\n",
       "    <tr>\n",
       "      <th>8</th>\n",
       "      <td>Azerbaijan</td>\n",
       "      <td>0.12</td>\n",
       "      <td>3.5</td>\n",
       "    </tr>\n",
       "    <tr>\n",
       "      <th>9</th>\n",
       "      <td>Bahamas</td>\n",
       "      <td>15.37</td>\n",
       "      <td>5.3</td>\n",
       "    </tr>\n",
       "    <tr>\n",
       "      <th>10</th>\n",
       "      <td>Bahrain</td>\n",
       "      <td>0</td>\n",
       "      <td>24.8</td>\n",
       "    </tr>\n",
       "    <tr>\n",
       "      <th>11</th>\n",
       "      <td>Bangladesh</td>\n",
       "      <td>1.12</td>\n",
       "      <td>0.5</td>\n",
       "    </tr>\n",
       "    <tr>\n",
       "      <th>12</th>\n",
       "      <td>Barbados</td>\n",
       "      <td>2.99</td>\n",
       "      <td>7.8</td>\n",
       "    </tr>\n",
       "    <tr>\n",
       "      <th>13</th>\n",
       "      <td>Belarus</td>\n",
       "      <td>0.12</td>\n",
       "      <td>7.3</td>\n",
       "    </tr>\n",
       "    <tr>\n",
       "      <th>14</th>\n",
       "      <td>Belgium</td>\n",
       "      <td>0.68</td>\n",
       "      <td>17.2</td>\n",
       "    </tr>\n",
       "    <tr>\n",
       "      <th>15</th>\n",
       "      <td>Belize</td>\n",
       "      <td>21.82</td>\n",
       "      <td>10</td>\n",
       "    </tr>\n",
       "    <tr>\n",
       "      <th>20</th>\n",
       "      <td>Bosnia and Herzegovina</td>\n",
       "      <td>0.48</td>\n",
       "      <td>17.3</td>\n",
       "    </tr>\n",
       "    <tr>\n",
       "      <th>22</th>\n",
       "      <td>Brazil</td>\n",
       "      <td>18.1</td>\n",
       "      <td>8</td>\n",
       "    </tr>\n",
       "    <tr>\n",
       "      <th>23</th>\n",
       "      <td>Brunei</td>\n",
       "      <td>0</td>\n",
       "      <td>1.4</td>\n",
       "    </tr>\n",
       "    <tr>\n",
       "      <th>24</th>\n",
       "      <td>Bulgaria</td>\n",
       "      <td>0.67</td>\n",
       "      <td>6.2</td>\n",
       "    </tr>\n",
       "    <tr>\n",
       "      <th>27</th>\n",
       "      <td>Cambodia</td>\n",
       "      <td>1.44</td>\n",
       "      <td>4.3</td>\n",
       "    </tr>\n",
       "    <tr>\n",
       "      <th>29</th>\n",
       "      <td>Canada</td>\n",
       "      <td>0.51</td>\n",
       "      <td>30.8</td>\n",
       "    </tr>\n",
       "    <tr>\n",
       "      <th>33</th>\n",
       "      <td>Chile</td>\n",
       "      <td>2.16</td>\n",
       "      <td>10.7</td>\n",
       "    </tr>\n",
       "    <tr>\n",
       "      <th>35</th>\n",
       "      <td>Colombia</td>\n",
       "      <td>27.09</td>\n",
       "      <td>5.9</td>\n",
       "    </tr>\n",
       "    <tr>\n",
       "      <th>38</th>\n",
       "      <td>Congo</td>\n",
       "      <td>248</td>\n",
       "      <td>137</td>\n",
       "    </tr>\n",
       "    <tr>\n",
       "      <th>39</th>\n",
       "      <td>Costa Rica</td>\n",
       "      <td>4.59</td>\n",
       "      <td>9.9</td>\n",
       "    </tr>\n",
       "    <tr>\n",
       "      <th>41</th>\n",
       "      <td>Croatia</td>\n",
       "      <td>0.39</td>\n",
       "      <td>21.7</td>\n",
       "    </tr>\n",
       "    <tr>\n",
       "      <th>42</th>\n",
       "      <td>Cuba</td>\n",
       "      <td>0.24</td>\n",
       "      <td>4.8</td>\n",
       "    </tr>\n",
       "    <tr>\n",
       "      <th>43</th>\n",
       "      <td>Cyprus</td>\n",
       "      <td>0.46</td>\n",
       "      <td>36.4</td>\n",
       "    </tr>\n",
       "    <tr>\n",
       "      <th>44</th>\n",
       "      <td>Czech Republic</td>\n",
       "      <td>0.19</td>\n",
       "      <td>16.3</td>\n",
       "    </tr>\n",
       "    <tr>\n",
       "      <th>45</th>\n",
       "      <td>Denmark</td>\n",
       "      <td>0.27</td>\n",
       "      <td>12</td>\n",
       "    </tr>\n",
       "    <tr>\n",
       "      <th>47</th>\n",
       "      <td>Dominican Republic</td>\n",
       "      <td>16.3</td>\n",
       "      <td>5.1</td>\n",
       "    </tr>\n",
       "    <tr>\n",
       "      <th>...</th>\n",
       "      <td>...</td>\n",
       "      <td>...</td>\n",
       "      <td>...</td>\n",
       "    </tr>\n",
       "    <tr>\n",
       "      <th>134</th>\n",
       "      <td>Philippines</td>\n",
       "      <td>8.93</td>\n",
       "      <td>4.7</td>\n",
       "    </tr>\n",
       "    <tr>\n",
       "      <th>135</th>\n",
       "      <td>Poland</td>\n",
       "      <td>0.09</td>\n",
       "      <td>1.3</td>\n",
       "    </tr>\n",
       "    <tr>\n",
       "      <th>136</th>\n",
       "      <td>Portugal</td>\n",
       "      <td>0.41</td>\n",
       "      <td>8.5</td>\n",
       "    </tr>\n",
       "    <tr>\n",
       "      <th>138</th>\n",
       "      <td>Qatar</td>\n",
       "      <td>0.14</td>\n",
       "      <td>19.2</td>\n",
       "    </tr>\n",
       "    <tr>\n",
       "      <th>139</th>\n",
       "      <td>Romania</td>\n",
       "      <td>0.02</td>\n",
       "      <td>0.7</td>\n",
       "    </tr>\n",
       "    <tr>\n",
       "      <th>147</th>\n",
       "      <td>Serbia</td>\n",
       "      <td>0.46</td>\n",
       "      <td>37.8</td>\n",
       "    </tr>\n",
       "    <tr>\n",
       "      <th>149</th>\n",
       "      <td>Sierra Leone</td>\n",
       "      <td>2.28</td>\n",
       "      <td>0.6</td>\n",
       "    </tr>\n",
       "    <tr>\n",
       "      <th>150</th>\n",
       "      <td>Singapore</td>\n",
       "      <td>0.02</td>\n",
       "      <td>0.5</td>\n",
       "    </tr>\n",
       "    <tr>\n",
       "      <th>151</th>\n",
       "      <td>Slovakia</td>\n",
       "      <td>0.18</td>\n",
       "      <td>8.3</td>\n",
       "    </tr>\n",
       "    <tr>\n",
       "      <th>152</th>\n",
       "      <td>Slovenia</td>\n",
       "      <td>0.1</td>\n",
       "      <td>13.5</td>\n",
       "    </tr>\n",
       "    <tr>\n",
       "      <th>153</th>\n",
       "      <td>Solomon Islands</td>\n",
       "      <td>0</td>\n",
       "      <td>0.4</td>\n",
       "    </tr>\n",
       "    <tr>\n",
       "      <th>155</th>\n",
       "      <td>South Africa</td>\n",
       "      <td>17.03</td>\n",
       "      <td>12.7</td>\n",
       "    </tr>\n",
       "    <tr>\n",
       "      <th>156</th>\n",
       "      <td>Spain</td>\n",
       "      <td>0.2</td>\n",
       "      <td>10.4</td>\n",
       "    </tr>\n",
       "    <tr>\n",
       "      <th>157</th>\n",
       "      <td>Sri Lanka</td>\n",
       "      <td>1.48</td>\n",
       "      <td>1.5</td>\n",
       "    </tr>\n",
       "    <tr>\n",
       "      <th>161</th>\n",
       "      <td>Sweden</td>\n",
       "      <td>0.41</td>\n",
       "      <td>31.6</td>\n",
       "    </tr>\n",
       "    <tr>\n",
       "      <th>162</th>\n",
       "      <td>Switzerland</td>\n",
       "      <td>0.77</td>\n",
       "      <td>45.7</td>\n",
       "    </tr>\n",
       "    <tr>\n",
       "      <th>164</th>\n",
       "      <td>Taiwan</td>\n",
       "      <td>0.56</td>\n",
       "      <td>4.4</td>\n",
       "    </tr>\n",
       "    <tr>\n",
       "      <th>165</th>\n",
       "      <td>Tajikistan</td>\n",
       "      <td>0.22</td>\n",
       "      <td>1</td>\n",
       "    </tr>\n",
       "    <tr>\n",
       "      <th>169</th>\n",
       "      <td>Trinidad and Tobago</td>\n",
       "      <td>27.31</td>\n",
       "      <td>1.6</td>\n",
       "    </tr>\n",
       "    <tr>\n",
       "      <th>171</th>\n",
       "      <td>Turkey</td>\n",
       "      <td>0.77</td>\n",
       "      <td>12.5</td>\n",
       "    </tr>\n",
       "    <tr>\n",
       "      <th>172</th>\n",
       "      <td>Turkmenistan</td>\n",
       "      <td>0.1</td>\n",
       "      <td>3.8</td>\n",
       "    </tr>\n",
       "    <tr>\n",
       "      <th>173</th>\n",
       "      <td>Uganda</td>\n",
       "      <td>0.87</td>\n",
       "      <td>1.4</td>\n",
       "    </tr>\n",
       "    <tr>\n",
       "      <th>174</th>\n",
       "      <td>Ukraine</td>\n",
       "      <td>0.22</td>\n",
       "      <td>6.6</td>\n",
       "    </tr>\n",
       "    <tr>\n",
       "      <th>176</th>\n",
       "      <td>United States</td>\n",
       "      <td>2.97</td>\n",
       "      <td>88.8</td>\n",
       "    </tr>\n",
       "    <tr>\n",
       "      <th>177</th>\n",
       "      <td>Uruguay</td>\n",
       "      <td>2.8</td>\n",
       "      <td>31.8</td>\n",
       "    </tr>\n",
       "    <tr>\n",
       "      <th>179</th>\n",
       "      <td>Venezuela</td>\n",
       "      <td>38.97</td>\n",
       "      <td>10.7</td>\n",
       "    </tr>\n",
       "    <tr>\n",
       "      <th>180</th>\n",
       "      <td>Vietnam</td>\n",
       "      <td>0.99</td>\n",
       "      <td>1.7</td>\n",
       "    </tr>\n",
       "    <tr>\n",
       "      <th>181</th>\n",
       "      <td>West Bank &amp; Gaza</td>\n",
       "      <td>2.95</td>\n",
       "      <td>3.4</td>\n",
       "    </tr>\n",
       "    <tr>\n",
       "      <th>183</th>\n",
       "      <td>Zambia</td>\n",
       "      <td>0.35</td>\n",
       "      <td>8.9</td>\n",
       "    </tr>\n",
       "    <tr>\n",
       "      <th>184</th>\n",
       "      <td>Zimbabwe</td>\n",
       "      <td>4.78</td>\n",
       "      <td>4.4</td>\n",
       "    </tr>\n",
       "  </tbody>\n",
       "</table>\n",
       "<p>107 rows × 3 columns</p>\n",
       "</div>"
      ],
      "text/plain": [
       "                    country Number of homicides by firearm  \\\n",
       "0                   Albania                           1.76   \n",
       "1                   Algeria                           0.06   \n",
       "4                 Argentina                           3.02   \n",
       "5                   Armenia                           0.29   \n",
       "6                 Australia                           0.14   \n",
       "7                   Austria                           0.22   \n",
       "8                Azerbaijan                           0.12   \n",
       "9                   Bahamas                          15.37   \n",
       "10                  Bahrain                              0   \n",
       "11               Bangladesh                           1.12   \n",
       "12                 Barbados                           2.99   \n",
       "13                  Belarus                           0.12   \n",
       "14                  Belgium                           0.68   \n",
       "15                   Belize                          21.82   \n",
       "20   Bosnia and Herzegovina                           0.48   \n",
       "22                   Brazil                           18.1   \n",
       "23                   Brunei                              0   \n",
       "24                 Bulgaria                           0.67   \n",
       "27                 Cambodia                           1.44   \n",
       "29                   Canada                           0.51   \n",
       "33                    Chile                           2.16   \n",
       "35                 Colombia                          27.09   \n",
       "38                    Congo                            248   \n",
       "39               Costa Rica                           4.59   \n",
       "41                  Croatia                           0.39   \n",
       "42                     Cuba                           0.24   \n",
       "43                   Cyprus                           0.46   \n",
       "44           Czech Republic                           0.19   \n",
       "45                  Denmark                           0.27   \n",
       "47       Dominican Republic                           16.3   \n",
       "..                      ...                            ...   \n",
       "134             Philippines                           8.93   \n",
       "135                  Poland                           0.09   \n",
       "136                Portugal                           0.41   \n",
       "138                   Qatar                           0.14   \n",
       "139                 Romania                           0.02   \n",
       "147                  Serbia                           0.46   \n",
       "149            Sierra Leone                           2.28   \n",
       "150               Singapore                           0.02   \n",
       "151                Slovakia                           0.18   \n",
       "152                Slovenia                            0.1   \n",
       "153         Solomon Islands                              0   \n",
       "155            South Africa                          17.03   \n",
       "156                   Spain                            0.2   \n",
       "157               Sri Lanka                           1.48   \n",
       "161                  Sweden                           0.41   \n",
       "162             Switzerland                           0.77   \n",
       "164                  Taiwan                           0.56   \n",
       "165              Tajikistan                           0.22   \n",
       "169     Trinidad and Tobago                          27.31   \n",
       "171                  Turkey                           0.77   \n",
       "172            Turkmenistan                            0.1   \n",
       "173                  Uganda                           0.87   \n",
       "174                 Ukraine                           0.22   \n",
       "176           United States                           2.97   \n",
       "177                 Uruguay                            2.8   \n",
       "179               Venezuela                          38.97   \n",
       "180                 Vietnam                           0.99   \n",
       "181        West Bank & Gaza                           2.95   \n",
       "183                  Zambia                           0.35   \n",
       "184                Zimbabwe                           4.78   \n",
       "\n",
       "    Average firearms per 100 people  \n",
       "0                               8.6  \n",
       "1                               7.6  \n",
       "4                              10.2  \n",
       "5                              12.5  \n",
       "6                                15  \n",
       "7                              30.4  \n",
       "8                               3.5  \n",
       "9                               5.3  \n",
       "10                             24.8  \n",
       "11                              0.5  \n",
       "12                              7.8  \n",
       "13                              7.3  \n",
       "14                             17.2  \n",
       "15                               10  \n",
       "20                             17.3  \n",
       "22                                8  \n",
       "23                              1.4  \n",
       "24                              6.2  \n",
       "27                              4.3  \n",
       "29                             30.8  \n",
       "33                             10.7  \n",
       "35                              5.9  \n",
       "38                              137  \n",
       "39                              9.9  \n",
       "41                             21.7  \n",
       "42                              4.8  \n",
       "43                             36.4  \n",
       "44                             16.3  \n",
       "45                               12  \n",
       "47                              5.1  \n",
       "..                              ...  \n",
       "134                             4.7  \n",
       "135                             1.3  \n",
       "136                             8.5  \n",
       "138                            19.2  \n",
       "139                             0.7  \n",
       "147                            37.8  \n",
       "149                             0.6  \n",
       "150                             0.5  \n",
       "151                             8.3  \n",
       "152                            13.5  \n",
       "153                             0.4  \n",
       "155                            12.7  \n",
       "156                            10.4  \n",
       "157                             1.5  \n",
       "161                            31.6  \n",
       "162                            45.7  \n",
       "164                             4.4  \n",
       "165                               1  \n",
       "169                             1.6  \n",
       "171                            12.5  \n",
       "172                             3.8  \n",
       "173                             1.4  \n",
       "174                             6.6  \n",
       "176                            88.8  \n",
       "177                            31.8  \n",
       "179                            10.7  \n",
       "180                             1.7  \n",
       "181                             3.4  \n",
       "183                             8.9  \n",
       "184                             4.4  \n",
       "\n",
       "[107 rows x 3 columns]"
      ]
     },
     "execution_count": 8,
     "metadata": {},
     "output_type": "execute_result"
    }
   ],
   "source": [
    "#read in file\n",
    "gun6 = pd.read_csv('World firearms murders and ownership - Sheet 1.csv', sep = '\\t')\n",
    "\n",
    "#cleaning the data\n",
    "gun6.columns = ['Description']\n",
    "gun6 = gun6.Description.str.split(',', expand = True)\n",
    "\n",
    "#pick columns 0,5,7 reset columns names\n",
    "gun6 = gun6.iloc[:,[0,5,7]]\n",
    "gun6.columns = ['country', 'Number of homicides by firearm', 'Average firearms per 100 people']\n",
    "\n",
    "#drop na values\n",
    "gun6 = gun6.replace(r'', np.NaN)\n",
    "gun6 = gun6.dropna()\n",
    "\n",
    "gun6"
   ]
  },
  {
   "cell_type": "markdown",
   "metadata": {},
   "source": [
    "## Chart-7"
   ]
  },
  {
   "cell_type": "markdown",
   "metadata": {},
   "source": [
    "\n",
    "Data Scource: https://www.theguardian.com/news/datablog/2012/jul/22/gun-homicides-ownership-world-list"
   ]
  },
  {
   "cell_type": "code",
   "execution_count": null,
   "metadata": {},
   "outputs": [],
   "source": []
  },
  {
   "cell_type": "markdown",
   "metadata": {},
   "source": [
    "## Chart-8 - States with tighter gun control laws have fewer gun-related deaths"
   ]
  },
  {
   "cell_type": "markdown",
   "metadata": {},
   "source": [
    "This are two simple datasets can be used in this chart. \n",
    "\n",
    "First one has two columns, one for 50 States, the other is firearms death rate per 100,000. \n",
    "Data Source: https://www.kff.org/other/state-indicator/firearms-death-rate-per-100000/?currentTimeframe=0&sortModel=%7B%22colId%22:%22Location%22,%22sort%22:%22asc%22%7D\n"
   ]
  },
  {
   "cell_type": "code",
   "execution_count": 4,
   "metadata": {},
   "outputs": [
    {
     "name": "stderr",
     "output_type": "stream",
     "text": [
      "/Users/zhangqing/anaconda3/lib/python3.6/site-packages/ipykernel_launcher.py:2: FutureWarning: read_table is deprecated, use read_csv instead, passing sep='\\t'.\n",
      "  \n"
     ]
    }
   ],
   "source": [
    "#read in the file\n",
    "gun81 = pd.read_table('chart81.csv')\n",
    "\n",
    "#eliminate other irrelevent rows, only keep 50 States information\n",
    "gun81 = gun81[3:54].reset_index().drop(columns = 'index')\n",
    "\n",
    "#cleaning the dataset into two columns\n",
    "gun81.columns = ['Description']\n",
    "gun81 = gun81.Description.str.split(',', expand = True)\n",
    "gun81.columns = ['State', 'Firearms Death Rate per 100,000']\n",
    "\n",
    "#change the data type into numerical\n",
    "gun81['Firearms Death Rate per 100,000'] = gun81['Firearms Death Rate per 100,000'].str.strip('\"\"').astype(float)\n"
   ]
  },
  {
   "cell_type": "markdown",
   "metadata": {},
   "source": [
    "The second dataset has 4 columns: State, children access prevention firmarms law, safe storage or gun lock requirement, assault weapon ban. We only need the first two columns, one for 50 States, the other is if the State has firmarm law or not. \n",
    "\n",
    "Data Source: https://www.kff.org/other/state-indicator/firearms-and-children-legislation/?currentTimeframe=0&sortModel=%7B%22colId%22:%22Location%22,%22sort%22:%22asc%22%7D\n"
   ]
  },
  {
   "cell_type": "code",
   "execution_count": 5,
   "metadata": {},
   "outputs": [
    {
     "name": "stderr",
     "output_type": "stream",
     "text": [
      "/Users/zhangqing/anaconda3/lib/python3.6/site-packages/ipykernel_launcher.py:2: FutureWarning: read_table is deprecated, use read_csv instead, passing sep='\\t'.\n",
      "  \n"
     ]
    }
   ],
   "source": [
    "#read in the file\n",
    "gun82 = pd.read_table('chart82.csv')\n",
    "\n",
    "#cleaning the dataset, keep 50 States and two columns\n",
    "gun82 = gun82[3:54].reset_index().drop(columns = 'index')\n",
    "gun82.columns = ['Description']\n",
    "gun82 = gun82.Description.str.split(',', expand = True)\n",
    "gun82 = gun82.loc[:,0:1]\n",
    "gun82.columns = ['State', 'firearm law']\n",
    "\n",
    "#If the State has firearm law, it marks as 1, if not, it marks as 0.\n",
    "gun82['firearm law'] = gun82['firearm law'].apply(lambda x: 1 if x == '\"Yes\"' else 0)\n"
   ]
  },
  {
   "cell_type": "markdown",
   "metadata": {},
   "source": [
    "merge two table into one"
   ]
  },
  {
   "cell_type": "code",
   "execution_count": 6,
   "metadata": {},
   "outputs": [],
   "source": [
    "gun8 = pd.merge(gun81, gun82, on = 'State')"
   ]
  },
  {
   "cell_type": "code",
   "execution_count": 7,
   "metadata": {
    "scrolled": true
   },
   "outputs": [
    {
     "data": {
      "text/html": [
       "<div>\n",
       "<style scoped>\n",
       "    .dataframe tbody tr th:only-of-type {\n",
       "        vertical-align: middle;\n",
       "    }\n",
       "\n",
       "    .dataframe tbody tr th {\n",
       "        vertical-align: top;\n",
       "    }\n",
       "\n",
       "    .dataframe thead th {\n",
       "        text-align: right;\n",
       "    }\n",
       "</style>\n",
       "<table border=\"1\" class=\"dataframe\">\n",
       "  <thead>\n",
       "    <tr style=\"text-align: right;\">\n",
       "      <th></th>\n",
       "      <th>State</th>\n",
       "      <th>Firearms Death Rate per 100,000</th>\n",
       "      <th>firearm law</th>\n",
       "    </tr>\n",
       "  </thead>\n",
       "  <tbody>\n",
       "    <tr>\n",
       "      <th>0</th>\n",
       "      <td>Alabama</td>\n",
       "      <td>22.9</td>\n",
       "      <td>0</td>\n",
       "    </tr>\n",
       "    <tr>\n",
       "      <th>1</th>\n",
       "      <td>Alaska</td>\n",
       "      <td>24.5</td>\n",
       "      <td>0</td>\n",
       "    </tr>\n",
       "    <tr>\n",
       "      <th>2</th>\n",
       "      <td>Arizona</td>\n",
       "      <td>15.8</td>\n",
       "      <td>0</td>\n",
       "    </tr>\n",
       "    <tr>\n",
       "      <th>3</th>\n",
       "      <td>Arkansas</td>\n",
       "      <td>20.3</td>\n",
       "      <td>0</td>\n",
       "    </tr>\n",
       "    <tr>\n",
       "      <th>4</th>\n",
       "      <td>California</td>\n",
       "      <td>7.9</td>\n",
       "      <td>1</td>\n",
       "    </tr>\n",
       "    <tr>\n",
       "      <th>5</th>\n",
       "      <td>Colorado</td>\n",
       "      <td>13.4</td>\n",
       "      <td>1</td>\n",
       "    </tr>\n",
       "    <tr>\n",
       "      <th>6</th>\n",
       "      <td>Connecticut</td>\n",
       "      <td>5.1</td>\n",
       "      <td>1</td>\n",
       "    </tr>\n",
       "    <tr>\n",
       "      <th>7</th>\n",
       "      <td>Delaware</td>\n",
       "      <td>11.7</td>\n",
       "      <td>1</td>\n",
       "    </tr>\n",
       "    <tr>\n",
       "      <th>8</th>\n",
       "      <td>District of Columbia</td>\n",
       "      <td>13.1</td>\n",
       "      <td>1</td>\n",
       "    </tr>\n",
       "    <tr>\n",
       "      <th>9</th>\n",
       "      <td>Florida</td>\n",
       "      <td>12.4</td>\n",
       "      <td>1</td>\n",
       "    </tr>\n",
       "    <tr>\n",
       "      <th>10</th>\n",
       "      <td>Georgia</td>\n",
       "      <td>15.4</td>\n",
       "      <td>1</td>\n",
       "    </tr>\n",
       "    <tr>\n",
       "      <th>11</th>\n",
       "      <td>Hawaii</td>\n",
       "      <td>2.5</td>\n",
       "      <td>1</td>\n",
       "    </tr>\n",
       "    <tr>\n",
       "      <th>12</th>\n",
       "      <td>Idaho</td>\n",
       "      <td>16.4</td>\n",
       "      <td>0</td>\n",
       "    </tr>\n",
       "    <tr>\n",
       "      <th>13</th>\n",
       "      <td>Illinois</td>\n",
       "      <td>12.1</td>\n",
       "      <td>1</td>\n",
       "    </tr>\n",
       "    <tr>\n",
       "      <th>14</th>\n",
       "      <td>Indiana</td>\n",
       "      <td>15.3</td>\n",
       "      <td>1</td>\n",
       "    </tr>\n",
       "    <tr>\n",
       "      <th>15</th>\n",
       "      <td>Iowa</td>\n",
       "      <td>9.0</td>\n",
       "      <td>1</td>\n",
       "    </tr>\n",
       "    <tr>\n",
       "      <th>16</th>\n",
       "      <td>Kansas</td>\n",
       "      <td>16.0</td>\n",
       "      <td>0</td>\n",
       "    </tr>\n",
       "    <tr>\n",
       "      <th>17</th>\n",
       "      <td>Kentucky</td>\n",
       "      <td>16.2</td>\n",
       "      <td>1</td>\n",
       "    </tr>\n",
       "    <tr>\n",
       "      <th>18</th>\n",
       "      <td>Louisiana</td>\n",
       "      <td>21.7</td>\n",
       "      <td>0</td>\n",
       "    </tr>\n",
       "    <tr>\n",
       "      <th>19</th>\n",
       "      <td>Maine</td>\n",
       "      <td>11.7</td>\n",
       "      <td>0</td>\n",
       "    </tr>\n",
       "    <tr>\n",
       "      <th>20</th>\n",
       "      <td>Maryland</td>\n",
       "      <td>12.3</td>\n",
       "      <td>1</td>\n",
       "    </tr>\n",
       "    <tr>\n",
       "      <th>21</th>\n",
       "      <td>Massachusetts</td>\n",
       "      <td>3.7</td>\n",
       "      <td>1</td>\n",
       "    </tr>\n",
       "    <tr>\n",
       "      <th>22</th>\n",
       "      <td>Michigan</td>\n",
       "      <td>11.3</td>\n",
       "      <td>0</td>\n",
       "    </tr>\n",
       "    <tr>\n",
       "      <th>23</th>\n",
       "      <td>Minnesota</td>\n",
       "      <td>8.2</td>\n",
       "      <td>1</td>\n",
       "    </tr>\n",
       "    <tr>\n",
       "      <th>24</th>\n",
       "      <td>Mississippi</td>\n",
       "      <td>21.5</td>\n",
       "      <td>1</td>\n",
       "    </tr>\n",
       "    <tr>\n",
       "      <th>25</th>\n",
       "      <td>Missouri</td>\n",
       "      <td>21.5</td>\n",
       "      <td>1</td>\n",
       "    </tr>\n",
       "    <tr>\n",
       "      <th>26</th>\n",
       "      <td>Montana</td>\n",
       "      <td>22.5</td>\n",
       "      <td>0</td>\n",
       "    </tr>\n",
       "    <tr>\n",
       "      <th>27</th>\n",
       "      <td>Nebraska</td>\n",
       "      <td>8.3</td>\n",
       "      <td>0</td>\n",
       "    </tr>\n",
       "    <tr>\n",
       "      <th>28</th>\n",
       "      <td>Nevada</td>\n",
       "      <td>16.7</td>\n",
       "      <td>1</td>\n",
       "    </tr>\n",
       "    <tr>\n",
       "      <th>29</th>\n",
       "      <td>New Hampshire</td>\n",
       "      <td>10.4</td>\n",
       "      <td>1</td>\n",
       "    </tr>\n",
       "    <tr>\n",
       "      <th>30</th>\n",
       "      <td>New Jersey</td>\n",
       "      <td>5.3</td>\n",
       "      <td>1</td>\n",
       "    </tr>\n",
       "    <tr>\n",
       "      <th>31</th>\n",
       "      <td>New Mexico</td>\n",
       "      <td>18.5</td>\n",
       "      <td>0</td>\n",
       "    </tr>\n",
       "    <tr>\n",
       "      <th>32</th>\n",
       "      <td>New York</td>\n",
       "      <td>3.7</td>\n",
       "      <td>0</td>\n",
       "    </tr>\n",
       "    <tr>\n",
       "      <th>33</th>\n",
       "      <td>North Carolina</td>\n",
       "      <td>13.7</td>\n",
       "      <td>1</td>\n",
       "    </tr>\n",
       "    <tr>\n",
       "      <th>34</th>\n",
       "      <td>North Dakota</td>\n",
       "      <td>13.2</td>\n",
       "      <td>0</td>\n",
       "    </tr>\n",
       "    <tr>\n",
       "      <th>35</th>\n",
       "      <td>Ohio</td>\n",
       "      <td>13.7</td>\n",
       "      <td>0</td>\n",
       "    </tr>\n",
       "    <tr>\n",
       "      <th>36</th>\n",
       "      <td>Oklahoma</td>\n",
       "      <td>17.2</td>\n",
       "      <td>1</td>\n",
       "    </tr>\n",
       "    <tr>\n",
       "      <th>37</th>\n",
       "      <td>Oregon</td>\n",
       "      <td>12.1</td>\n",
       "      <td>0</td>\n",
       "    </tr>\n",
       "    <tr>\n",
       "      <th>38</th>\n",
       "      <td>Pennsylvania</td>\n",
       "      <td>12.5</td>\n",
       "      <td>0</td>\n",
       "    </tr>\n",
       "    <tr>\n",
       "      <th>39</th>\n",
       "      <td>Rhode Island</td>\n",
       "      <td>3.9</td>\n",
       "      <td>1</td>\n",
       "    </tr>\n",
       "    <tr>\n",
       "      <th>40</th>\n",
       "      <td>South Carolina</td>\n",
       "      <td>17.7</td>\n",
       "      <td>0</td>\n",
       "    </tr>\n",
       "    <tr>\n",
       "      <th>41</th>\n",
       "      <td>South Dakota</td>\n",
       "      <td>11.9</td>\n",
       "      <td>0</td>\n",
       "    </tr>\n",
       "    <tr>\n",
       "      <th>42</th>\n",
       "      <td>Tennessee</td>\n",
       "      <td>18.4</td>\n",
       "      <td>1</td>\n",
       "    </tr>\n",
       "    <tr>\n",
       "      <th>43</th>\n",
       "      <td>Texas</td>\n",
       "      <td>12.4</td>\n",
       "      <td>1</td>\n",
       "    </tr>\n",
       "    <tr>\n",
       "      <th>44</th>\n",
       "      <td>Utah</td>\n",
       "      <td>14.0</td>\n",
       "      <td>1</td>\n",
       "    </tr>\n",
       "    <tr>\n",
       "      <th>45</th>\n",
       "      <td>Vermont</td>\n",
       "      <td>11.7</td>\n",
       "      <td>0</td>\n",
       "    </tr>\n",
       "    <tr>\n",
       "      <th>46</th>\n",
       "      <td>Virginia</td>\n",
       "      <td>11.9</td>\n",
       "      <td>1</td>\n",
       "    </tr>\n",
       "    <tr>\n",
       "      <th>47</th>\n",
       "      <td>Washington</td>\n",
       "      <td>11.1</td>\n",
       "      <td>0</td>\n",
       "    </tr>\n",
       "    <tr>\n",
       "      <th>48</th>\n",
       "      <td>West Virginia</td>\n",
       "      <td>18.6</td>\n",
       "      <td>0</td>\n",
       "    </tr>\n",
       "    <tr>\n",
       "      <th>49</th>\n",
       "      <td>Wisconsin</td>\n",
       "      <td>10.6</td>\n",
       "      <td>1</td>\n",
       "    </tr>\n",
       "    <tr>\n",
       "      <th>50</th>\n",
       "      <td>Wyoming</td>\n",
       "      <td>18.8</td>\n",
       "      <td>0</td>\n",
       "    </tr>\n",
       "  </tbody>\n",
       "</table>\n",
       "</div>"
      ],
      "text/plain": [
       "                   State  Firearms Death Rate per 100,000  firearm law\n",
       "0                Alabama                             22.9            0\n",
       "1                 Alaska                             24.5            0\n",
       "2                Arizona                             15.8            0\n",
       "3               Arkansas                             20.3            0\n",
       "4             California                              7.9            1\n",
       "5               Colorado                             13.4            1\n",
       "6            Connecticut                              5.1            1\n",
       "7               Delaware                             11.7            1\n",
       "8   District of Columbia                             13.1            1\n",
       "9                Florida                             12.4            1\n",
       "10               Georgia                             15.4            1\n",
       "11                Hawaii                              2.5            1\n",
       "12                 Idaho                             16.4            0\n",
       "13              Illinois                             12.1            1\n",
       "14               Indiana                             15.3            1\n",
       "15                  Iowa                              9.0            1\n",
       "16                Kansas                             16.0            0\n",
       "17              Kentucky                             16.2            1\n",
       "18             Louisiana                             21.7            0\n",
       "19                 Maine                             11.7            0\n",
       "20              Maryland                             12.3            1\n",
       "21         Massachusetts                              3.7            1\n",
       "22              Michigan                             11.3            0\n",
       "23             Minnesota                              8.2            1\n",
       "24           Mississippi                             21.5            1\n",
       "25              Missouri                             21.5            1\n",
       "26               Montana                             22.5            0\n",
       "27              Nebraska                              8.3            0\n",
       "28                Nevada                             16.7            1\n",
       "29         New Hampshire                             10.4            1\n",
       "30            New Jersey                              5.3            1\n",
       "31            New Mexico                             18.5            0\n",
       "32              New York                              3.7            0\n",
       "33        North Carolina                             13.7            1\n",
       "34          North Dakota                             13.2            0\n",
       "35                  Ohio                             13.7            0\n",
       "36              Oklahoma                             17.2            1\n",
       "37                Oregon                             12.1            0\n",
       "38          Pennsylvania                             12.5            0\n",
       "39          Rhode Island                              3.9            1\n",
       "40        South Carolina                             17.7            0\n",
       "41          South Dakota                             11.9            0\n",
       "42             Tennessee                             18.4            1\n",
       "43                 Texas                             12.4            1\n",
       "44                  Utah                             14.0            1\n",
       "45               Vermont                             11.7            0\n",
       "46              Virginia                             11.9            1\n",
       "47            Washington                             11.1            0\n",
       "48         West Virginia                             18.6            0\n",
       "49             Wisconsin                             10.6            1\n",
       "50               Wyoming                             18.8            0"
      ]
     },
     "execution_count": 7,
     "metadata": {},
     "output_type": "execute_result"
    }
   ],
   "source": [
    "gun8"
   ]
  },
  {
   "cell_type": "markdown",
   "metadata": {},
   "source": [
    "## Chart-9 - Still, gun homicides (like all homicides) have declined over the past couple decades.\n",
    "## Chart-10 - Most gun deaths are suicides."
   ]
  },
  {
   "cell_type": "markdown",
   "metadata": {},
   "source": [
    "For **Chart#9** and **Chart#10** the data source is same. Fetching and cleaning process are same. Hence they are clubbed together.\n",
    "\n",
    "+ Data Source          :https://webappa.cdc.gov/sasweb/ncipc/mortrate.html\n",
    "+ Fetching Process     :Manual\n",
    "+ Need Cleaning        :Yes\n",
    "\n",
    "**Fetching Process**\n",
    "The data is downloaded from https://webappa.cdc.gov/sasweb/ncipc/mortrate.html.\n",
    "For **Chart#9** we need to collect data in two attempts. One for year range 1999 to 2017 and 1981 to 1998\n",
    "and for **Chart#10** we can run the query one year 1999 to 2017. We repeat the steps below for every year range or 'Intent or Manner of injury' either as Homicide or Suicide.\n",
    "\n",
    "1. In the above website given , choose the first option in year range as '1999 to 2017 (ICD-10), National and Regional' and choose Intent or Manner of injury as 'Homicide' as shown in [Picture-1](https://github.com/srivasud/Group7/blob/master/images/Q9-10-CDCImage-1.png)\n",
    "2. Choose 'Cause or mechanism of the injury' as 'Firearm' as shown in [Picture-2](https://github.com/srivasud/Group7/blob/master/images/Q9-10-CDCImage-2.png)\n",
    "3. Choose select 'Specific Options' as shown in [Picture-3](https://github.com/srivasud/Group7/blob/master/images/Q9-10-CDCImage-3.png)   \n",
    "4. Choose 'Advanced Options' as shown in [Picture-4](https://github.com/srivasud/Group7/blob/master/images/Q9-10-CDCImage-4.png)\n",
    "5. Click submit request. The result will be shown as a html page. Scroll to the bottom to download it as csv.\n",
    "6. Repeat the same steps for Chart-9 for the period 1981 to 1998 and download seperate csv.\n",
    "7. For Chart-10, the Intent or Manner of injury as 'Suicide' and year range from 1999 to 2017.\n",
    "\n",
    "We downloaded and uploaded 3 csv files (FirearmHomicide-1981-1998.csv,FirearmHomicide-1999-2018.csv,Firearm-Suicides-1999-2018.csv) to [data](https://github.com/srivasud/Group7/tree/master/data) folder in this repository.\n",
    "\n",
    "We run the below program and clean the data a bit and concatenates and puts into a single data frame.\n",
    "The explanation of the data/data frame after cleaning and removing unwanted columns is given below. \n",
    "Our final data frame contains the data of 'Firearm' caused deaths in USA with the following columns.\n",
    "+ Cause_of_Death - Its the cause or intent of death reported by firearm. The possible values are 'Suicide' or 'Homicide'.\n",
    "+ Year - The year reporting the data.\n",
    "+ Deaths - Total deaths reported due to Firearm with an intent either as Homicide or Suicide.\n",
    "+ Population - Total population in USA for that reported Year.\n",
    "+ Crude_Rate - Crude rate calculated per 100,000 , Formula used is (Total Deaths/ Total Population)*100,000."
   ]
  },
  {
   "cell_type": "code",
   "execution_count": 2,
   "metadata": {},
   "outputs": [
    {
     "data": {
      "text/html": [
       "<div>\n",
       "<style scoped>\n",
       "    .dataframe tbody tr th:only-of-type {\n",
       "        vertical-align: middle;\n",
       "    }\n",
       "\n",
       "    .dataframe tbody tr th {\n",
       "        vertical-align: top;\n",
       "    }\n",
       "\n",
       "    .dataframe thead th {\n",
       "        text-align: right;\n",
       "    }\n",
       "</style>\n",
       "<table border=\"1\" class=\"dataframe\">\n",
       "  <thead>\n",
       "    <tr style=\"text-align: right;\">\n",
       "      <th></th>\n",
       "      <th>Cause_of_Death</th>\n",
       "      <th>Year</th>\n",
       "      <th>Deaths</th>\n",
       "      <th>Population</th>\n",
       "      <th>Crude_Rate</th>\n",
       "    </tr>\n",
       "  </thead>\n",
       "  <tbody>\n",
       "    <tr>\n",
       "      <th>22</th>\n",
       "      <td>Homicide</td>\n",
       "      <td>2003</td>\n",
       "      <td>11920</td>\n",
       "      <td>290107933</td>\n",
       "      <td>4.1</td>\n",
       "    </tr>\n",
       "    <tr>\n",
       "      <th>14</th>\n",
       "      <td>Homicide</td>\n",
       "      <td>1995</td>\n",
       "      <td>15551</td>\n",
       "      <td>266278403</td>\n",
       "      <td>5.8</td>\n",
       "    </tr>\n",
       "    <tr>\n",
       "      <th>2</th>\n",
       "      <td>Homicide</td>\n",
       "      <td>1983</td>\n",
       "      <td>12040</td>\n",
       "      <td>233792237</td>\n",
       "      <td>5.2</td>\n",
       "    </tr>\n",
       "    <tr>\n",
       "      <th>26</th>\n",
       "      <td>Homicide</td>\n",
       "      <td>2007</td>\n",
       "      <td>12632</td>\n",
       "      <td>301231207</td>\n",
       "      <td>4.2</td>\n",
       "    </tr>\n",
       "    <tr>\n",
       "      <th>17</th>\n",
       "      <td>Homicide</td>\n",
       "      <td>1998</td>\n",
       "      <td>11798</td>\n",
       "      <td>275854116</td>\n",
       "      <td>4.3</td>\n",
       "    </tr>\n",
       "    <tr>\n",
       "      <th>51</th>\n",
       "      <td>Suicide</td>\n",
       "      <td>2013</td>\n",
       "      <td>21175</td>\n",
       "      <td>316234505</td>\n",
       "      <td>6.7</td>\n",
       "    </tr>\n",
       "    <tr>\n",
       "      <th>28</th>\n",
       "      <td>Homicide</td>\n",
       "      <td>2009</td>\n",
       "      <td>11493</td>\n",
       "      <td>306771529</td>\n",
       "      <td>3.8</td>\n",
       "    </tr>\n",
       "    <tr>\n",
       "      <th>49</th>\n",
       "      <td>Suicide</td>\n",
       "      <td>2011</td>\n",
       "      <td>19990</td>\n",
       "      <td>311644280</td>\n",
       "      <td>6.4</td>\n",
       "    </tr>\n",
       "    <tr>\n",
       "      <th>55</th>\n",
       "      <td>Suicide</td>\n",
       "      <td>2017</td>\n",
       "      <td>23854</td>\n",
       "      <td>325719178</td>\n",
       "      <td>7.3</td>\n",
       "    </tr>\n",
       "    <tr>\n",
       "      <th>10</th>\n",
       "      <td>Homicide</td>\n",
       "      <td>1991</td>\n",
       "      <td>17746</td>\n",
       "      <td>252980942</td>\n",
       "      <td>7.0</td>\n",
       "    </tr>\n",
       "  </tbody>\n",
       "</table>\n",
       "</div>"
      ],
      "text/plain": [
       "   Cause_of_Death  Year  Deaths  Population  Crude_Rate\n",
       "22       Homicide  2003   11920   290107933         4.1\n",
       "14       Homicide  1995   15551   266278403         5.8\n",
       "2        Homicide  1983   12040   233792237         5.2\n",
       "26       Homicide  2007   12632   301231207         4.2\n",
       "17       Homicide  1998   11798   275854116         4.3\n",
       "51        Suicide  2013   21175   316234505         6.7\n",
       "28       Homicide  2009   11493   306771529         3.8\n",
       "49        Suicide  2011   19990   311644280         6.4\n",
       "55        Suicide  2017   23854   325719178         7.3\n",
       "10       Homicide  1991   17746   252980942         7.0"
      ]
     },
     "execution_count": 2,
     "metadata": {},
     "output_type": "execute_result"
    }
   ],
   "source": [
    "# Data Reading and Cleaning\n",
    "# FirearmHomicide-1981-1998.csv - Homicides by Firearm between 1981 to 1998\n",
    "# FirearmHomicide-1999-2018.csv - Homicides by Firearm between 1999 to 2017\n",
    "# Firearm-Suicides-1999-2018.csv - Suicides by Firearm between 1999 to 2017\n",
    "\n",
    "# Read Firearm homicide csv from 1981 to 1998 from GIT\n",
    "fire_arm_1 = pd.read_csv(\"https://raw.githubusercontent.com/srivasud/Group7/master/data/FirearmHomicide-1981-1998.csv\") \n",
    "\n",
    "# Remove the last row which is the summation row\n",
    "fire_arm_1=fire_arm_1[:-1] \n",
    "\n",
    "# Read Firearm homicide csv from 1999 to 2017 from GIT\n",
    "fire_arm_2 = pd.read_csv(\"https://raw.githubusercontent.com/srivasud/Group7/master/data/FirearmHomicide-1999-2018.csv\") \n",
    "# Remove the last row which is the summation row\n",
    "fire_arm_2=fire_arm_2[:-1] \n",
    "\n",
    "# Dropped the not needed column 'Age-Adjusted Rate'\n",
    "fire_arm_2.drop('Age-Adjusted Rate', axis=1, inplace=True)\n",
    "\n",
    "\n",
    "# Read Firearm suicide data from 1999 to 2017 from GIT\n",
    "firearm_suicide_2=pd.read_csv('https://raw.githubusercontent.com/srivasud/Group7/master/data/Firearm-Suicides-1999-2018.csv')\n",
    "# Remove the last row which is the summation row\n",
    "firearm_suicide_2=firearm_suicide_2[:-1]\n",
    "# Dropped the not needed column 'Age-Adjusted Rate'\n",
    "firearm_suicide_2.drop('Age-Adjusted Rate', axis=1, inplace=True)\n",
    "\n",
    "# Concat all the dataframes into one\n",
    "fa_homicide_suicide=pd.concat([fire_arm_1,fire_arm_2,firearm_suicide_2])\n",
    "\n",
    "# Convert the Year column into Integer data type.\n",
    "fa_homicide_suicide['Year']=fa_homicide_suicide['Year'].values.astype(np.int)\n",
    "\n",
    "fa_homicide_suicide.reset_index(inplace=True)\n",
    "\n",
    "# Drop unwanted columns such as index,sex,race,state,ethnicity,Age group, first year, last year\n",
    "fa_homicide_suicide.drop(['index','Sex','Race','State','Ethnicity','Age Group','First Year','Last Year'],axis=1,inplace=True)\n",
    "\n",
    "# Round the Crude Rate to 1 decimal point\n",
    "fa_homicide_suicide['Crude Rate']=fa_homicide_suicide['Crude Rate'].round(1)\n",
    "\n",
    "# Rename the columns without spaces between parts of the column names.\n",
    "cols=['Cause_of_Death','Year','Deaths','Population','Crude_Rate']\n",
    "fa_homicide_suicide.columns=cols\n",
    "fa_homicide_suicide['Cause_of_Death'] = fa_homicide_suicide['Cause_of_Death'].map({'Homicide Firearm':'Homicide', 'Suicide Firearm': 'Suicide'})\n",
    "fa_homicide_suicide.sample(10)"
   ]
  },
  {
   "cell_type": "markdown",
   "metadata": {},
   "source": [
    "## The states with the most guns report the most suicides"
   ]
  },
  {
   "cell_type": "markdown",
   "metadata": {},
   "source": [
    "**Data Source** : Suicide data available in https://webappa.cdc.gov/sasweb/ncipc/mortrate.html\n",
    "                  Firearms registered available in https://www.atf.gov/resource-center/data-statistics\n",
    "+ For Chart#11 , we need suicide death count caused by Firearm and NonFirearm is needed by State.\n",
    "+ The data is available in https://webappa.cdc.gov/sasweb/ncipc/mortrate.html website between the year 1999 to 2017\n",
    "+ The gun ownership data is available from https://www.atf.gov/resource-center/data-statistics under the section \"Firearms Commerce Report in the United States\". This is available as PDF and one of the page contains \"Exhibit 8. National Firearms Act Registered Weapons by State\" that contains total firearm registered (licensed) by each State until that Year.\n",
    "+ The rate of gun ownership is not defined clearly anywhere on how to use per capita income per State\n",
    "+ So we used our own formula gun_per1000 = (Total Guns owned by State per year/Total populate in the state per year)*1000\n",
    "\n",
    "**Fetching Process** is manual to fetch both Suicide data from CDC website. \n",
    "+ Please refer to markdown for Chart#10 above for steps on how to download from CDC.\n",
    "+ Firearms registered by State is downloaded (from https://www.atf.gov/resource-center/data-statistics) as a pdf manually for each year.\n",
    "+ We wrote a small [python program](https://github.com/srivasud/Group7/blob/master/Python-Jupyter-PDF-Dataframe.ipynb) to convert the \"Exhibit-8\" page from the downloaded pdf into a python data frame, we exported to excel for further processing for each year 2010,2011,2012,2013,2014,2016,2017.(Note: 2015 data could not be converted into data frame due to the nature of pdf page).\n",
    "+ These two datasets are joined on available Year and State.\n",
    "\n",
    "**Description of Data after Cleansing**\n",
    "+ Important Columns from this table:\n",
    "  + State - US State\n",
    "  + Total - Total Firearms which is sum of any firearm weapon,device, machinegun, silencer guns, short riffles, barreled guns\n",
    "  + Year  - Year of statistics\n",
    "  + Cause - Suicide caused by Firearm (Suicide-Firearm) or Suicide caused by Non-Firearm (Suicide-Non-Firearm).\n",
    "  + Deaths - Deaths in that state, year by the cause\n",
    "  + Population - Total population in that State, Year\n",
    "  + Guns_Per1000 - round((Total/Population)*1000)\n",
    "**The below program, just does the last stage cleansing**\n",
    "+ Join Licensed Total Firearms by State per Year with Deaths/State per Year caused by Firearm/NonfireArm\n",
    "+ Calculate Guns_Per1000"
   ]
  },
  {
   "cell_type": "code",
   "execution_count": null,
   "metadata": {},
   "outputs": [],
   "source": [
    "df=pd.read_csv('data/licensed_ownership_bystate.csv')\n",
    "df.reset_index(inplace=True)\n",
    "df1=pd.read_csv('data/1999-2017-State-SuicideFirearm.csv')\n",
    "df2=pd.read_csv('data/1999-2017-State-Suicide-NonFirearm.csv')\n",
    "miscState = {'North Carolina':'North_Carolina','South Carolina':'South_Carolina','North Dakota':'North_Dakota',\n",
    "                'South Dakota':'South_Dakota','New Hampshire':'New_Hampshire','New Jersey':'New_Jersey',\n",
    "                'New Mexico':'New_Mexico','Rhode Island':'Rhode_Island','West Virginia':'West_Virginia',\n",
    "                'New York':'New_York','Other US Territories':'Other_US_Territories','District of Columbia':'District_of_Columbia'\n",
    "                }\n",
    "df1=df1.replace({\"State\": miscState})\n",
    "df2=df2.replace({\"State\": miscState})\n",
    "final_df=pd.merge(df,df1,on=[\"State\",\"Year\"])\n",
    "final_df2=pd.merge(df,df2,on=[\"State\",\"Year\"])\n",
    "final_df['Guns_Per1000']=round((final_df['Total']/final_df['Population'])*1000)\n",
    "final_df2['Guns_Per1000']=round((final_df2['Total']/final_df2['Population'])*1000)\n",
    "final_dff=pd.concat([final_df,final_df2])\n",
    "final_dff.sample(10)"
   ]
  },
  {
   "cell_type": "markdown",
   "metadata": {},
   "source": [
    "## Chart-12"
   ]
  },
  {
   "cell_type": "code",
   "execution_count": 1,
   "metadata": {},
   "outputs": [],
   "source": [
    "import pandas as pd \n",
    "import numpy as np\n",
    "import altair as alt\n",
    "from vega_datasets import data"
   ]
  },
  {
   "cell_type": "markdown",
   "metadata": {},
   "source": [
    "Chart#12 - Guns allow people to kill themselves more easily.\n",
    "\n",
    "Fatal Suicide data comes from the CDC webpage, and to recreate this visualization we need to have total number of attempts and actual deaths.\n",
    "This is a problem as there is no complete data on suicide attempts. (https://afsp.org/about-suicide/suicide-statistics/)\n",
    "Based on this, the best approximate statistic is non-fatal injuries form self-harm collected by the CDC.\n",
    "\n",
    "\n",
    "- Data Access :Yes. https://webappa.cdc.gov/sasweb/ncipc/mortrate.html & https://webappa.cdc.gov/sasweb/ncipc/nfirates.html\n",
    "- Up to Date :Yes, data is available from 2001-2017. Prior to 2001 there is no data on non fatal attempts.\n",
    "- Quality :Medium. Assumption made on suicide attempt data. No actual data on suicide attempts.\n",
    "- Data Source: The data is downloaded from https://www.cdc.gov/injury/wisqars/index.html"
   ]
  },
  {
   "cell_type": "markdown",
   "metadata": {},
   "source": [
    "** Steps followed to collect the data: *\n",
    "\n",
    "         We need to repeat the data collection process for year range 2001 to 2017 for both\n",
    "         Fatal and Non-Fatal Intent of the injury 'Self-Harm' and 'Suicide'.\n",
    "         1. choose Year range as '2001 to 2017 (ICD-10) National and Regional for fatal & 2001 to 2017 for non fatal'\n",
    "         2. choose Intent or Manner of injury as 'Suicide' for fatal and repeat the same \n",
    "            for 'Self-Harm' for non-fatal\n",
    "         3. choose Cause or mechanism of the injury as 'Firearm', 'poison' and 'cutting'\n",
    "         4. choose select specific options\n",
    "             Census Region: United States\n",
    "             Year of report: 2001 to 2017\n",
    "             Race: All races\n",
    "             Sex : Both Sexes\n",
    "         5. Advanced Options:\n",
    "             Select age groups: All\n",
    "             Select output groups: Year\n",
    "             Select Standardized Year for Age-Adjusting: Use 2000 as the standard year."
   ]
  },
  {
   "cell_type": "code",
   "execution_count": 2,
   "metadata": {},
   "outputs": [],
   "source": [
    "# Read Fatal-Cut suicide data from 2001 to 2017 from GIT\n",
    "Fatal_cut=pd.read_csv('https://raw.githubusercontent.com/srivasud/Group7/master/data/Fatal-Cut.csv')"
   ]
  },
  {
   "cell_type": "code",
   "execution_count": 3,
   "metadata": {},
   "outputs": [],
   "source": [
    "# Remove the last row which is the summation row\n",
    "Fatal_cut=Fatal_cut[:-1]"
   ]
  },
  {
   "cell_type": "code",
   "execution_count": 4,
   "metadata": {},
   "outputs": [],
   "source": [
    "# Read Non-Fatal-Cut suicide data from 2001 to 2017 from GIT\n",
    "Nonfatal_cut=pd.read_csv('https://raw.githubusercontent.com/srivasud/Group7/master/data/nonfatal-Cut.csv')"
   ]
  },
  {
   "cell_type": "code",
   "execution_count": 5,
   "metadata": {},
   "outputs": [],
   "source": [
    "# Read Fatal-Poison suicide data from 2001 to 2017 from GIT\n",
    "Fatal_Poison=pd.read_csv('https://raw.githubusercontent.com/srivasud/Group7/master/data/Fatal-Poison.csv')"
   ]
  },
  {
   "cell_type": "code",
   "execution_count": 6,
   "metadata": {},
   "outputs": [],
   "source": [
    "# Remove the last row which is the summation row\n",
    "Fatal_Poison=Fatal_Poison[:-1]"
   ]
  },
  {
   "cell_type": "code",
   "execution_count": 7,
   "metadata": {},
   "outputs": [],
   "source": [
    "# Read Non-Fatal-Poison suicide data from 2001 to 2017 from GIT\n",
    "NonFatal_Poison=pd.read_csv('https://raw.githubusercontent.com/srivasud/Group7/master/data/Nonfatal-Poison.csv')"
   ]
  },
  {
   "cell_type": "code",
   "execution_count": 8,
   "metadata": {},
   "outputs": [],
   "source": [
    "# Read Fatal-gunshot suicide data from 2001 to 2017 from GIT\n",
    "Fatal_gunshot=pd.read_csv('https://raw.githubusercontent.com/srivasud/Group7/master/data/Fatal-gunshot.csv')"
   ]
  },
  {
   "cell_type": "code",
   "execution_count": 9,
   "metadata": {},
   "outputs": [],
   "source": [
    "# Remove the last row which is the summation row\n",
    "Fatal_gunshot=Fatal_gunshot[:-1]"
   ]
  },
  {
   "cell_type": "code",
   "execution_count": 10,
   "metadata": {},
   "outputs": [],
   "source": [
    "# Read Non-Fatal-gunshot suicide data from 2001 to 2017 from GIT\n",
    "NonFatal_gunshot=pd.read_csv('https://raw.githubusercontent.com/srivasud/Group7/master/data/nonfatal-gunshot.csv')"
   ]
  },
  {
   "cell_type": "code",
   "execution_count": 11,
   "metadata": {},
   "outputs": [
    {
     "name": "stderr",
     "output_type": "stream",
     "text": [
      "C:\\Users\\MarvinHP\\AppData\\Local\\Continuum\\anaconda3\\lib\\site-packages\\ipykernel_launcher.py:2: FutureWarning: Sorting because non-concatenation axis is not aligned. A future version\n",
      "of pandas will change to not sort by default.\n",
      "\n",
      "To accept the future behavior, pass 'sort=False'.\n",
      "\n",
      "To retain the current behavior and silence the warning, pass 'sort=True'.\n",
      "\n",
      "  \n"
     ]
    }
   ],
   "source": [
    "# Concat all the dataframes into one\n",
    "Attemptsvssuicides=pd.concat([Fatal_cut,Nonfatal_cut,Fatal_Poison,NonFatal_Poison,Fatal_gunshot,NonFatal_gunshot])"
   ]
  },
  {
   "cell_type": "code",
   "execution_count": 12,
   "metadata": {},
   "outputs": [],
   "source": [
    "# Drop unwanted columns such as index,sex,race,state,ethnicity,Age group, first year, last year\n",
    "Attemptsvssuicides.drop(['Age Group','Age-Adjusted Rate','Ethnicity','Population','Ethnicity','Race','First Year','Race/Ethnicity','State','cv','records','Sex','Crude Rate'],axis=1,inplace=True)"
   ]
  },
  {
   "cell_type": "code",
   "execution_count": 13,
   "metadata": {},
   "outputs": [
    {
     "data": {
      "text/html": [
       "<div>\n",
       "<style scoped>\n",
       "    .dataframe tbody tr th:only-of-type {\n",
       "        vertical-align: middle;\n",
       "    }\n",
       "\n",
       "    .dataframe tbody tr th {\n",
       "        vertical-align: top;\n",
       "    }\n",
       "\n",
       "    .dataframe thead th {\n",
       "        text-align: right;\n",
       "    }\n",
       "</style>\n",
       "<table border=\"1\" class=\"dataframe\">\n",
       "  <thead>\n",
       "    <tr style=\"text-align: right;\">\n",
       "      <th></th>\n",
       "      <th>Suicide</th>\n",
       "      <th>Nonfatal</th>\n",
       "      <th>Deaths</th>\n",
       "      <th>Attempts</th>\n",
       "      <th>Last_Year</th>\n",
       "    </tr>\n",
       "  </thead>\n",
       "  <tbody>\n",
       "    <tr>\n",
       "      <th>0</th>\n",
       "      <td>Suicide Cut/pierce</td>\n",
       "      <td>NaN</td>\n",
       "      <td>11386.0</td>\n",
       "      <td>NaN</td>\n",
       "      <td>2017</td>\n",
       "    </tr>\n",
       "    <tr>\n",
       "      <th>0</th>\n",
       "      <td>NaN</td>\n",
       "      <td>Self-harm Cut/Pierce</td>\n",
       "      <td>NaN</td>\n",
       "      <td>1,533,853</td>\n",
       "      <td>2017</td>\n",
       "    </tr>\n",
       "    <tr>\n",
       "      <th>0</th>\n",
       "      <td>Suicide Poisoning</td>\n",
       "      <td>NaN</td>\n",
       "      <td>106395.0</td>\n",
       "      <td>NaN</td>\n",
       "      <td>2017</td>\n",
       "    </tr>\n",
       "    <tr>\n",
       "      <th>0</th>\n",
       "      <td>NaN</td>\n",
       "      <td>Self-harm Poisoning</td>\n",
       "      <td>NaN</td>\n",
       "      <td>4,116,511</td>\n",
       "      <td>2017</td>\n",
       "    </tr>\n",
       "    <tr>\n",
       "      <th>0</th>\n",
       "      <td>Suicide Firearm</td>\n",
       "      <td>NaN</td>\n",
       "      <td>327248.0</td>\n",
       "      <td>NaN</td>\n",
       "      <td>2017</td>\n",
       "    </tr>\n",
       "  </tbody>\n",
       "</table>\n",
       "</div>"
      ],
      "text/plain": [
       "              Suicide              Nonfatal    Deaths   Attempts  Last_Year\n",
       "0  Suicide Cut/pierce                   NaN   11386.0        NaN       2017\n",
       "0                 NaN  Self-harm Cut/Pierce       NaN  1,533,853       2017\n",
       "0   Suicide Poisoning                   NaN  106395.0        NaN       2017\n",
       "0                 NaN   Self-harm Poisoning       NaN  4,116,511       2017\n",
       "0     Suicide Firearm                   NaN  327248.0        NaN       2017"
      ]
     },
     "execution_count": 13,
     "metadata": {},
     "output_type": "execute_result"
    }
   ],
   "source": [
    "# Rename the columns without spaces between parts of the column names.\n",
    "cols=['Suicide','Nonfatal','Deaths','Attempts','Last_Year']\n",
    "Attemptsvssuicides.columns=cols\n",
    "Attemptsvssuicides.head()"
   ]
  },
  {
   "cell_type": "code",
   "execution_count": 14,
   "metadata": {},
   "outputs": [],
   "source": [
    "# Defined variables for pie chart\n",
    "Suicide_cut_pierce = Attemptsvssuicides.Deaths.values[0]\n",
    "Attempt_cut_pierce = 1533853\n",
    "Suicide_Poisoning = Attemptsvssuicides.Deaths.values[2]\n",
    "Attempt_Poisoning = 4116511\n",
    "Suicide_gunshot = Attemptsvssuicides.Deaths.values[4]\n",
    "Attempt_gunshot = 63672"
   ]
  },
  {
   "cell_type": "code",
   "execution_count": 15,
   "metadata": {},
   "outputs": [],
   "source": [
    "#Creating the graph\n",
    "import plotly.graph_objs as go\n",
    "from plotly.offline import download_plotlyjs, init_notebook_mode, plot, iplot"
   ]
  },
  {
   "cell_type": "code",
   "execution_count": 16,
   "metadata": {},
   "outputs": [
    {
     "data": {
      "text/html": [
       "        <script type=\"text/javascript\">\n",
       "        window.PlotlyConfig = {MathJaxConfig: 'local'};\n",
       "        if (window.MathJax) {MathJax.Hub.Config({SVG: {font: \"STIX-Web\"}});}\n",
       "        if (typeof require !== 'undefined') {\n",
       "        require.undef(\"plotly\");\n",
       "        requirejs.config({\n",
       "            paths: {\n",
       "                'plotly': ['https://cdn.plot.ly/plotly-latest.min']\n",
       "            }\n",
       "        });\n",
       "        require(['plotly'], function(Plotly) {\n",
       "            window._Plotly = Plotly;\n",
       "        });\n",
       "        }\n",
       "        </script>\n",
       "        "
      ]
     },
     "metadata": {},
     "output_type": "display_data"
    }
   ],
   "source": [
    "init_notebook_mode(connected=True)"
   ]
  },
  {
   "cell_type": "code",
   "execution_count": 17,
   "metadata": {},
   "outputs": [
    {
     "data": {
      "application/vnd.plotly.v1+json": {
       "config": {
        "linkText": "Export to plot.ly",
        "plotlyServerURL": "https://plot.ly",
        "responsive": true,
        "showLink": false
       },
       "data": [
        {
         "domain": {
          "column": 0
         },
         "hole": 0,
         "hoverinfo": "label+percent+name",
         "labels": [
          "Fatal",
          "Non-Fatal"
         ],
         "name": "Cutting",
         "textposition": "outside",
         "type": "pie",
         "uid": "00d95d57-bd94-4e24-bc8f-09ddae4b12a6",
         "values": [
          11386,
          1533853
         ]
        },
        {
         "domain": {
          "column": 1
         },
         "hole": 0,
         "hoverinfo": "label+percent+name",
         "labels": [
          "Fatal",
          "Non-Fatal"
         ],
         "name": "Poison",
         "text": [
          "Poison"
         ],
         "textposition": "outside",
         "type": "pie",
         "uid": "b499315d-29f9-4ca9-9d8f-8858b4552daf",
         "values": [
          106395,
          4116511
         ]
        },
        {
         "domain": {
          "column": 2
         },
         "hole": 0,
         "hoverinfo": "label+percent+name",
         "labels": [
          "Fatal",
          "Non-Fatal"
         ],
         "name": "Firearm",
         "text": [
          "Firearm"
         ],
         "textposition": "outside",
         "type": "pie",
         "uid": "ab0565a8-d8c7-4ca0-8530-a1292c73d4e1",
         "values": [
          327248,
          63672
         ]
        }
       ],
       "layout": {
        "annotations": [
         {
          "font": {
           "size": 20
          },
          "showarrow": false,
          "text": "Cutting",
          "x": 0.1,
          "y": 0.5
         },
         {
          "font": {
           "size": 20
          },
          "showarrow": false,
          "text": "Poison",
          "x": 0.5,
          "y": 0.5
         },
         {
          "font": {
           "size": 20
          },
          "showarrow": false,
          "text": "Firearm",
          "x": 0.9,
          "y": 0.5
         }
        ],
        "grid": {
         "columns": 3,
         "rows": 3
        },
        "title": {
         "text": "Fatal Suicide attempts"
        }
       }
      },
      "text/html": [
       "<div>\n",
       "        \n",
       "        \n",
       "            <div id=\"e8b94c64-4f31-48d3-9f5f-bb7a607edfa2\" class=\"plotly-graph-div\" style=\"height:525px; width:100%;\"></div>\n",
       "            <script type=\"text/javascript\">\n",
       "                require([\"plotly\"], function(Plotly) {\n",
       "                    window.PLOTLYENV=window.PLOTLYENV || {};\n",
       "                    window.PLOTLYENV.BASE_URL='https://plot.ly';\n",
       "                    \n",
       "                if (document.getElementById(\"e8b94c64-4f31-48d3-9f5f-bb7a607edfa2\")) {\n",
       "                    Plotly.newPlot(\n",
       "                        'e8b94c64-4f31-48d3-9f5f-bb7a607edfa2',\n",
       "                        [{\"domain\": {\"column\": 0}, \"hole\": 0.0, \"hoverinfo\": \"label+percent+name\", \"labels\": [\"Fatal\", \"Non-Fatal\"], \"name\": \"Cutting\", \"textposition\": \"outside\", \"type\": \"pie\", \"uid\": \"3feaa335-7ce6-4973-a4d9-70e90be7a465\", \"values\": [11386.0, 1533853]}, {\"domain\": {\"column\": 1}, \"hole\": 0.0, \"hoverinfo\": \"label+percent+name\", \"labels\": [\"Fatal\", \"Non-Fatal\"], \"name\": \"Poison\", \"text\": [\"Poison\"], \"textposition\": \"outside\", \"type\": \"pie\", \"uid\": \"6b84ba02-5cba-4d93-83ed-c4f3f5cefd1a\", \"values\": [106395.0, 4116511]}, {\"domain\": {\"column\": 2}, \"hole\": 0.0, \"hoverinfo\": \"label+percent+name\", \"labels\": [\"Fatal\", \"Non-Fatal\"], \"name\": \"Firearm\", \"text\": [\"Firearm\"], \"textposition\": \"outside\", \"type\": \"pie\", \"uid\": \"143a17cf-4553-4454-af8d-7b425e1a33c1\", \"values\": [327248.0, 63672]}],\n",
       "                        {\"annotations\": [{\"font\": {\"size\": 20}, \"showarrow\": false, \"text\": \"Cutting\", \"x\": 0.1, \"y\": 0.5}, {\"font\": {\"size\": 20}, \"showarrow\": false, \"text\": \"Poison\", \"x\": 0.5, \"y\": 0.5}, {\"font\": {\"size\": 20}, \"showarrow\": false, \"text\": \"Firearm\", \"x\": 0.9, \"y\": 0.5}], \"grid\": {\"columns\": 3, \"rows\": 3}, \"title\": {\"text\": \"Fatal Suicide attempts\"}},\n",
       "                        {\"showLink\": false, \"linkText\": \"Export to plot.ly\", \"plotlyServerURL\": \"https://plot.ly\", \"responsive\": true}\n",
       "                    ).then(function(){\n",
       "                            \n",
       "var gd = document.getElementById('e8b94c64-4f31-48d3-9f5f-bb7a607edfa2');\n",
       "var x = new MutationObserver(function (mutations, observer) {{\n",
       "        var display = window.getComputedStyle(gd).display;\n",
       "        if (!display || display === 'none') {{\n",
       "            console.log([gd, 'removed!']);\n",
       "            Plotly.purge(gd);\n",
       "            observer.disconnect();\n",
       "        }}\n",
       "}});\n",
       "\n",
       "// Listen for the removal of the full notebook cells\n",
       "var notebookContainer = gd.closest('#notebook-container');\n",
       "if (notebookContainer) {{\n",
       "    x.observe(notebookContainer, {childList: true});\n",
       "}}\n",
       "\n",
       "// Listen for the clearing of the current output cell\n",
       "var outputEl = gd.closest('.output');\n",
       "if (outputEl) {{\n",
       "    x.observe(outputEl, {childList: true});\n",
       "}}\n",
       "\n",
       "                        })\n",
       "                };\n",
       "                });\n",
       "            </script>\n",
       "        </div>"
      ]
     },
     "metadata": {},
     "output_type": "display_data"
    }
   ],
   "source": [
    "import plotly as py\n",
    "import plotly.graph_objs as go\n",
    "\n",
    "fig = {\n",
    "  \"data\": [\n",
    "    {\n",
    "      \"values\": [Suicide_cut_pierce, Attempt_cut_pierce],\n",
    "      \"labels\": [\n",
    "        \"Fatal\",\n",
    "        \"Non-Fatal\",\n",
    "        \n",
    "      ],\n",
    "      \"textposition\":\"outside\",\n",
    "      \"domain\": {\"column\": 0},\n",
    "      \"name\": \"Cutting\",\n",
    "      \"hoverinfo\":\"label+percent+name\",\n",
    "      \"hole\": .0,\n",
    "      \"type\": \"pie\"\n",
    "    },\n",
    "    {\n",
    "      \"values\": [Suicide_Poisoning,Attempt_Poisoning],\n",
    "      \"labels\": [\n",
    "        \"Fatal\",\n",
    "        \"Non-Fatal\",\n",
    "       \n",
    "      ],\n",
    "      \"text\":[\"Poison\"],\n",
    "      \"textposition\":\"outside\",\n",
    "      \"domain\": {\"column\": 1},\n",
    "      \"name\": \"Poison\",\n",
    "      \"hoverinfo\":\"label+percent+name\",\n",
    "      \"hole\": .0,\n",
    "      \"type\": \"pie\"\n",
    "        \n",
    "    },\n",
    "    {\n",
    "     \"values\": [Suicide_gunshot,Attempt_gunshot],\n",
    "      \"labels\": [\n",
    "        \"Fatal\",\n",
    "        \"Non-Fatal\",\n",
    "       \n",
    "      ],\n",
    "      \"text\":[\"Firearm\"],\n",
    "      \"textposition\":\"outside\",\n",
    "      \"domain\": {\"column\": 2},\n",
    "      \"name\": \"Firearm\",\n",
    "      \"hoverinfo\":\"label+percent+name\",\n",
    "      \"hole\": .0,\n",
    "      \"type\": \"pie\"       \n",
    "        \n",
    "    }],    \n",
    "\n",
    "  \"layout\": {\n",
    "        \"title\":\"Fatal Suicide attempts\",\n",
    "        \"grid\": {\"rows\": 3, \"columns\": 3},\n",
    "        \"annotations\": [\n",
    "            {\n",
    "                \"font\": {\n",
    "                    \"size\": 20\n",
    "                },\n",
    "                \"showarrow\": False,\n",
    "                \"text\": \"Cutting\",\n",
    "                \"x\": 0.10,\n",
    "                \"y\": 0.50\n",
    "            },\n",
    "            {\n",
    "                \"font\": {\n",
    "                    \"size\": 20\n",
    "                },\n",
    "                \"showarrow\": False,\n",
    "                \"text\": \"Poison\",\n",
    "                \"x\": 0.50,\n",
    "                \"y\": 0.50\n",
    "            },\n",
    "            {\n",
    "                \"font\": {\n",
    "                    \"size\": 20\n",
    "                },\n",
    "                \"showarrow\": False,\n",
    "                \"text\": \"Firearm\",\n",
    "                \"x\": 0.90,\n",
    "                \"y\": 0.50\n",
    "            }\n",
    "        ]\n",
    "    }\n",
    "}\n",
    "\n",
    "\n",
    "py.offline.iplot(fig)"
   ]
  },
  {
   "cell_type": "markdown",
   "metadata": {},
   "source": [
    "## Chart-13"
   ]
  },
  {
   "cell_type": "markdown",
   "metadata": {},
   "source": [
    "### Chart#13 - Policies that limit access to guns have decreased suicides\n",
    "\n",
    "Rate of firearm suicides after Australia's gun buyback program. Fatal Suicide data comes from Australian Bureau of Statistics. To recreate this visualization we need to have total number of actual deaths by Firearm. \n",
    "\n",
    "\n",
    "- Data Access :Yes. \n",
    "http://www.abs.gov.au/AUSSTATS/abs@.nsf/second+level+view?ReadForm&prodno=3303.0&viewtitle=Causes%20of%20Death,%20Australia~2017~Latest~26/09/2018&&tabname=Past%20Future%20Issues&prodno=3303.0&issue=2017&num=&view=&\n",
    "- Up to Date :Yes, data is available from 1993-2017. \n",
    "- Quality :Good.\n",
    "- Data Source: The data is downloaded from https://www.abs.gov.au/\n",
    "\n",
    "\n",
    "** Steps followed to collect the data: *\n",
    "\n",
    "     1. Go to https://www.abs.gov.au/\n",
    "     2. Choose Statistics - Health - Causes of Death - Causes of Death - Downloads - Different years\n",
    "     3. choose Intentional self-harm (Suicide)\n",
    "     4. Download to CSV file, save sheet 5 or mechanism of injury\n",
    "     5. CSV file needs to be modify to only include the persons data, as we are not interested in gender breakdown.\n",
    "     6. Remaining manipulation in Python"
   ]
  },
  {
   "cell_type": "code",
   "execution_count": 18,
   "metadata": {},
   "outputs": [],
   "source": [
    "import pandas as pd \n",
    "import numpy as np"
   ]
  },
  {
   "cell_type": "code",
   "execution_count": 19,
   "metadata": {},
   "outputs": [],
   "source": [
    "# Read Fatal-Cut suicide data from 1998 to 2006 from GIT\n",
    "Yr98_2007=pd.read_csv('https://raw.githubusercontent.com/srivasud/Group7/master/data/1998-2007.csv')"
   ]
  },
  {
   "cell_type": "code",
   "execution_count": 20,
   "metadata": {},
   "outputs": [],
   "source": [
    "# Drop unwanted column\n",
    "Yr98_2007.drop(['Unnamed: 1','Unnamed: 2','Unnamed: 3','Unnamed: 4','Unnamed: 6','Unnamed: 7','Unnamed: 8','Unnamed: 9','Unnamed: 10',],axis=1,inplace=True)"
   ]
  },
  {
   "cell_type": "code",
   "execution_count": 21,
   "metadata": {},
   "outputs": [],
   "source": [
    "# drop unwanted rows\n",
    "Yr1998_2007 = Yr98_2007.loc[31:40:]"
   ]
  },
  {
   "cell_type": "code",
   "execution_count": 24,
   "metadata": {},
   "outputs": [],
   "source": [
    "# Rename the columns.\n",
    "cols=['Year','Suicides']\n",
    "Yr1998_2007.columns=cols"
   ]
  },
  {
   "cell_type": "code",
   "execution_count": 25,
   "metadata": {},
   "outputs": [
    {
     "name": "stderr",
     "output_type": "stream",
     "text": [
      "C:\\Users\\MarvinHP\\AppData\\Local\\Continuum\\anaconda3\\lib\\site-packages\\pandas\\core\\frame.py:3697: SettingWithCopyWarning:\n",
      "\n",
      "\n",
      "A value is trying to be set on a copy of a slice from a DataFrame\n",
      "\n",
      "See the caveats in the documentation: http://pandas.pydata.org/pandas-docs/stable/indexing.html#indexing-view-versus-copy\n",
      "\n"
     ]
    }
   ],
   "source": [
    "# reset index\n",
    "Yr1998_2007.reset_index(inplace=True)\n",
    "# Drop unwanted column\n",
    "Yr1998_2007.drop(['index'],axis=1,inplace=True)"
   ]
  },
  {
   "cell_type": "code",
   "execution_count": 26,
   "metadata": {},
   "outputs": [
    {
     "name": "stderr",
     "output_type": "stream",
     "text": [
      "C:\\Users\\MarvinHP\\AppData\\Local\\Continuum\\anaconda3\\lib\\site-packages\\ipykernel_launcher.py:2: SettingWithCopyWarning:\n",
      "\n",
      "\n",
      "A value is trying to be set on a copy of a slice from a DataFrame.\n",
      "Try using .loc[row_indexer,col_indexer] = value instead\n",
      "\n",
      "See the caveats in the documentation: http://pandas.pydata.org/pandas-docs/stable/indexing.html#indexing-view-versus-copy\n",
      "\n"
     ]
    }
   ],
   "source": [
    "#change string type to float\n",
    "Yr1998_2007['Suicides'] = Yr1998_2007.Suicides.astype(float)"
   ]
  },
  {
   "cell_type": "code",
   "execution_count": 27,
   "metadata": {},
   "outputs": [
    {
     "data": {
      "text/html": [
       "<div>\n",
       "<style scoped>\n",
       "    .dataframe tbody tr th:only-of-type {\n",
       "        vertical-align: middle;\n",
       "    }\n",
       "\n",
       "    .dataframe tbody tr th {\n",
       "        vertical-align: top;\n",
       "    }\n",
       "\n",
       "    .dataframe thead th {\n",
       "        text-align: right;\n",
       "    }\n",
       "</style>\n",
       "<table border=\"1\" class=\"dataframe\">\n",
       "  <thead>\n",
       "    <tr style=\"text-align: right;\">\n",
       "      <th></th>\n",
       "      <th>Year</th>\n",
       "      <th>Suicides</th>\n",
       "    </tr>\n",
       "  </thead>\n",
       "  <tbody>\n",
       "    <tr>\n",
       "      <th>0</th>\n",
       "      <td>1998.00</td>\n",
       "      <td>235.0</td>\n",
       "    </tr>\n",
       "    <tr>\n",
       "      <th>1</th>\n",
       "      <td>1999.00</td>\n",
       "      <td>269.0</td>\n",
       "    </tr>\n",
       "    <tr>\n",
       "      <th>2</th>\n",
       "      <td>2000.00</td>\n",
       "      <td>222.0</td>\n",
       "    </tr>\n",
       "    <tr>\n",
       "      <th>3</th>\n",
       "      <td>2001.00</td>\n",
       "      <td>261.0</td>\n",
       "    </tr>\n",
       "    <tr>\n",
       "      <th>4</th>\n",
       "      <td>2002.00</td>\n",
       "      <td>217.0</td>\n",
       "    </tr>\n",
       "  </tbody>\n",
       "</table>\n",
       "</div>"
      ],
      "text/plain": [
       "      Year  Suicides\n",
       "0  1998.00     235.0\n",
       "1  1999.00     269.0\n",
       "2  2000.00     222.0\n",
       "3  2001.00     261.0\n",
       "4  2002.00     217.0"
      ]
     },
     "execution_count": 27,
     "metadata": {},
     "output_type": "execute_result"
    }
   ],
   "source": [
    "# First file\n",
    "Yr1998_2007.head()"
   ]
  },
  {
   "cell_type": "markdown",
   "metadata": {},
   "source": [
    "####  Second file"
   ]
  },
  {
   "cell_type": "code",
   "execution_count": 28,
   "metadata": {},
   "outputs": [],
   "source": [
    "import pandas as pd \n",
    "import numpy as np"
   ]
  },
  {
   "cell_type": "code",
   "execution_count": 29,
   "metadata": {},
   "outputs": [],
   "source": [
    "# Read Fatal-Cut suicide data from 2008 to 2017 from GIT\n",
    "Yr08_2017=pd.read_csv('https://raw.githubusercontent.com/srivasud/Group7/master/data/2008-2017.csv', header=0)"
   ]
  },
  {
   "cell_type": "code",
   "execution_count": 30,
   "metadata": {},
   "outputs": [],
   "source": [
    "# getting rid of unwanted rows\n",
    "Yr08_2017 = Yr08_2017.loc[3:3:]"
   ]
  },
  {
   "cell_type": "code",
   "execution_count": 31,
   "metadata": {},
   "outputs": [],
   "source": [
    "# transpose rows and columns\n",
    "Yr08_2017 = Yr08_2017.set_index('Unnamed: 0').transpose()"
   ]
  },
  {
   "cell_type": "code",
   "execution_count": 32,
   "metadata": {},
   "outputs": [],
   "source": [
    "# reset index\n",
    "Yr08_2017.reset_index(inplace = True)"
   ]
  },
  {
   "cell_type": "code",
   "execution_count": 33,
   "metadata": {},
   "outputs": [],
   "source": [
    "# rename column index\n",
    "Yr08_2017.rename(columns={'index':'Year'},inplace = True)"
   ]
  },
  {
   "cell_type": "code",
   "execution_count": 34,
   "metadata": {},
   "outputs": [
    {
     "name": "stderr",
     "output_type": "stream",
     "text": [
      "C:\\Users\\MarvinHP\\AppData\\Local\\Continuum\\anaconda3\\lib\\site-packages\\ipykernel_launcher.py:2: FutureWarning:\n",
      "\n",
      "Sorting because non-concatenation axis is not aligned. A future version\n",
      "of pandas will change to not sort by default.\n",
      "\n",
      "To accept the future behavior, pass 'sort=False'.\n",
      "\n",
      "To retain the current behavior and silence the warning, pass 'sort=True'.\n",
      "\n",
      "\n"
     ]
    }
   ],
   "source": [
    "# Concat all the dataframes into one\n",
    "Newdf=pd.concat([Yr08_2017,Yr1998_2007])"
   ]
  },
  {
   "cell_type": "code",
   "execution_count": 35,
   "metadata": {},
   "outputs": [],
   "source": [
    "# sort by year\n",
    "Newdf.sort_values('Year',inplace=True)"
   ]
  },
  {
   "cell_type": "code",
   "execution_count": 36,
   "metadata": {},
   "outputs": [],
   "source": [
    "# fill na with zeros\n",
    "Newdf.fillna(0,inplace=True)"
   ]
  },
  {
   "cell_type": "code",
   "execution_count": 37,
   "metadata": {},
   "outputs": [],
   "source": [
    "#reset index\n",
    "Newdf.reset_index(inplace=True)"
   ]
  },
  {
   "cell_type": "code",
   "execution_count": 38,
   "metadata": {},
   "outputs": [],
   "source": [
    "# drop index column\n",
    "Newdf.drop(columns = 'index',inplace=True)"
   ]
  },
  {
   "cell_type": "code",
   "execution_count": 39,
   "metadata": {},
   "outputs": [],
   "source": [
    "# create new column with total suicides\n",
    "Newdf['totalsuicides'] = Newdf.Firearms + Newdf.Suicides"
   ]
  },
  {
   "cell_type": "code",
   "execution_count": 40,
   "metadata": {},
   "outputs": [],
   "source": [
    "# new column suicide per 1000 residents\n",
    "Newdf['suicideper1000residents']= (Newdf.totalsuicides / 100000) *1000"
   ]
  },
  {
   "cell_type": "code",
   "execution_count": 41,
   "metadata": {},
   "outputs": [],
   "source": [
    "X = Newdf.Year "
   ]
  },
  {
   "cell_type": "code",
   "execution_count": 42,
   "metadata": {},
   "outputs": [],
   "source": [
    "Y = Newdf.suicideper1000residents "
   ]
  },
  {
   "cell_type": "code",
   "execution_count": 43,
   "metadata": {},
   "outputs": [],
   "source": [
    "import matplotlib.pyplot as plt"
   ]
  },
  {
   "cell_type": "code",
   "execution_count": 44,
   "metadata": {},
   "outputs": [
    {
     "data": {
      "text/plain": [
       "[<matplotlib.lines.Line2D at 0x1497a38b5c0>]"
      ]
     },
     "execution_count": 44,
     "metadata": {},
     "output_type": "execute_result"
    },
    {
     "data": {
      "image/png": "[encoded data removed]",
      "text/plain": [
       "<Figure size 432x288 with 1 Axes>"
      ]
     },
     "metadata": {
      "needs_background": "light"
     },
     "output_type": "display_data"
    }
   ],
   "source": [
    "plt.plot(X,Y)"
   ]
  },
  {
   "cell_type": "markdown",
   "metadata": {},
   "source": [
    "## Chart-14"
   ]
  },
  {
   "cell_type": "markdown",
   "metadata": {},
   "source": [
    "### Chart#14 - In states with more guns, more police officers are also killed on duty\n",
    "\n",
    "Police officers are more likely to be killed in homicides in states with more guns. \n",
    "\n",
    "Data comes from https://www.odmp.org/search/browse and https://www.atf.gov/file/130436/download.\n",
    "\n",
    "\n",
    "- Data Access :Yes. \n",
    "https://www.odmp.org/search/browse\n",
    "https://www.atf.gov/file/130436/download\n",
    "\n",
    "- Up to Date :Yes, data is available from 2010-2017 for gun ownership and for office fatality 1808-2019. \n",
    "- Quality : Medium\n",
    "- Data Source: The data is downloaded from https://www.odmp.org/search/browse\n",
    "https://www.atf.gov/file/130436/download\n",
    "\n",
    "\n",
    "** Steps followed to collect the data: *\n",
    "\n",
    "     1. Scrap information from PDF files by year for gun ownership\n",
    "     2. There is no data set for officer fatality. However, there is vizualizations and documents that summarize fatalities\n",
    "     3. I had to create a manual excel file of officers gun fire fatality by state.\n",
    "     4. Remaining manipulation in Python"
   ]
  },
  {
   "cell_type": "code",
   "execution_count": 45,
   "metadata": {},
   "outputs": [],
   "source": [
    "import pandas as pd \n",
    "import numpy as np"
   ]
  },
  {
   "cell_type": "code",
   "execution_count": 46,
   "metadata": {},
   "outputs": [],
   "source": [
    "# Read gun ownership by state from GIT\n",
    "Ownership=pd.read_csv('https://raw.githubusercontent.com/srivasud/Group7/master/data/licensed_ownership_bystate.csv')"
   ]
  },
  {
   "cell_type": "code",
   "execution_count": 47,
   "metadata": {},
   "outputs": [],
   "source": [
    "# Drop unwanted columns \n",
    "Ownership.drop(['Unnamed: 0','weapons','machinegun','short_barreled_rifle','short_barreled_gun','silencer'],axis=1,inplace=True)"
   ]
  },
  {
   "cell_type": "code",
   "execution_count": 48,
   "metadata": {},
   "outputs": [],
   "source": [
    "# group by and to new frame\n",
    "gunownership = Ownership.groupby('state')['Total'].sum().to_frame()"
   ]
  },
  {
   "cell_type": "code",
   "execution_count": 49,
   "metadata": {},
   "outputs": [
    {
     "data": {
      "text/html": [
       "<div>\n",
       "<style scoped>\n",
       "    .dataframe tbody tr th:only-of-type {\n",
       "        vertical-align: middle;\n",
       "    }\n",
       "\n",
       "    .dataframe tbody tr th {\n",
       "        vertical-align: top;\n",
       "    }\n",
       "\n",
       "    .dataframe thead th {\n",
       "        text-align: right;\n",
       "    }\n",
       "</style>\n",
       "<table border=\"1\" class=\"dataframe\">\n",
       "  <thead>\n",
       "    <tr style=\"text-align: right;\">\n",
       "      <th></th>\n",
       "      <th>Total</th>\n",
       "    </tr>\n",
       "    <tr>\n",
       "      <th>state</th>\n",
       "      <th></th>\n",
       "    </tr>\n",
       "  </thead>\n",
       "  <tbody>\n",
       "    <tr>\n",
       "      <th>Alabama</th>\n",
       "      <td>328580</td>\n",
       "    </tr>\n",
       "    <tr>\n",
       "      <th>Alaska</th>\n",
       "      <td>55951</td>\n",
       "    </tr>\n",
       "    <tr>\n",
       "      <th>Arizona</th>\n",
       "      <td>380042</td>\n",
       "    </tr>\n",
       "    <tr>\n",
       "      <th>Arkansas</th>\n",
       "      <td>147102</td>\n",
       "    </tr>\n",
       "    <tr>\n",
       "      <th>California</th>\n",
       "      <td>439126</td>\n",
       "    </tr>\n",
       "  </tbody>\n",
       "</table>\n",
       "</div>"
      ],
      "text/plain": [
       "             Total\n",
       "state             \n",
       "Alabama     328580\n",
       "Alaska       55951\n",
       "Arizona     380042\n",
       "Arkansas    147102\n",
       "California  439126"
      ]
     },
     "execution_count": 49,
     "metadata": {},
     "output_type": "execute_result"
    }
   ],
   "source": [
    "# We have the total gun ownership by states\n",
    "gunownership.head()"
   ]
  },
  {
   "cell_type": "code",
   "execution_count": 50,
   "metadata": {},
   "outputs": [
    {
     "data": {
      "text/plain": [
       "225238.71153846153"
      ]
     },
     "execution_count": 50,
     "metadata": {},
     "output_type": "execute_result"
    }
   ],
   "source": [
    "# average number of gun ownership\n",
    "mean = gunownership.Total.mean()\n",
    "mean"
   ]
  },
  {
   "cell_type": "code",
   "execution_count": 56,
   "metadata": {},
   "outputs": [
    {
     "data": {
      "text/html": [
       "<div>\n",
       "<style scoped>\n",
       "    .dataframe tbody tr th:only-of-type {\n",
       "        vertical-align: middle;\n",
       "    }\n",
       "\n",
       "    .dataframe tbody tr th {\n",
       "        vertical-align: top;\n",
       "    }\n",
       "\n",
       "    .dataframe thead th {\n",
       "        text-align: right;\n",
       "    }\n",
       "</style>\n",
       "<table border=\"1\" class=\"dataframe\">\n",
       "  <thead>\n",
       "    <tr style=\"text-align: right;\">\n",
       "      <th></th>\n",
       "      <th>Total</th>\n",
       "    </tr>\n",
       "    <tr>\n",
       "      <th>state</th>\n",
       "      <th></th>\n",
       "    </tr>\n",
       "  </thead>\n",
       "  <tbody>\n",
       "    <tr>\n",
       "      <th>Alabama</th>\n",
       "      <td>328580</td>\n",
       "    </tr>\n",
       "    <tr>\n",
       "      <th>Arizona</th>\n",
       "      <td>380042</td>\n",
       "    </tr>\n",
       "    <tr>\n",
       "      <th>California</th>\n",
       "      <td>439126</td>\n",
       "    </tr>\n",
       "    <tr>\n",
       "      <th>Connecticut</th>\n",
       "      <td>282750</td>\n",
       "    </tr>\n",
       "    <tr>\n",
       "      <th>Florida</th>\n",
       "      <td>773611</td>\n",
       "    </tr>\n",
       "  </tbody>\n",
       "</table>\n",
       "</div>"
      ],
      "text/plain": [
       "              Total\n",
       "state              \n",
       "Alabama      328580\n",
       "Arizona      380042\n",
       "California   439126\n",
       "Connecticut  282750\n",
       "Florida      773611"
      ]
     },
     "execution_count": 56,
     "metadata": {},
     "output_type": "execute_result"
    }
   ],
   "source": [
    "# Group of states with high gunownership\n",
    "High_states = gunownership[gunownership.Total > mean]\n",
    "High_states.head()"
   ]
  },
  {
   "cell_type": "code",
   "execution_count": 57,
   "metadata": {},
   "outputs": [
    {
     "data": {
      "text/html": [
       "<div>\n",
       "<style scoped>\n",
       "    .dataframe tbody tr th:only-of-type {\n",
       "        vertical-align: middle;\n",
       "    }\n",
       "\n",
       "    .dataframe tbody tr th {\n",
       "        vertical-align: top;\n",
       "    }\n",
       "\n",
       "    .dataframe thead th {\n",
       "        text-align: right;\n",
       "    }\n",
       "</style>\n",
       "<table border=\"1\" class=\"dataframe\">\n",
       "  <thead>\n",
       "    <tr style=\"text-align: right;\">\n",
       "      <th></th>\n",
       "      <th>Total</th>\n",
       "    </tr>\n",
       "    <tr>\n",
       "      <th>state</th>\n",
       "      <th></th>\n",
       "    </tr>\n",
       "  </thead>\n",
       "  <tbody>\n",
       "    <tr>\n",
       "      <th>Alaska</th>\n",
       "      <td>55951</td>\n",
       "    </tr>\n",
       "    <tr>\n",
       "      <th>Arkansas</th>\n",
       "      <td>147102</td>\n",
       "    </tr>\n",
       "    <tr>\n",
       "      <th>Colorado</th>\n",
       "      <td>199368</td>\n",
       "    </tr>\n",
       "    <tr>\n",
       "      <th>Delaware</th>\n",
       "      <td>11338</td>\n",
       "    </tr>\n",
       "    <tr>\n",
       "      <th>District_of_Columbia</th>\n",
       "      <td>46349</td>\n",
       "    </tr>\n",
       "  </tbody>\n",
       "</table>\n",
       "</div>"
      ],
      "text/plain": [
       "                       Total\n",
       "state                       \n",
       "Alaska                 55951\n",
       "Arkansas              147102\n",
       "Colorado              199368\n",
       "Delaware               11338\n",
       "District_of_Columbia   46349"
      ]
     },
     "execution_count": 57,
     "metadata": {},
     "output_type": "execute_result"
    }
   ],
   "source": [
    "## Group of states with low gunownership\n",
    "Low_states = gunownership[gunownership.Total < mean]\n",
    "Low_states.head()"
   ]
  },
  {
   "cell_type": "markdown",
   "metadata": {},
   "source": [
    "File 2"
   ]
  },
  {
   "cell_type": "code",
   "execution_count": 53,
   "metadata": {},
   "outputs": [],
   "source": [
    "# Read gun fire officer fatalities by state from GIT\n",
    "statefatalities=pd.read_csv('https://raw.githubusercontent.com/srivasud/Group7/master/data/stateofficersdeath.csv')"
   ]
  },
  {
   "cell_type": "code",
   "execution_count": 54,
   "metadata": {},
   "outputs": [],
   "source": [
    "# drom unwated columns\n",
    "statefatalities.drop(columns=['id'], inplace = True )"
   ]
  },
  {
   "cell_type": "code",
   "execution_count": 55,
   "metadata": {},
   "outputs": [
    {
     "data": {
      "text/html": [
       "<div>\n",
       "<style scoped>\n",
       "    .dataframe tbody tr th:only-of-type {\n",
       "        vertical-align: middle;\n",
       "    }\n",
       "\n",
       "    .dataframe tbody tr th {\n",
       "        vertical-align: top;\n",
       "    }\n",
       "\n",
       "    .dataframe thead th {\n",
       "        text-align: right;\n",
       "    }\n",
       "</style>\n",
       "<table border=\"1\" class=\"dataframe\">\n",
       "  <thead>\n",
       "    <tr style=\"text-align: right;\">\n",
       "      <th></th>\n",
       "      <th>State</th>\n",
       "      <th>abbr</th>\n",
       "      <th>gunfire_deaths</th>\n",
       "    </tr>\n",
       "  </thead>\n",
       "  <tbody>\n",
       "    <tr>\n",
       "      <th>0</th>\n",
       "      <td>Alabama</td>\n",
       "      <td>AL</td>\n",
       "      <td>314.0</td>\n",
       "    </tr>\n",
       "    <tr>\n",
       "      <th>1</th>\n",
       "      <td>Alaska</td>\n",
       "      <td>AK</td>\n",
       "      <td>33.0</td>\n",
       "    </tr>\n",
       "    <tr>\n",
       "      <th>2</th>\n",
       "      <td>Arizona</td>\n",
       "      <td>AZ</td>\n",
       "      <td>141.0</td>\n",
       "    </tr>\n",
       "    <tr>\n",
       "      <th>3</th>\n",
       "      <td>Arkansas</td>\n",
       "      <td>AR</td>\n",
       "      <td>183.0</td>\n",
       "    </tr>\n",
       "    <tr>\n",
       "      <th>4</th>\n",
       "      <td>California</td>\n",
       "      <td>CA</td>\n",
       "      <td>747.0</td>\n",
       "    </tr>\n",
       "  </tbody>\n",
       "</table>\n",
       "</div>"
      ],
      "text/plain": [
       "        State abbr  gunfire_deaths\n",
       "0     Alabama   AL           314.0\n",
       "1      Alaska   AK            33.0\n",
       "2     Arizona   AZ           141.0\n",
       "3    Arkansas   AR           183.0\n",
       "4  California   CA           747.0"
      ]
     },
     "execution_count": 55,
     "metadata": {},
     "output_type": "execute_result"
    }
   ],
   "source": [
    "# Rename the columns \n",
    "cols=['State','abbr','gunfire_deaths']\n",
    "statefatalities.columns=cols\n",
    "statefatalities.head()"
   ]
  },
  {
   "cell_type": "markdown",
   "metadata": {},
   "source": [
    "We now have 2 groups, one with low gun ownership and the other with high. We also have gunfire fatalities of police officers by state. These information would allow us to reproduce visualization 14."
   ]
  },
  {
   "cell_type": "code",
   "execution_count": null,
   "metadata": {},
   "outputs": [],
   "source": []
  },
  {
   "cell_type": "markdown",
   "metadata": {},
   "source": [
    "## Chart-15"
   ]
  },
  {
   "cell_type": "markdown",
   "metadata": {},
   "source": []
  },
  {
   "cell_type": "code",
   "execution_count": null,
   "metadata": {},
   "outputs": [],
   "source": []
  },
  {
   "cell_type": "markdown",
   "metadata": {},
   "source": [
    "## Chart 17"
   ]
  },
  {
   "cell_type": "markdown",
   "metadata": {},
   "source": [
    "For __Chart 17__, the data can be obtained from Pew Research (you'll need to create an account to gain access to their excellent database of survey data)."
   ]
  },
  {
   "cell_type": "markdown",
   "metadata": {},
   "source": [
    "For this chart, the data can be downloaded from [this link](https://www.pewsocialtrends.org/2017/06/22/americas-complex-relationship-with-guns/).\n",
    "\n",
    "Note that it comes zipped with the actual questionnaire and methodology. To load the dataset, you'll need to use pyreadstat to load in the .sav file included in the download. You'll immediately notice that the data is incredibly complex and measures about 130 different variables, as do most well constructed surveys do.\n",
    "\n",
    "Because of the complexity and requirement to understand the research methodology in order to replicate the charts, we won't attempt this feat for now.\n",
    "\n",
    "(Even Vox didn't recreate the charts; they simply published the ones made by Pew Research onto their website!)"
   ]
  },
  {
   "cell_type": "markdown",
   "metadata": {},
   "source": [
    "Here's the data anyway:"
   ]
  },
  {
   "cell_type": "code",
   "execution_count": null,
   "metadata": {},
   "outputs": [],
   "source": [
    "import pyreadstat\n",
    "\n",
    "w28, meta = pyreadstat.read_sav('https://raw.githubusercontent.com/srivasud/Group7/master/data/ATP W28.sav')"
   ]
  },
  {
   "cell_type": "markdown",
   "metadata": {},
   "source": [
    "And proof that the dataset is complex:"
   ]
  },
  {
   "cell_type": "code",
   "execution_count": null,
   "metadata": {},
   "outputs": [],
   "source": [
    "shape(w28)"
   ]
  },
  {
   "cell_type": "code",
   "execution_count": null,
   "metadata": {},
   "outputs": [],
   "source": [
    "w28[:10]"
   ]
  },
  {
   "cell_type": "code",
   "execution_count": null,
   "metadata": {},
   "outputs": [],
   "source": [
    "w28.columns.unique()"
   ]
  }
 ],
 "metadata": {
  "kernelspec": {
   "display_name": "Python 3",
   "language": "python",
   "name": "python3"
  },
  "language_info": {
   "codemirror_mode": {
    "name": "ipython",
    "version": 3
   },
   "file_extension": ".py",
   "mimetype": "text/x-python",
   "name": "python",
   "nbconvert_exporter": "python",
   "pygments_lexer": "ipython3",
   "version": "3.7.3"
  },
  "toc": {
   "base_numbering": 1,
   "nav_menu": {},
   "number_sections": true,
   "sideBar": true,
   "skip_h1_title": false,
   "title_cell": "Table of Contents",
   "title_sidebar": "Contents",
   "toc_cell": false,
   "toc_position": {},
   "toc_section_display": true,
   "toc_window_display": false
  }
 },
 "nbformat": 4,
 "nbformat_minor": 2
}
