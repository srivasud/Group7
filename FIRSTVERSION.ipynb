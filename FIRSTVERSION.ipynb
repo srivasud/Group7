{
 "cells": [
  {
   "cell_type": "markdown",
   "metadata": {},
   "source": [
    "# Visualization 1 - States with more guns see more deaths by guns"
   ]
  },
  {
   "cell_type": "code",
   "execution_count": 22,
   "metadata": {},
   "outputs": [],
   "source": [
    "import pandas as pd \n",
    "import numpy as np\n",
    "from scipy import stats"
   ]
  },
  {
   "cell_type": "code",
   "execution_count": 80,
   "metadata": {},
   "outputs": [],
   "source": [
    "# utility method to return a dataframe filtered by given year and sort by total laws descending\n",
    "def show_laws_year(year,law_state):\n",
    "   x = law_state[law_state['year'] == year].reset_index(drop = True)\n",
    "   x = x.sort_values(by = 'lawtotal', ascending = False)\n",
    "   return x"
   ]
  },
  {
   "cell_type": "code",
   "execution_count": 100,
   "metadata": {},
   "outputs": [],
   "source": [
    "# prepare dataframe for the passed year\n",
    "def returnProcessedDF(year):\n",
    "    # Read Firearm homicide data from CDC website\n",
    "    homi_state=pd.read_csv('https://raw.githubusercontent.com/srivasud/Group7/master/data/FirearmHomicideByState-99-2017.csv')\n",
    "    # Read Firearm suicide data from CDC website\n",
    "    suicide_state=pd.read_csv('https://raw.githubusercontent.com/srivasud/Group7/master/data/FirearmSuicideByState-99-2017.csv')\n",
    "\n",
    "    # merge the two datasets by State and Year\n",
    "    deaths_state=pd.merge(homi_state,suicide_state,on=[\"State\",\"Year\"],how='left')\n",
    "\n",
    "    # Fill nas with zeros\n",
    "    deaths_state=deaths_state.fillna(0)\n",
    "    # convert SuicideDeaths to integer to avoid display 127.0\n",
    "    deaths_state['SuicideDeaths']=deaths_state['SuicideDeaths'].values.astype(np.int)\n",
    "\n",
    "    # Calculate Deaths_Rate Per 100K=(TotalDeaths/TotalPopulation)*100000 and round to 1 decimal place\n",
    "    deaths_state['Deaths_Rate']=round(((deaths_state.HomicideDeaths+deaths_state.SuicideDeaths)/(deaths_state.TotalPopulation))*100000,1)\n",
    "\n",
    "    # state abbreviation\n",
    "    stateabbr=pd.read_csv('https://raw.githubusercontent.com/srivasud/Group7/master/data/Abbr.csv')\n",
    "    # drop extra columns(not needed)\n",
    "    stateabbr=stateabbr.drop([\"Unnamed: 2\"],axis=1)\n",
    "    stateabbr=stateabbr.drop([\"Unnamed: 3\"],axis=1)\n",
    "\n",
    "    # rename abbr to StateCode\n",
    "    stateabbr=stateabbr.rename(columns={\"state\":\"State\",\"abbr\":\"StateCode\"})\n",
    "\n",
    "    # merge deaths by state with state abbreviation dataset\n",
    "    deaths_state=pd.merge(deaths_state,stateabbr,on=\"State\",how=\"inner\")\n",
    "\n",
    "    # gun ownership processing\n",
    "    # read from licensed_ownership_bystate.csv\n",
    "    df=pd.read_csv('https://raw.githubusercontent.com/srivasud/Group7/master/data/licensed_ownership_bystate.csv')\n",
    "    df.reset_index(inplace=True)\n",
    "    # select State,Year and Total Weapons only\n",
    "    final_dff=df[[\"State\",\"Year\",\"Total\"]]\n",
    "    final_dff=final_dff.drop_duplicates()\n",
    "\n",
    "    # rename Total to Total_Firearms\n",
    "    final_dff=final_dff.rename(columns={\"Total\":\"Total_Firearms\"})\n",
    "    # merge deaths_state with final_dff (total firearms by state,year)\n",
    "    deaths_state=pd.merge(deaths_state,final_dff,on=[\"State\",\"Year\"],how=\"inner\")\n",
    "    # calculate Guns_Per1000 as TotalFirearms/AdultPopulation times 1000\n",
    "    deaths_state['Guns_PerCapita']=round((deaths_state['Total_Firearms']/deaths_state['TotalPopulation'])*1000)\n",
    "\n",
    "    deaths_state = deaths_state.sort_values(by=['Guns_PerCapita','Deaths_Rate'], ascending=False)\n",
    "    deaths_state['TotalDeaths']=deaths_state.HomicideDeaths+deaths_state.SuicideDeaths\n",
    "    newdf = deaths_state[deaths_state.Year==year]\n",
    "    max_value = newdf[\"Guns_PerCapita\"].max()\n",
    "    min_value = newdf[\"Guns_PerCapita\"].min()\n",
    "    newdf[\"Normalized_Guns_PerCapita\"] = (newdf[\"Guns_PerCapita\"] - min_value) / (max_value - min_value)\n",
    "    newdf=newdf.sort_values(by=['Normalized_Guns_PerCapita','Deaths_Rate'], ascending=False)[['State','Year','StateCode','Guns_PerCapita','Deaths_Rate','TotalDeaths']]\n",
    "\n",
    "    # read state wise total law counts\n",
    "    law_state=pd.read_csv('https://raw.githubusercontent.com/srivasud/Group7/master/data/lawsstate.csv')\n",
    "    law_state_n = show_laws_year(2016,law_state)\n",
    "    law_state_n=law_state_n.rename(columns={\"state\":\"State\"})\n",
    "    law_state_n = law_state_n.iloc[:,[0,-1]]\n",
    "    # sort values by state & show head\n",
    "    law_state_n = law_state_n.sort_values(by=['State'])\n",
    "\n",
    "    # merge the data frame\n",
    "    newdf=pd.merge(newdf,law_state_n,on=[\"State\"],how=\"inner\")\n",
    "    return newdf\n",
    "#newdf[newdf.Guns_PerCapita>22.275]"
   ]
  },
  {
   "cell_type": "code",
   "execution_count": 108,
   "metadata": {},
   "outputs": [
    {
     "name": "stderr",
     "output_type": "stream",
     "text": [
      "/Users/srinivasanvasudevan/.local/lib/python3.7/site-packages/ipykernel_launcher.py:50: SettingWithCopyWarning: \n",
      "A value is trying to be set on a copy of a slice from a DataFrame.\n",
      "Try using .loc[row_indexer,col_indexer] = value instead\n",
      "\n",
      "See the caveats in the documentation: http://pandas.pydata.org/pandas-docs/stable/indexing.html#indexing-view-versus-copy\n"
     ]
    },
    {
     "data": {
      "text/html": [
       "<div>\n",
       "<style scoped>\n",
       "    .dataframe tbody tr th:only-of-type {\n",
       "        vertical-align: middle;\n",
       "    }\n",
       "\n",
       "    .dataframe tbody tr th {\n",
       "        vertical-align: top;\n",
       "    }\n",
       "\n",
       "    .dataframe thead th {\n",
       "        text-align: right;\n",
       "    }\n",
       "</style>\n",
       "<table border=\"1\" class=\"dataframe\">\n",
       "  <thead>\n",
       "    <tr style=\"text-align: right;\">\n",
       "      <th></th>\n",
       "      <th>State</th>\n",
       "      <th>Year</th>\n",
       "      <th>StateCode</th>\n",
       "      <th>Guns_PerCapita</th>\n",
       "      <th>Deaths_Rate</th>\n",
       "      <th>TotalDeaths</th>\n",
       "      <th>lawtotal</th>\n",
       "    </tr>\n",
       "  </thead>\n",
       "  <tbody>\n",
       "    <tr>\n",
       "      <th>1</th>\n",
       "      <td>Virginia</td>\n",
       "      <td>2016</td>\n",
       "      <td>VA</td>\n",
       "      <td>37.0</td>\n",
       "      <td>12.2</td>\n",
       "      <td>1024</td>\n",
       "      <td>13</td>\n",
       "    </tr>\n",
       "    <tr>\n",
       "      <th>8</th>\n",
       "      <td>Utah</td>\n",
       "      <td>2016</td>\n",
       "      <td>UT</td>\n",
       "      <td>24.0</td>\n",
       "      <td>11.7</td>\n",
       "      <td>357</td>\n",
       "      <td>11</td>\n",
       "    </tr>\n",
       "    <tr>\n",
       "      <th>9</th>\n",
       "      <td>Connecticut</td>\n",
       "      <td>2016</td>\n",
       "      <td>CT</td>\n",
       "      <td>23.0</td>\n",
       "      <td>4.6</td>\n",
       "      <td>165</td>\n",
       "      <td>90</td>\n",
       "    </tr>\n",
       "    <tr>\n",
       "      <th>12</th>\n",
       "      <td>Texas</td>\n",
       "      <td>2016</td>\n",
       "      <td>TX</td>\n",
       "      <td>21.0</td>\n",
       "      <td>11.6</td>\n",
       "      <td>3238</td>\n",
       "      <td>18</td>\n",
       "    </tr>\n",
       "    <tr>\n",
       "      <th>16</th>\n",
       "      <td>Kansas</td>\n",
       "      <td>2016</td>\n",
       "      <td>KS</td>\n",
       "      <td>18.0</td>\n",
       "      <td>12.7</td>\n",
       "      <td>370</td>\n",
       "      <td>4</td>\n",
       "    </tr>\n",
       "    <tr>\n",
       "      <th>17</th>\n",
       "      <td>Pennsylvania</td>\n",
       "      <td>2016</td>\n",
       "      <td>PA</td>\n",
       "      <td>18.0</td>\n",
       "      <td>11.8</td>\n",
       "      <td>1514</td>\n",
       "      <td>37</td>\n",
       "    </tr>\n",
       "    <tr>\n",
       "      <th>20</th>\n",
       "      <td>Florida</td>\n",
       "      <td>2016</td>\n",
       "      <td>FL</td>\n",
       "      <td>17.0</td>\n",
       "      <td>12.9</td>\n",
       "      <td>2664</td>\n",
       "      <td>21</td>\n",
       "    </tr>\n",
       "    <tr>\n",
       "      <th>21</th>\n",
       "      <td>Maryland</td>\n",
       "      <td>2016</td>\n",
       "      <td>MD</td>\n",
       "      <td>17.0</td>\n",
       "      <td>11.4</td>\n",
       "      <td>687</td>\n",
       "      <td>64</td>\n",
       "    </tr>\n",
       "    <tr>\n",
       "      <th>23</th>\n",
       "      <td>Ohio</td>\n",
       "      <td>2016</td>\n",
       "      <td>OH</td>\n",
       "      <td>15.0</td>\n",
       "      <td>12.8</td>\n",
       "      <td>1483</td>\n",
       "      <td>16</td>\n",
       "    </tr>\n",
       "    <tr>\n",
       "      <th>24</th>\n",
       "      <td>Oregon</td>\n",
       "      <td>2016</td>\n",
       "      <td>OR</td>\n",
       "      <td>15.0</td>\n",
       "      <td>12.0</td>\n",
       "      <td>492</td>\n",
       "      <td>35</td>\n",
       "    </tr>\n",
       "    <tr>\n",
       "      <th>25</th>\n",
       "      <td>Minnesota</td>\n",
       "      <td>2016</td>\n",
       "      <td>MN</td>\n",
       "      <td>14.0</td>\n",
       "      <td>7.5</td>\n",
       "      <td>415</td>\n",
       "      <td>41</td>\n",
       "    </tr>\n",
       "    <tr>\n",
       "      <th>26</th>\n",
       "      <td>Washington</td>\n",
       "      <td>2016</td>\n",
       "      <td>WA</td>\n",
       "      <td>13.0</td>\n",
       "      <td>9.1</td>\n",
       "      <td>661</td>\n",
       "      <td>43</td>\n",
       "    </tr>\n",
       "    <tr>\n",
       "      <th>29</th>\n",
       "      <td>Maine</td>\n",
       "      <td>2016</td>\n",
       "      <td>ME</td>\n",
       "      <td>12.0</td>\n",
       "      <td>8.4</td>\n",
       "      <td>112</td>\n",
       "      <td>11</td>\n",
       "    </tr>\n",
       "    <tr>\n",
       "      <th>30</th>\n",
       "      <td>Nebraska</td>\n",
       "      <td>2016</td>\n",
       "      <td>NE</td>\n",
       "      <td>12.0</td>\n",
       "      <td>8.4</td>\n",
       "      <td>161</td>\n",
       "      <td>22</td>\n",
       "    </tr>\n",
       "    <tr>\n",
       "      <th>31</th>\n",
       "      <td>Illinois</td>\n",
       "      <td>2016</td>\n",
       "      <td>IL</td>\n",
       "      <td>11.0</td>\n",
       "      <td>11.3</td>\n",
       "      <td>1450</td>\n",
       "      <td>65</td>\n",
       "    </tr>\n",
       "    <tr>\n",
       "      <th>32</th>\n",
       "      <td>Wisconsin</td>\n",
       "      <td>2016</td>\n",
       "      <td>WI</td>\n",
       "      <td>11.0</td>\n",
       "      <td>11.1</td>\n",
       "      <td>643</td>\n",
       "      <td>23</td>\n",
       "    </tr>\n",
       "    <tr>\n",
       "      <th>33</th>\n",
       "      <td>Vermont</td>\n",
       "      <td>2016</td>\n",
       "      <td>VT</td>\n",
       "      <td>9.0</td>\n",
       "      <td>11.1</td>\n",
       "      <td>69</td>\n",
       "      <td>6</td>\n",
       "    </tr>\n",
       "    <tr>\n",
       "      <th>34</th>\n",
       "      <td>Iowa</td>\n",
       "      <td>2016</td>\n",
       "      <td>IA</td>\n",
       "      <td>9.0</td>\n",
       "      <td>8.8</td>\n",
       "      <td>277</td>\n",
       "      <td>25</td>\n",
       "    </tr>\n",
       "    <tr>\n",
       "      <th>35</th>\n",
       "      <td>California</td>\n",
       "      <td>2016</td>\n",
       "      <td>CA</td>\n",
       "      <td>9.0</td>\n",
       "      <td>7.8</td>\n",
       "      <td>3062</td>\n",
       "      <td>104</td>\n",
       "    </tr>\n",
       "    <tr>\n",
       "      <th>36</th>\n",
       "      <td>Michigan</td>\n",
       "      <td>2016</td>\n",
       "      <td>MI</td>\n",
       "      <td>7.0</td>\n",
       "      <td>12.1</td>\n",
       "      <td>1199</td>\n",
       "      <td>21</td>\n",
       "    </tr>\n",
       "    <tr>\n",
       "      <th>37</th>\n",
       "      <td>Hawaii</td>\n",
       "      <td>2016</td>\n",
       "      <td>HI</td>\n",
       "      <td>6.0</td>\n",
       "      <td>4.1</td>\n",
       "      <td>59</td>\n",
       "      <td>79</td>\n",
       "    </tr>\n",
       "    <tr>\n",
       "      <th>38</th>\n",
       "      <td>Delaware</td>\n",
       "      <td>2016</td>\n",
       "      <td>DE</td>\n",
       "      <td>5.0</td>\n",
       "      <td>11.4</td>\n",
       "      <td>109</td>\n",
       "      <td>39</td>\n",
       "    </tr>\n",
       "    <tr>\n",
       "      <th>39</th>\n",
       "      <td>Massachusetts</td>\n",
       "      <td>2016</td>\n",
       "      <td>MA</td>\n",
       "      <td>5.0</td>\n",
       "      <td>3.4</td>\n",
       "      <td>229</td>\n",
       "      <td>101</td>\n",
       "    </tr>\n",
       "  </tbody>\n",
       "</table>\n",
       "</div>"
      ],
      "text/plain": [
       "            State  Year StateCode  Guns_PerCapita  Deaths_Rate  TotalDeaths  \\\n",
       "1        Virginia  2016        VA            37.0         12.2         1024   \n",
       "8            Utah  2016        UT            24.0         11.7          357   \n",
       "9     Connecticut  2016        CT            23.0          4.6          165   \n",
       "12          Texas  2016        TX            21.0         11.6         3238   \n",
       "16         Kansas  2016        KS            18.0         12.7          370   \n",
       "17   Pennsylvania  2016        PA            18.0         11.8         1514   \n",
       "20        Florida  2016        FL            17.0         12.9         2664   \n",
       "21       Maryland  2016        MD            17.0         11.4          687   \n",
       "23           Ohio  2016        OH            15.0         12.8         1483   \n",
       "24         Oregon  2016        OR            15.0         12.0          492   \n",
       "25      Minnesota  2016        MN            14.0          7.5          415   \n",
       "26     Washington  2016        WA            13.0          9.1          661   \n",
       "29          Maine  2016        ME            12.0          8.4          112   \n",
       "30       Nebraska  2016        NE            12.0          8.4          161   \n",
       "31       Illinois  2016        IL            11.0         11.3         1450   \n",
       "32      Wisconsin  2016        WI            11.0         11.1          643   \n",
       "33        Vermont  2016        VT             9.0         11.1           69   \n",
       "34           Iowa  2016        IA             9.0          8.8          277   \n",
       "35     California  2016        CA             9.0          7.8         3062   \n",
       "36       Michigan  2016        MI             7.0         12.1         1199   \n",
       "37         Hawaii  2016        HI             6.0          4.1           59   \n",
       "38       Delaware  2016        DE             5.0         11.4          109   \n",
       "39  Massachusetts  2016        MA             5.0          3.4          229   \n",
       "\n",
       "    lawtotal  \n",
       "1         13  \n",
       "8         11  \n",
       "9         90  \n",
       "12        18  \n",
       "16         4  \n",
       "17        37  \n",
       "20        21  \n",
       "21        64  \n",
       "23        16  \n",
       "24        35  \n",
       "25        41  \n",
       "26        43  \n",
       "29        11  \n",
       "30        22  \n",
       "31        65  \n",
       "32        23  \n",
       "33         6  \n",
       "34        25  \n",
       "35       104  \n",
       "36        21  \n",
       "37        79  \n",
       "38        39  \n",
       "39       101  "
      ]
     },
     "execution_count": 108,
     "metadata": {},
     "output_type": "execute_result"
    },
    {
     "data": {
      "image/png": "[encoded data removed]",
      "text/plain": [
       "<Figure size 1080x720 with 1 Axes>"
      ]
     },
     "metadata": {
      "needs_background": "light"
     },
     "output_type": "display_data"
    }
   ],
   "source": [
    "import matplotlib.pyplot as plt\n",
    "plt.rcParams['figure.figsize'] = (15,10)\n",
    "year=2016\n",
    "newdf = returnProcessedDF(year)    # invoke the above method for year 2016\n",
    "\n",
    "\n",
    "#max_value = newdf[\"Guns_Per1000\"].max()\n",
    "#min_value = newdf[\"Guns_Per1000\"].min()\n",
    "#newdf[\"normalized_gper1000\"] = (newdf[\"Guns_Per1000\"] - min_value) / (max_value - min_value)\n",
    "\n",
    "# Wyoming is an outlier with Guns_Per1000 as 298 and the rest of the states\n",
    "# have Guns_Per1000 < 60. Need to discuss on this. For now filtering this outlier...\n",
    "#newdf = newdf[newdf.State!='Wyoming']\n",
    "\n",
    "X = newdf.Guns_PerCapita.values\n",
    "Y = newdf.Deaths_Rate.values\n",
    "n = newdf.StateCode.values\n",
    "\n",
    "fig, ax = plt.subplots()\n",
    "ax.scatter(X, Y, color='red')\n",
    "for i, txt in enumerate(n):\n",
    "    ax.annotate(txt, (X[i], Y[i]), fontsize=9 )\n",
    "        \n",
    "plt.xlabel('Firearm Ownership(Per Capita)')\n",
    "plt.ylabel('Firearm Deaths per 100K People')\n",
    "plt.title('Firearm Deaths per 100K people vs Firearm Ownership - State wise for Year '+str(year))"
   ]
  },
  {
   "cell_type": "markdown",
   "metadata": {},
   "source": [
    "# Visualization 2"
   ]
  },
  {
   "cell_type": "code",
   "execution_count": 2,
   "metadata": {},
   "outputs": [],
   "source": [
    "# Read data from fire arm laws by state\n",
    "df=pd.read_csv('https://raw.githubusercontent.com/srivasud/Group7/master/data/lawsstate.csv')\n",
    "#http://www.statefirearmlaws.org/national-data/2016"
   ]
  },
  {
   "cell_type": "code",
   "execution_count": 3,
   "metadata": {},
   "outputs": [],
   "source": [
    "# for Year 2016\n",
    "def show_laws(year):\n",
    "   x = df[df['year'] == year].reset_index(drop = True)\n",
    "   x = x.sort_values(by = 'lawtotal', ascending = False)\n",
    "   return x\n"
   ]
  },
  {
   "cell_type": "code",
   "execution_count": 4,
   "metadata": {},
   "outputs": [],
   "source": [
    "# Type in the year for data you want\n",
    "df1 = show_laws(2016)"
   ]
  },
  {
   "cell_type": "code",
   "execution_count": 5,
   "metadata": {},
   "outputs": [],
   "source": [
    "# only need the last column with total laws\n",
    "df2 = df1.iloc[:,[0,-1]]"
   ]
  },
  {
   "cell_type": "code",
   "execution_count": 6,
   "metadata": {},
   "outputs": [
    {
     "data": {
      "text/html": [
       "<div>\n",
       "<style scoped>\n",
       "    .dataframe tbody tr th:only-of-type {\n",
       "        vertical-align: middle;\n",
       "    }\n",
       "\n",
       "    .dataframe tbody tr th {\n",
       "        vertical-align: top;\n",
       "    }\n",
       "\n",
       "    .dataframe thead th {\n",
       "        text-align: right;\n",
       "    }\n",
       "</style>\n",
       "<table border=\"1\" class=\"dataframe\">\n",
       "  <thead>\n",
       "    <tr style=\"text-align: right;\">\n",
       "      <th></th>\n",
       "      <th>state</th>\n",
       "      <th>lawtotal</th>\n",
       "    </tr>\n",
       "  </thead>\n",
       "  <tbody>\n",
       "    <tr>\n",
       "      <th>0</th>\n",
       "      <td>Alabama</td>\n",
       "      <td>10</td>\n",
       "    </tr>\n",
       "    <tr>\n",
       "      <th>1</th>\n",
       "      <td>Alaska</td>\n",
       "      <td>3</td>\n",
       "    </tr>\n",
       "  </tbody>\n",
       "</table>\n",
       "</div>"
      ],
      "text/plain": [
       "     state  lawtotal\n",
       "0  Alabama        10\n",
       "1   Alaska         3"
      ]
     },
     "execution_count": 6,
     "metadata": {},
     "output_type": "execute_result"
    }
   ],
   "source": [
    "# sort values by state & show head\n",
    "df3 = df2.sort_values(by=['state'])\n",
    "df3.head(2)"
   ]
  },
  {
   "cell_type": "markdown",
   "metadata": {},
   "source": [
    "### 2nd file - Gun death per 100K residents by state for 2016"
   ]
  },
  {
   "cell_type": "code",
   "execution_count": 7,
   "metadata": {},
   "outputs": [],
   "source": [
    "# Read data\n",
    "Gunrate=pd.read_csv('https://raw.githubusercontent.com/srivasud/Group7/master/data/yr2016firearmdeathrate.csv')\n",
    "#https://www.kff.org/other/state-indicator/firearms-death-rate-per-100000/?currentTimeframe=0&sortModel=%7B%22colId%22:%22Location%22,%22sort%22:%22asc%22%7D"
   ]
  },
  {
   "cell_type": "code",
   "execution_count": 8,
   "metadata": {},
   "outputs": [],
   "source": [
    "# drop unwanted rows\n",
    "Gunrate = Gunrate.loc[1:51:]"
   ]
  },
  {
   "cell_type": "code",
   "execution_count": 9,
   "metadata": {},
   "outputs": [
    {
     "data": {
      "text/html": [
       "<div>\n",
       "<style scoped>\n",
       "    .dataframe tbody tr th:only-of-type {\n",
       "        vertical-align: middle;\n",
       "    }\n",
       "\n",
       "    .dataframe tbody tr th {\n",
       "        vertical-align: top;\n",
       "    }\n",
       "\n",
       "    .dataframe thead th {\n",
       "        text-align: right;\n",
       "    }\n",
       "</style>\n",
       "<table border=\"1\" class=\"dataframe\">\n",
       "  <thead>\n",
       "    <tr style=\"text-align: right;\">\n",
       "      <th></th>\n",
       "      <th>state</th>\n",
       "      <th>rate</th>\n",
       "    </tr>\n",
       "  </thead>\n",
       "  <tbody>\n",
       "    <tr>\n",
       "      <th>1</th>\n",
       "      <td>Alabama</td>\n",
       "      <td>21.5</td>\n",
       "    </tr>\n",
       "    <tr>\n",
       "      <th>2</th>\n",
       "      <td>Alaska</td>\n",
       "      <td>23.3</td>\n",
       "    </tr>\n",
       "    <tr>\n",
       "      <th>3</th>\n",
       "      <td>Arizona</td>\n",
       "      <td>15.2</td>\n",
       "    </tr>\n",
       "  </tbody>\n",
       "</table>\n",
       "</div>"
      ],
      "text/plain": [
       "     state  rate\n",
       "1  Alabama  21.5\n",
       "2   Alaska  23.3\n",
       "3  Arizona  15.2"
      ]
     },
     "execution_count": 9,
     "metadata": {},
     "output_type": "execute_result"
    }
   ],
   "source": [
    "# Rename the column\n",
    "cols=['state','rate']\n",
    "Gunrate.columns=cols\n",
    "Gunrate.head(3)"
   ]
  },
  {
   "cell_type": "code",
   "execution_count": 10,
   "metadata": {},
   "outputs": [],
   "source": [
    "# reset index and drop unwanted column\n",
    "Gunrate.reset_index(inplace=True)\n",
    "Gunrate.drop(['index'],axis=1,inplace=True)"
   ]
  },
  {
   "cell_type": "code",
   "execution_count": 11,
   "metadata": {
    "scrolled": true
   },
   "outputs": [
    {
     "data": {
      "text/html": [
       "<div>\n",
       "<style scoped>\n",
       "    .dataframe tbody tr th:only-of-type {\n",
       "        vertical-align: middle;\n",
       "    }\n",
       "\n",
       "    .dataframe tbody tr th {\n",
       "        vertical-align: top;\n",
       "    }\n",
       "\n",
       "    .dataframe thead th {\n",
       "        text-align: right;\n",
       "    }\n",
       "</style>\n",
       "<table border=\"1\" class=\"dataframe\">\n",
       "  <thead>\n",
       "    <tr style=\"text-align: right;\">\n",
       "      <th></th>\n",
       "      <th>state</th>\n",
       "      <th>rate</th>\n",
       "    </tr>\n",
       "  </thead>\n",
       "  <tbody>\n",
       "    <tr>\n",
       "      <th>0</th>\n",
       "      <td>Alabama</td>\n",
       "      <td>21.5</td>\n",
       "    </tr>\n",
       "    <tr>\n",
       "      <th>1</th>\n",
       "      <td>Alaska</td>\n",
       "      <td>23.3</td>\n",
       "    </tr>\n",
       "    <tr>\n",
       "      <th>2</th>\n",
       "      <td>Arizona</td>\n",
       "      <td>15.2</td>\n",
       "    </tr>\n",
       "  </tbody>\n",
       "</table>\n",
       "</div>"
      ],
      "text/plain": [
       "     state  rate\n",
       "0  Alabama  21.5\n",
       "1   Alaska  23.3\n",
       "2  Arizona  15.2"
      ]
     },
     "execution_count": 11,
     "metadata": {},
     "output_type": "execute_result"
    }
   ],
   "source": [
    "Gunrate.sort_values(by=['state'])\n",
    "Gunrate.head(3)"
   ]
  },
  {
   "cell_type": "markdown",
   "metadata": {},
   "source": [
    "### Get State abbreviations"
   ]
  },
  {
   "cell_type": "code",
   "execution_count": 12,
   "metadata": {},
   "outputs": [],
   "source": [
    "# Read state abbreviations from excel file\n",
    "stateabbr=pd.read_csv('https://raw.githubusercontent.com/srivasud/Group7/master/data/Abbr.csv')"
   ]
  },
  {
   "cell_type": "code",
   "execution_count": 13,
   "metadata": {},
   "outputs": [
    {
     "data": {
      "text/html": [
       "<div>\n",
       "<style scoped>\n",
       "    .dataframe tbody tr th:only-of-type {\n",
       "        vertical-align: middle;\n",
       "    }\n",
       "\n",
       "    .dataframe tbody tr th {\n",
       "        vertical-align: top;\n",
       "    }\n",
       "\n",
       "    .dataframe thead th {\n",
       "        text-align: right;\n",
       "    }\n",
       "</style>\n",
       "<table border=\"1\" class=\"dataframe\">\n",
       "  <thead>\n",
       "    <tr style=\"text-align: right;\">\n",
       "      <th></th>\n",
       "      <th>state</th>\n",
       "      <th>abbr</th>\n",
       "      <th>Unnamed: 2</th>\n",
       "      <th>Unnamed: 3</th>\n",
       "    </tr>\n",
       "  </thead>\n",
       "  <tbody>\n",
       "    <tr>\n",
       "      <th>0</th>\n",
       "      <td>Alabama</td>\n",
       "      <td>AL</td>\n",
       "      <td>NaN</td>\n",
       "      <td>NaN</td>\n",
       "    </tr>\n",
       "    <tr>\n",
       "      <th>1</th>\n",
       "      <td>Alaska</td>\n",
       "      <td>AK</td>\n",
       "      <td>NaN</td>\n",
       "      <td>NaN</td>\n",
       "    </tr>\n",
       "  </tbody>\n",
       "</table>\n",
       "</div>"
      ],
      "text/plain": [
       "     state abbr  Unnamed: 2  Unnamed: 3\n",
       "0  Alabama   AL         NaN         NaN\n",
       "1   Alaska   AK         NaN         NaN"
      ]
     },
     "execution_count": 13,
     "metadata": {},
     "output_type": "execute_result"
    }
   ],
   "source": [
    "stateabbr.sort_values(by=['state'])\n",
    "stateabbr.head(2)"
   ]
  },
  {
   "cell_type": "markdown",
   "metadata": {},
   "source": [
    "### concat data frames into one"
   ]
  },
  {
   "cell_type": "code",
   "execution_count": 14,
   "metadata": {},
   "outputs": [
    {
     "name": "stderr",
     "output_type": "stream",
     "text": [
      "C:\\Users\\MarvinHP\\AppData\\Local\\Continuum\\anaconda3\\lib\\site-packages\\ipykernel_launcher.py:2: FutureWarning: Sorting because non-concatenation axis is not aligned. A future version\n",
      "of pandas will change to not sort by default.\n",
      "\n",
      "To accept the future behavior, pass 'sort=False'.\n",
      "\n",
      "To retain the current behavior and silence the warning, pass 'sort=True'.\n",
      "\n",
      "  \n"
     ]
    }
   ],
   "source": [
    "# Concat all the dataframes into one\n",
    "total=pd.concat([df3,Gunrate])"
   ]
  },
  {
   "cell_type": "code",
   "execution_count": 15,
   "metadata": {},
   "outputs": [],
   "source": [
    "#group by state \n",
    "statelaw_rate = total.groupby('state')['lawtotal','rate',].max()"
   ]
  },
  {
   "cell_type": "code",
   "execution_count": 16,
   "metadata": {},
   "outputs": [],
   "source": [
    "# get rid of NA\n",
    "statelaw_rate['rate'] = statelaw_rate.rate.fillna(0)"
   ]
  },
  {
   "cell_type": "code",
   "execution_count": 17,
   "metadata": {},
   "outputs": [],
   "source": [
    "# get rid of NA\n",
    "statelaw_rate['lawtotal'] = statelaw_rate.lawtotal.fillna(0)"
   ]
  },
  {
   "cell_type": "code",
   "execution_count": 18,
   "metadata": {},
   "outputs": [],
   "source": [
    "# reset index\n",
    "statelaw_rate.reset_index(inplace=True)"
   ]
  },
  {
   "cell_type": "code",
   "execution_count": 19,
   "metadata": {},
   "outputs": [
    {
     "data": {
      "text/html": [
       "<div>\n",
       "<style scoped>\n",
       "    .dataframe tbody tr th:only-of-type {\n",
       "        vertical-align: middle;\n",
       "    }\n",
       "\n",
       "    .dataframe tbody tr th {\n",
       "        vertical-align: top;\n",
       "    }\n",
       "\n",
       "    .dataframe thead th {\n",
       "        text-align: right;\n",
       "    }\n",
       "</style>\n",
       "<table border=\"1\" class=\"dataframe\">\n",
       "  <thead>\n",
       "    <tr style=\"text-align: right;\">\n",
       "      <th></th>\n",
       "      <th>state</th>\n",
       "      <th>lawtotal</th>\n",
       "      <th>rate</th>\n",
       "    </tr>\n",
       "  </thead>\n",
       "  <tbody>\n",
       "    <tr>\n",
       "      <th>0</th>\n",
       "      <td>Alabama</td>\n",
       "      <td>10.0</td>\n",
       "      <td>21.5</td>\n",
       "    </tr>\n",
       "    <tr>\n",
       "      <th>1</th>\n",
       "      <td>Alaska</td>\n",
       "      <td>3.0</td>\n",
       "      <td>23.3</td>\n",
       "    </tr>\n",
       "  </tbody>\n",
       "</table>\n",
       "</div>"
      ],
      "text/plain": [
       "     state  lawtotal  rate\n",
       "0  Alabama      10.0  21.5\n",
       "1   Alaska       3.0  23.3"
      ]
     },
     "execution_count": 19,
     "metadata": {},
     "output_type": "execute_result"
    }
   ],
   "source": [
    "# sort by state\n",
    "statelaw_rate.sort_values(by=['state']).head(2)"
   ]
  },
  {
   "cell_type": "markdown",
   "metadata": {},
   "source": [
    "### create graph"
   ]
  },
  {
   "cell_type": "code",
   "execution_count": 20,
   "metadata": {},
   "outputs": [],
   "source": [
    "# list of state abbreviations \n",
    "my_list = stateabbr.abbr.values"
   ]
  },
  {
   "cell_type": "code",
   "execution_count": 21,
   "metadata": {},
   "outputs": [],
   "source": [
    "x = statelaw_rate.lawtotal"
   ]
  },
  {
   "cell_type": "code",
   "execution_count": 22,
   "metadata": {},
   "outputs": [],
   "source": [
    "y = statelaw_rate.rate"
   ]
  },
  {
   "cell_type": "code",
   "execution_count": 94,
   "metadata": {},
   "outputs": [],
   "source": [
    "import matplotlib.pyplot as plt\n",
    "plt.rcParams['figure.figsize'] = (10,10)"
   ]
  },
  {
   "cell_type": "code",
   "execution_count": 95,
   "metadata": {
    "scrolled": true
   },
   "outputs": [
    {
     "ename": "NameError",
     "evalue": "name 'y' is not defined",
     "output_type": "error",
     "traceback": [
      "\u001b[0;31m---------------------------------------------------------------------------\u001b[0m",
      "\u001b[0;31mNameError\u001b[0m                                 Traceback (most recent call last)",
      "\u001b[0;32m<ipython-input-95-29a79a1418b2>\u001b[0m in \u001b[0;36m<module>\u001b[0;34m\u001b[0m\n\u001b[1;32m      1\u001b[0m \u001b[0;31m# MY GRAPH NEEDS X AXIS LAWS Y AXIS GUN DEATHS\u001b[0m\u001b[0;34m\u001b[0m\u001b[0;34m\u001b[0m\u001b[0;34m\u001b[0m\u001b[0m\n\u001b[0;32m----> 2\u001b[0;31m \u001b[0mY\u001b[0m \u001b[0;34m=\u001b[0m \u001b[0my\u001b[0m\u001b[0;34m\u001b[0m\u001b[0;34m\u001b[0m\u001b[0m\n\u001b[0m\u001b[1;32m      3\u001b[0m \u001b[0mX\u001b[0m \u001b[0;34m=\u001b[0m \u001b[0mx\u001b[0m\u001b[0;34m\u001b[0m\u001b[0;34m\u001b[0m\u001b[0m\n\u001b[1;32m      4\u001b[0m \u001b[0mn\u001b[0m \u001b[0;34m=\u001b[0m \u001b[0mmy_list\u001b[0m\u001b[0;34m\u001b[0m\u001b[0;34m\u001b[0m\u001b[0m\n\u001b[1;32m      5\u001b[0m \u001b[0;34m\u001b[0m\u001b[0m\n",
      "\u001b[0;31mNameError\u001b[0m: name 'y' is not defined"
     ]
    }
   ],
   "source": [
    "# MY GRAPH NEEDS X AXIS LAWS Y AXIS GUN DEATHS\n",
    "Y = y\n",
    "X = x\n",
    "n = my_list\n",
    "\n",
    "\n",
    "fig, ax = plt.subplots()\n",
    "ax.scatter(X, Y, color='red')\n",
    "for i, txt in enumerate(n):\n",
    "    ax.annotate(txt, (X[i], Y[i]), fontsize=9 )\n",
    "    \n",
    "plt.xlabel('Gun Laws per State')\n",
    "plt.ylabel('Gun Death per 100K Residents')\n",
    "plt.title('Gun Laws vs. Gun Deaths')\n"
   ]
  }
 ],
 "metadata": {
  "kernelspec": {
   "display_name": "Python 3",
   "language": "python",
   "name": "python3"
  },
  "language_info": {
   "codemirror_mode": {
    "name": "ipython",
    "version": 3
   },
   "file_extension": ".py",
   "mimetype": "text/x-python",
   "name": "python",
   "nbconvert_exporter": "python",
   "pygments_lexer": "ipython3",
   "version": "3.7.3"
  },
  "toc": {
   "base_numbering": 1,
   "nav_menu": {},
   "number_sections": true,
   "sideBar": true,
   "skip_h1_title": false,
   "title_cell": "Table of Contents",
   "title_sidebar": "Contents",
   "toc_cell": false,
   "toc_position": {},
   "toc_section_display": true,
   "toc_window_display": false
  }
 },
 "nbformat": 4,
 "nbformat_minor": 2
}
