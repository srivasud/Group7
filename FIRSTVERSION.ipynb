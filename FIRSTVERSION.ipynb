{
 "cells": [
  {
   "cell_type": "markdown",
   "metadata": {},
   "source": [
    "# Visualization 1 - States with more guns see more deaths by guns"
   ]
  },
  {
   "cell_type": "code",
   "execution_count": 2,
   "metadata": {},
   "outputs": [],
   "source": [
    "import pandas as pd \n",
    "import numpy as np"
   ]
  },
  {
   "cell_type": "code",
   "execution_count": 142,
   "metadata": {},
   "outputs": [
    {
     "name": "stderr",
     "output_type": "stream",
     "text": [
      "/Users/srinivasanvasudevan/.local/lib/python3.7/site-packages/ipykernel_launcher.py:45: SettingWithCopyWarning: \n",
      "A value is trying to be set on a copy of a slice from a DataFrame.\n",
      "Try using .loc[row_indexer,col_indexer] = value instead\n",
      "\n",
      "See the caveats in the documentation: http://pandas.pydata.org/pandas-docs/stable/indexing.html#indexing-view-versus-copy\n"
     ]
    },
    {
     "data": {
      "text/html": [
       "<div>\n",
       "<style scoped>\n",
       "    .dataframe tbody tr th:only-of-type {\n",
       "        vertical-align: middle;\n",
       "    }\n",
       "\n",
       "    .dataframe tbody tr th {\n",
       "        vertical-align: top;\n",
       "    }\n",
       "\n",
       "    .dataframe thead th {\n",
       "        text-align: right;\n",
       "    }\n",
       "</style>\n",
       "<table border=\"1\" class=\"dataframe\">\n",
       "  <thead>\n",
       "    <tr style=\"text-align: right;\">\n",
       "      <th></th>\n",
       "      <th>State</th>\n",
       "      <th>StateCode</th>\n",
       "      <th>Guns_Per1000</th>\n",
       "      <th>Deaths_Rate</th>\n",
       "    </tr>\n",
       "  </thead>\n",
       "  <tbody>\n",
       "    <tr>\n",
       "      <th>278</th>\n",
       "      <td>Wyoming</td>\n",
       "      <td>WY</td>\n",
       "      <td>227.0</td>\n",
       "      <td>16.8</td>\n",
       "    </tr>\n",
       "    <tr>\n",
       "      <th>257</th>\n",
       "      <td>Virginia</td>\n",
       "      <td>VA</td>\n",
       "      <td>37.0</td>\n",
       "      <td>12.2</td>\n",
       "    </tr>\n",
       "    <tr>\n",
       "      <th>5</th>\n",
       "      <td>Alabama</td>\n",
       "      <td>AL</td>\n",
       "      <td>33.0</td>\n",
       "      <td>20.7</td>\n",
       "    </tr>\n",
       "    <tr>\n",
       "      <th>82</th>\n",
       "      <td>Idaho</td>\n",
       "      <td>ID</td>\n",
       "      <td>30.0</td>\n",
       "      <td>13.7</td>\n",
       "    </tr>\n",
       "    <tr>\n",
       "      <th>26</th>\n",
       "      <td>Arkansas</td>\n",
       "      <td>AR</td>\n",
       "      <td>27.0</td>\n",
       "      <td>17.2</td>\n",
       "    </tr>\n",
       "    <tr>\n",
       "      <th>194</th>\n",
       "      <td>Nevada</td>\n",
       "      <td>NV</td>\n",
       "      <td>26.0</td>\n",
       "      <td>16.4</td>\n",
       "    </tr>\n",
       "    <tr>\n",
       "      <th>19</th>\n",
       "      <td>Arizona</td>\n",
       "      <td>AZ</td>\n",
       "      <td>26.0</td>\n",
       "      <td>15.3</td>\n",
       "    </tr>\n",
       "    <tr>\n",
       "      <th>124</th>\n",
       "      <td>Louisiana</td>\n",
       "      <td>LA</td>\n",
       "      <td>25.0</td>\n",
       "      <td>20.6</td>\n",
       "    </tr>\n",
       "    <tr>\n",
       "      <th>243</th>\n",
       "      <td>Utah</td>\n",
       "      <td>UT</td>\n",
       "      <td>24.0</td>\n",
       "      <td>11.7</td>\n",
       "    </tr>\n",
       "    <tr>\n",
       "      <th>47</th>\n",
       "      <td>Connecticut</td>\n",
       "      <td>CT</td>\n",
       "      <td>23.0</td>\n",
       "      <td>4.6</td>\n",
       "    </tr>\n",
       "  </tbody>\n",
       "</table>\n",
       "</div>"
      ],
      "text/plain": [
       "           State StateCode  Guns_Per1000  Deaths_Rate\n",
       "278      Wyoming        WY         227.0         16.8\n",
       "257     Virginia        VA          37.0         12.2\n",
       "5        Alabama        AL          33.0         20.7\n",
       "82         Idaho        ID          30.0         13.7\n",
       "26      Arkansas        AR          27.0         17.2\n",
       "194       Nevada        NV          26.0         16.4\n",
       "19       Arizona        AZ          26.0         15.3\n",
       "124    Louisiana        LA          25.0         20.6\n",
       "243         Utah        UT          24.0         11.7\n",
       "47   Connecticut        CT          23.0          4.6"
      ]
     },
     "execution_count": 142,
     "metadata": {},
     "output_type": "execute_result"
    }
   ],
   "source": [
    "# Read Firearm homicide data from CDC website\n",
    "homi_state=pd.read_csv('data/FirearmHomicideByState-99-2017.csv')\n",
    "# Read Firearm suicide data from CDC website\n",
    "suicide_state=pd.read_csv('data/FirearmSuicideByState-99-2017.csv')\n",
    "\n",
    "# merge the two datasets by State and Year\n",
    "deaths_state=pd.merge(homi_state,suicide_state,on=[\"State\",\"Year\"],how='left')\n",
    "# Fill nas with zeros\n",
    "deaths_state=deaths_state.fillna(0)\n",
    "# convert SuicideDeaths to integer to avoid display 127.0\n",
    "deaths_state['SuicideDeaths']=deaths_state['SuicideDeaths'].values.astype(np.int)\n",
    "# Calculate Deaths_Rate Per 100K=(TotalDeaths/TotalPopulation)*100000 and round to 1 decimal place\n",
    "deaths_state['Deaths_Rate']=round(((deaths_state.HomicideDeaths+deaths_state.SuicideDeaths)/(deaths_state.TotalPopulation))*100000,1)\n",
    "\n",
    "# state abbreviation\n",
    "stateabbr=pd.read_csv('https://raw.githubusercontent.com/srivasud/Group7/master/data/Abbr.csv')\n",
    "# drop extra columns(not needed)\n",
    "stateabbr=stateabbr.drop([\"Unnamed: 2\"],axis=1)\n",
    "stateabbr=stateabbr.drop([\"Unnamed: 3\"],axis=1)\n",
    "# rename abbr to StateCode\n",
    "stateabbr=stateabbr.rename(columns={\"state\":\"State\",\"abbr\":\"StateCode\"})\n",
    "# merge deaths by state with state abbreviation dataset\n",
    "deaths_state=pd.merge(deaths_state,stateabbr,on=\"State\",how=\"inner\")\n",
    "\n",
    "# gun ownership processing\n",
    "# read from licensed_ownership_bystate.csv\n",
    "df=pd.read_csv('https://raw.githubusercontent.com/srivasud/Group7/master/data/licensed_ownership_bystate.csv')\n",
    "df.reset_index(inplace=True)\n",
    "# select State,Year and Total Weapons only\n",
    "final_dff=df[[\"State\",\"Year\",\"Total\"]]\n",
    "final_dff=final_dff.drop_duplicates()\n",
    "# rename Total to Total_Firearms\n",
    "final_dff=final_dff.rename(columns={\"Total\":\"Total_Firearms\"})\n",
    "# merge deaths_state with final_dff (total firearms by state,year)\n",
    "deaths_state=pd.merge(deaths_state,final_dff,on=[\"State\",\"Year\"],how=\"inner\")\n",
    "# calculate Guns_Per1000 as TotalFirearms/AdultPopulation times 1000\n",
    "deaths_state['Guns_Per1000']=round((deaths_state['Total_Firearms']/deaths_state['TotalPopulation'])*1000)\n",
    "deaths_state[deaths_state.Year==2016].sample(10)\n",
    "deaths_state = deaths_state.sort_values(by=['Guns_Per1000','Deaths_Rate'], ascending=False)\n",
    "#deaths_state['TotalDeaths']=deaths_state.HomicideDeaths+deaths_state.SuicideDeaths\n",
    "deaths_state[deaths_state.Year==2016][['State','Guns_Per1000','Deaths_Rate']]\n",
    "newdf=deaths_state[deaths_state.Year==2016]\n",
    "max_value = newdf[\"Guns_Per1000\"].max()\n",
    "min_value = newdf[\"Guns_Per1000\"].min()\n",
    "newdf[\"normalized_gper1000\"] = (newdf[\"Guns_Per1000\"] - min_value) / (max_value - min_value)\n",
    "newdf=newdf.sort_values(by=['normalized_gper1000','Deaths_Rate'], ascending=False)[['State','StateCode','Guns_Per1000','Deaths_Rate']]\n",
    "\n",
    "\n",
    "law_state=pd.read_csv('https://raw.githubusercontent.com/srivasud/Group7/master/data/lawsstate.csv')\n",
    "newdf.head(10)"
   ]
  },
  {
   "cell_type": "code",
   "execution_count": 132,
   "metadata": {},
   "outputs": [],
   "source": [
    "def show_laws(year):\n",
    "   x = law_state[law_state['year'] == year].reset_index(drop = True)\n",
    "   x = x.sort_values(by = 'lawtotal', ascending = False)\n",
    "   return x\n"
   ]
  },
  {
   "cell_type": "code",
   "execution_count": 144,
   "metadata": {},
   "outputs": [],
   "source": [
    "law_state_n = show_laws(2016)\n",
    "law_state_n=law_state_n.rename(columns={\"state\":\"State\"})"
   ]
  },
  {
   "cell_type": "code",
   "execution_count": 145,
   "metadata": {},
   "outputs": [],
   "source": [
    "law_state_n = law_state_n.iloc[:,[0,-1]]"
   ]
  },
  {
   "cell_type": "code",
   "execution_count": 146,
   "metadata": {},
   "outputs": [
    {
     "data": {
      "text/html": [
       "<div>\n",
       "<style scoped>\n",
       "    .dataframe tbody tr th:only-of-type {\n",
       "        vertical-align: middle;\n",
       "    }\n",
       "\n",
       "    .dataframe tbody tr th {\n",
       "        vertical-align: top;\n",
       "    }\n",
       "\n",
       "    .dataframe thead th {\n",
       "        text-align: right;\n",
       "    }\n",
       "</style>\n",
       "<table border=\"1\" class=\"dataframe\">\n",
       "  <thead>\n",
       "    <tr style=\"text-align: right;\">\n",
       "      <th></th>\n",
       "      <th>State</th>\n",
       "      <th>StateCode</th>\n",
       "      <th>Guns_Per1000</th>\n",
       "      <th>Deaths_Rate</th>\n",
       "      <th>lawtotal</th>\n",
       "    </tr>\n",
       "  </thead>\n",
       "  <tbody>\n",
       "    <tr>\n",
       "      <th>16</th>\n",
       "      <td>Kansas</td>\n",
       "      <td>KS</td>\n",
       "      <td>18.0</td>\n",
       "      <td>12.7</td>\n",
       "      <td>4</td>\n",
       "    </tr>\n",
       "    <tr>\n",
       "      <th>31</th>\n",
       "      <td>Illinois</td>\n",
       "      <td>IL</td>\n",
       "      <td>11.0</td>\n",
       "      <td>11.3</td>\n",
       "      <td>65</td>\n",
       "    </tr>\n",
       "    <tr>\n",
       "      <th>1</th>\n",
       "      <td>Virginia</td>\n",
       "      <td>VA</td>\n",
       "      <td>37.0</td>\n",
       "      <td>12.2</td>\n",
       "      <td>13</td>\n",
       "    </tr>\n",
       "    <tr>\n",
       "      <th>0</th>\n",
       "      <td>Wyoming</td>\n",
       "      <td>WY</td>\n",
       "      <td>227.0</td>\n",
       "      <td>16.8</td>\n",
       "      <td>6</td>\n",
       "    </tr>\n",
       "    <tr>\n",
       "      <th>36</th>\n",
       "      <td>Michigan</td>\n",
       "      <td>MI</td>\n",
       "      <td>7.0</td>\n",
       "      <td>12.1</td>\n",
       "      <td>21</td>\n",
       "    </tr>\n",
       "    <tr>\n",
       "      <th>19</th>\n",
       "      <td>Colorado</td>\n",
       "      <td>CO</td>\n",
       "      <td>17.0</td>\n",
       "      <td>14.0</td>\n",
       "      <td>30</td>\n",
       "    </tr>\n",
       "    <tr>\n",
       "      <th>10</th>\n",
       "      <td>Alaska</td>\n",
       "      <td>AK</td>\n",
       "      <td>21.0</td>\n",
       "      <td>21.3</td>\n",
       "      <td>3</td>\n",
       "    </tr>\n",
       "    <tr>\n",
       "      <th>7</th>\n",
       "      <td>Louisiana</td>\n",
       "      <td>LA</td>\n",
       "      <td>25.0</td>\n",
       "      <td>20.6</td>\n",
       "      <td>12</td>\n",
       "    </tr>\n",
       "    <tr>\n",
       "      <th>2</th>\n",
       "      <td>Alabama</td>\n",
       "      <td>AL</td>\n",
       "      <td>33.0</td>\n",
       "      <td>20.7</td>\n",
       "      <td>10</td>\n",
       "    </tr>\n",
       "    <tr>\n",
       "      <th>38</th>\n",
       "      <td>Delaware</td>\n",
       "      <td>DE</td>\n",
       "      <td>5.0</td>\n",
       "      <td>11.4</td>\n",
       "      <td>39</td>\n",
       "    </tr>\n",
       "  </tbody>\n",
       "</table>\n",
       "</div>"
      ],
      "text/plain": [
       "        State StateCode  Guns_Per1000  Deaths_Rate  lawtotal\n",
       "16     Kansas        KS          18.0         12.7         4\n",
       "31   Illinois        IL          11.0         11.3        65\n",
       "1    Virginia        VA          37.0         12.2        13\n",
       "0     Wyoming        WY         227.0         16.8         6\n",
       "36   Michigan        MI           7.0         12.1        21\n",
       "19   Colorado        CO          17.0         14.0        30\n",
       "10     Alaska        AK          21.0         21.3         3\n",
       "7   Louisiana        LA          25.0         20.6        12\n",
       "2     Alabama        AL          33.0         20.7        10\n",
       "38   Delaware        DE           5.0         11.4        39"
      ]
     },
     "execution_count": 146,
     "metadata": {},
     "output_type": "execute_result"
    }
   ],
   "source": [
    "# sort values by state & show head\n",
    "law_state_n = law_state_n.sort_values(by=['State'])\n",
    "law_state_n.head(2)\n",
    "newdf=pd.merge(newdf,law_state_n,on=[\"State\"],how=\"inner\")\n",
    "newdf.sample(10)"
   ]
  },
  {
   "cell_type": "code",
   "execution_count": 147,
   "metadata": {},
   "outputs": [
    {
     "data": {
      "text/plain": [
       "Text(0.5, 1.0, 'Gun Laws Per State vs. Gun Ownership(Per Capita) for the Year 2016')"
      ]
     },
     "execution_count": 147,
     "metadata": {},
     "output_type": "execute_result"
    },
    {
     "data": {
      "image/png": "[encoded data removed]",
      "text/plain": [
       "<Figure size 720x360 with 1 Axes>"
      ]
     },
     "metadata": {
      "needs_background": "light"
     },
     "output_type": "display_data"
    }
   ],
   "source": [
    "import matplotlib.pyplot as plt\n",
    "plt.rcParams['figure.figsize'] = (10,5)\n",
    "\n",
    "#max_value = newdf[\"Guns_Per1000\"].max()\n",
    "#min_value = newdf[\"Guns_Per1000\"].min()\n",
    "#newdf[\"normalized_gper1000\"] = (newdf[\"Guns_Per1000\"] - min_value) / (max_value - min_value)\n",
    "\n",
    "# Wyoming is an outlier with Guns_Per1000 as 298 and the rest of the states\n",
    "# have Guns_Per1000 < 60. Need to discuss on this. For now filtering this outlier...\n",
    "#newdf = newdf[newdf.State!='Wyoming']\n",
    "\n",
    "X = newdf.lawtotal.values\n",
    "Y = newdf.Guns_Per1000.values\n",
    "n = newdf.StateCode.values\n",
    "\n",
    "\n",
    "fig, ax = plt.subplots()\n",
    "ax.scatter(X, Y, color='red')\n",
    "for i, txt in enumerate(n):\n",
    "    ax.annotate(txt, (X[i], Y[i]), fontsize=9 )\n",
    "    \n",
    "plt.xlabel('Gun Laws Per State')\n",
    "plt.ylabel('Gun Ownership(Per Capita)')\n",
    "plt.title('Gun Laws Per State vs. Gun Ownership(Per Capita) for the Year 2016')"
   ]
  },
  {
   "cell_type": "code",
   "execution_count": 148,
   "metadata": {},
   "outputs": [
    {
     "data": {
      "text/plain": [
       "Text(0.5, 1.0, 'Gun Ownership vs. Gun Deaths State Wise for the Year 2016')"
      ]
     },
     "execution_count": 148,
     "metadata": {},
     "output_type": "execute_result"
    },
    {
     "data": {
      "image/png": "[encoded data removed]",
      "text/plain": [
       "<Figure size 720x360 with 1 Axes>"
      ]
     },
     "metadata": {
      "needs_background": "light"
     },
     "output_type": "display_data"
    }
   ],
   "source": [
    "import matplotlib.pyplot as plt\n",
    "plt.rcParams['figure.figsize'] = (10,5)\n",
    "newdf = deaths_state[deaths_state.Year==2016]\n",
    "\n",
    "#max_value = newdf[\"Guns_Per1000\"].max()\n",
    "#min_value = newdf[\"Guns_Per1000\"].min()\n",
    "#newdf[\"normalized_gper1000\"] = (newdf[\"Guns_Per1000\"] - min_value) / (max_value - min_value)\n",
    "\n",
    "# Wyoming is an outlier with Guns_Per1000 as 298 and the rest of the states\n",
    "# have Guns_Per1000 < 60. Need to discuss on this. For now filtering this outlier...\n",
    "#newdf = newdf[newdf.State!='Wyoming']\n",
    "\n",
    "Y = newdf.Deaths_Rate.values\n",
    "X = newdf.Guns_Per1000.values\n",
    "n = newdf.StateCode.values\n",
    "\n",
    "\n",
    "fig, ax = plt.subplots()\n",
    "ax.scatter(X, Y, color='red')\n",
    "for i, txt in enumerate(n):\n",
    "    ax.annotate(txt, (X[i], Y[i]), fontsize=9 )\n",
    "    \n",
    "plt.xlabel('Gun Ownership(Per 1000 People)')\n",
    "plt.ylabel('Gun Deaths per 100K People')\n",
    "plt.title('Gun Ownership vs. Gun Deaths State Wise for the Year 2016')"
   ]
  },
  {
   "cell_type": "markdown",
   "metadata": {},
   "source": [
    "# Visualization 2"
   ]
  },
  {
   "cell_type": "code",
   "execution_count": 2,
   "metadata": {},
   "outputs": [],
   "source": [
    "# Read data from fire arm laws by state\n",
    "df=pd.read_csv('https://raw.githubusercontent.com/srivasud/Group7/master/data/lawsstate.csv')\n",
    "#http://www.statefirearmlaws.org/national-data/2016"
   ]
  },
  {
   "cell_type": "code",
   "execution_count": 3,
   "metadata": {},
   "outputs": [],
   "source": [
    "# for Year 2016\n",
    "def show_laws(year):\n",
    "   x = df[df['year'] == year].reset_index(drop = True)\n",
    "   x = x.sort_values(by = 'lawtotal', ascending = False)\n",
    "   return x\n"
   ]
  },
  {
   "cell_type": "code",
   "execution_count": 4,
   "metadata": {},
   "outputs": [],
   "source": [
    "# Type in the year for data you want\n",
    "df1 = show_laws(2016)"
   ]
  },
  {
   "cell_type": "code",
   "execution_count": 5,
   "metadata": {},
   "outputs": [],
   "source": [
    "# only need the last column with total laws\n",
    "df2 = df1.iloc[:,[0,-1]]"
   ]
  },
  {
   "cell_type": "code",
   "execution_count": 6,
   "metadata": {},
   "outputs": [
    {
     "data": {
      "text/html": [
       "<div>\n",
       "<style scoped>\n",
       "    .dataframe tbody tr th:only-of-type {\n",
       "        vertical-align: middle;\n",
       "    }\n",
       "\n",
       "    .dataframe tbody tr th {\n",
       "        vertical-align: top;\n",
       "    }\n",
       "\n",
       "    .dataframe thead th {\n",
       "        text-align: right;\n",
       "    }\n",
       "</style>\n",
       "<table border=\"1\" class=\"dataframe\">\n",
       "  <thead>\n",
       "    <tr style=\"text-align: right;\">\n",
       "      <th></th>\n",
       "      <th>state</th>\n",
       "      <th>lawtotal</th>\n",
       "    </tr>\n",
       "  </thead>\n",
       "  <tbody>\n",
       "    <tr>\n",
       "      <th>0</th>\n",
       "      <td>Alabama</td>\n",
       "      <td>10</td>\n",
       "    </tr>\n",
       "    <tr>\n",
       "      <th>1</th>\n",
       "      <td>Alaska</td>\n",
       "      <td>3</td>\n",
       "    </tr>\n",
       "  </tbody>\n",
       "</table>\n",
       "</div>"
      ],
      "text/plain": [
       "     state  lawtotal\n",
       "0  Alabama        10\n",
       "1   Alaska         3"
      ]
     },
     "execution_count": 6,
     "metadata": {},
     "output_type": "execute_result"
    }
   ],
   "source": [
    "# sort values by state & show head\n",
    "df3 = df2.sort_values(by=['state'])\n",
    "df3.head(2)"
   ]
  },
  {
   "cell_type": "markdown",
   "metadata": {},
   "source": [
    "### 2nd file - Gun death per 100K residents by state for 2016"
   ]
  },
  {
   "cell_type": "code",
   "execution_count": 7,
   "metadata": {},
   "outputs": [],
   "source": [
    "# Read data\n",
    "Gunrate=pd.read_csv('https://raw.githubusercontent.com/srivasud/Group7/master/data/yr2016firearmdeathrate.csv')\n",
    "#https://www.kff.org/other/state-indicator/firearms-death-rate-per-100000/?currentTimeframe=0&sortModel=%7B%22colId%22:%22Location%22,%22sort%22:%22asc%22%7D"
   ]
  },
  {
   "cell_type": "code",
   "execution_count": 8,
   "metadata": {},
   "outputs": [],
   "source": [
    "# drop unwanted rows\n",
    "Gunrate = Gunrate.loc[1:51:]"
   ]
  },
  {
   "cell_type": "code",
   "execution_count": 9,
   "metadata": {},
   "outputs": [
    {
     "data": {
      "text/html": [
       "<div>\n",
       "<style scoped>\n",
       "    .dataframe tbody tr th:only-of-type {\n",
       "        vertical-align: middle;\n",
       "    }\n",
       "\n",
       "    .dataframe tbody tr th {\n",
       "        vertical-align: top;\n",
       "    }\n",
       "\n",
       "    .dataframe thead th {\n",
       "        text-align: right;\n",
       "    }\n",
       "</style>\n",
       "<table border=\"1\" class=\"dataframe\">\n",
       "  <thead>\n",
       "    <tr style=\"text-align: right;\">\n",
       "      <th></th>\n",
       "      <th>state</th>\n",
       "      <th>rate</th>\n",
       "    </tr>\n",
       "  </thead>\n",
       "  <tbody>\n",
       "    <tr>\n",
       "      <th>1</th>\n",
       "      <td>Alabama</td>\n",
       "      <td>21.5</td>\n",
       "    </tr>\n",
       "    <tr>\n",
       "      <th>2</th>\n",
       "      <td>Alaska</td>\n",
       "      <td>23.3</td>\n",
       "    </tr>\n",
       "    <tr>\n",
       "      <th>3</th>\n",
       "      <td>Arizona</td>\n",
       "      <td>15.2</td>\n",
       "    </tr>\n",
       "  </tbody>\n",
       "</table>\n",
       "</div>"
      ],
      "text/plain": [
       "     state  rate\n",
       "1  Alabama  21.5\n",
       "2   Alaska  23.3\n",
       "3  Arizona  15.2"
      ]
     },
     "execution_count": 9,
     "metadata": {},
     "output_type": "execute_result"
    }
   ],
   "source": [
    "# Rename the column\n",
    "cols=['state','rate']\n",
    "Gunrate.columns=cols\n",
    "Gunrate.head(3)"
   ]
  },
  {
   "cell_type": "code",
   "execution_count": 10,
   "metadata": {},
   "outputs": [],
   "source": [
    "# reset index and drop unwanted column\n",
    "Gunrate.reset_index(inplace=True)\n",
    "Gunrate.drop(['index'],axis=1,inplace=True)"
   ]
  },
  {
   "cell_type": "code",
   "execution_count": 11,
   "metadata": {
    "scrolled": true
   },
   "outputs": [
    {
     "data": {
      "text/html": [
       "<div>\n",
       "<style scoped>\n",
       "    .dataframe tbody tr th:only-of-type {\n",
       "        vertical-align: middle;\n",
       "    }\n",
       "\n",
       "    .dataframe tbody tr th {\n",
       "        vertical-align: top;\n",
       "    }\n",
       "\n",
       "    .dataframe thead th {\n",
       "        text-align: right;\n",
       "    }\n",
       "</style>\n",
       "<table border=\"1\" class=\"dataframe\">\n",
       "  <thead>\n",
       "    <tr style=\"text-align: right;\">\n",
       "      <th></th>\n",
       "      <th>state</th>\n",
       "      <th>rate</th>\n",
       "    </tr>\n",
       "  </thead>\n",
       "  <tbody>\n",
       "    <tr>\n",
       "      <th>0</th>\n",
       "      <td>Alabama</td>\n",
       "      <td>21.5</td>\n",
       "    </tr>\n",
       "    <tr>\n",
       "      <th>1</th>\n",
       "      <td>Alaska</td>\n",
       "      <td>23.3</td>\n",
       "    </tr>\n",
       "    <tr>\n",
       "      <th>2</th>\n",
       "      <td>Arizona</td>\n",
       "      <td>15.2</td>\n",
       "    </tr>\n",
       "  </tbody>\n",
       "</table>\n",
       "</div>"
      ],
      "text/plain": [
       "     state  rate\n",
       "0  Alabama  21.5\n",
       "1   Alaska  23.3\n",
       "2  Arizona  15.2"
      ]
     },
     "execution_count": 11,
     "metadata": {},
     "output_type": "execute_result"
    }
   ],
   "source": [
    "Gunrate.sort_values(by=['state'])\n",
    "Gunrate.head(3)"
   ]
  },
  {
   "cell_type": "markdown",
   "metadata": {},
   "source": [
    "### Get State abbreviations"
   ]
  },
  {
   "cell_type": "code",
   "execution_count": 12,
   "metadata": {},
   "outputs": [],
   "source": [
    "# Read state abbreviations from excel file\n",
    "stateabbr=pd.read_csv('https://raw.githubusercontent.com/srivasud/Group7/master/data/Abbr.csv')"
   ]
  },
  {
   "cell_type": "code",
   "execution_count": 13,
   "metadata": {},
   "outputs": [
    {
     "data": {
      "text/html": [
       "<div>\n",
       "<style scoped>\n",
       "    .dataframe tbody tr th:only-of-type {\n",
       "        vertical-align: middle;\n",
       "    }\n",
       "\n",
       "    .dataframe tbody tr th {\n",
       "        vertical-align: top;\n",
       "    }\n",
       "\n",
       "    .dataframe thead th {\n",
       "        text-align: right;\n",
       "    }\n",
       "</style>\n",
       "<table border=\"1\" class=\"dataframe\">\n",
       "  <thead>\n",
       "    <tr style=\"text-align: right;\">\n",
       "      <th></th>\n",
       "      <th>state</th>\n",
       "      <th>abbr</th>\n",
       "      <th>Unnamed: 2</th>\n",
       "      <th>Unnamed: 3</th>\n",
       "    </tr>\n",
       "  </thead>\n",
       "  <tbody>\n",
       "    <tr>\n",
       "      <th>0</th>\n",
       "      <td>Alabama</td>\n",
       "      <td>AL</td>\n",
       "      <td>NaN</td>\n",
       "      <td>NaN</td>\n",
       "    </tr>\n",
       "    <tr>\n",
       "      <th>1</th>\n",
       "      <td>Alaska</td>\n",
       "      <td>AK</td>\n",
       "      <td>NaN</td>\n",
       "      <td>NaN</td>\n",
       "    </tr>\n",
       "  </tbody>\n",
       "</table>\n",
       "</div>"
      ],
      "text/plain": [
       "     state abbr  Unnamed: 2  Unnamed: 3\n",
       "0  Alabama   AL         NaN         NaN\n",
       "1   Alaska   AK         NaN         NaN"
      ]
     },
     "execution_count": 13,
     "metadata": {},
     "output_type": "execute_result"
    }
   ],
   "source": [
    "stateabbr.sort_values(by=['state'])\n",
    "stateabbr.head(2)"
   ]
  },
  {
   "cell_type": "markdown",
   "metadata": {},
   "source": [
    "### concat data frames into one"
   ]
  },
  {
   "cell_type": "code",
   "execution_count": 14,
   "metadata": {},
   "outputs": [
    {
     "name": "stderr",
     "output_type": "stream",
     "text": [
      "C:\\Users\\MarvinHP\\AppData\\Local\\Continuum\\anaconda3\\lib\\site-packages\\ipykernel_launcher.py:2: FutureWarning: Sorting because non-concatenation axis is not aligned. A future version\n",
      "of pandas will change to not sort by default.\n",
      "\n",
      "To accept the future behavior, pass 'sort=False'.\n",
      "\n",
      "To retain the current behavior and silence the warning, pass 'sort=True'.\n",
      "\n",
      "  \n"
     ]
    }
   ],
   "source": [
    "# Concat all the dataframes into one\n",
    "total=pd.concat([df3,Gunrate])"
   ]
  },
  {
   "cell_type": "code",
   "execution_count": 15,
   "metadata": {},
   "outputs": [],
   "source": [
    "#group by state \n",
    "statelaw_rate = total.groupby('state')['lawtotal','rate',].max()"
   ]
  },
  {
   "cell_type": "code",
   "execution_count": 16,
   "metadata": {},
   "outputs": [],
   "source": [
    "# get rid of NA\n",
    "statelaw_rate['rate'] = statelaw_rate.rate.fillna(0)"
   ]
  },
  {
   "cell_type": "code",
   "execution_count": 17,
   "metadata": {},
   "outputs": [],
   "source": [
    "# get rid of NA\n",
    "statelaw_rate['lawtotal'] = statelaw_rate.lawtotal.fillna(0)"
   ]
  },
  {
   "cell_type": "code",
   "execution_count": 18,
   "metadata": {},
   "outputs": [],
   "source": [
    "# reset index\n",
    "statelaw_rate.reset_index(inplace=True)"
   ]
  },
  {
   "cell_type": "code",
   "execution_count": 19,
   "metadata": {},
   "outputs": [
    {
     "data": {
      "text/html": [
       "<div>\n",
       "<style scoped>\n",
       "    .dataframe tbody tr th:only-of-type {\n",
       "        vertical-align: middle;\n",
       "    }\n",
       "\n",
       "    .dataframe tbody tr th {\n",
       "        vertical-align: top;\n",
       "    }\n",
       "\n",
       "    .dataframe thead th {\n",
       "        text-align: right;\n",
       "    }\n",
       "</style>\n",
       "<table border=\"1\" class=\"dataframe\">\n",
       "  <thead>\n",
       "    <tr style=\"text-align: right;\">\n",
       "      <th></th>\n",
       "      <th>state</th>\n",
       "      <th>lawtotal</th>\n",
       "      <th>rate</th>\n",
       "    </tr>\n",
       "  </thead>\n",
       "  <tbody>\n",
       "    <tr>\n",
       "      <th>0</th>\n",
       "      <td>Alabama</td>\n",
       "      <td>10.0</td>\n",
       "      <td>21.5</td>\n",
       "    </tr>\n",
       "    <tr>\n",
       "      <th>1</th>\n",
       "      <td>Alaska</td>\n",
       "      <td>3.0</td>\n",
       "      <td>23.3</td>\n",
       "    </tr>\n",
       "  </tbody>\n",
       "</table>\n",
       "</div>"
      ],
      "text/plain": [
       "     state  lawtotal  rate\n",
       "0  Alabama      10.0  21.5\n",
       "1   Alaska       3.0  23.3"
      ]
     },
     "execution_count": 19,
     "metadata": {},
     "output_type": "execute_result"
    }
   ],
   "source": [
    "# sort by state\n",
    "statelaw_rate.sort_values(by=['state']).head(2)"
   ]
  },
  {
   "cell_type": "markdown",
   "metadata": {},
   "source": [
    "### create graph"
   ]
  },
  {
   "cell_type": "code",
   "execution_count": 20,
   "metadata": {},
   "outputs": [],
   "source": [
    "# list of state abbreviations \n",
    "my_list = stateabbr.abbr.values"
   ]
  },
  {
   "cell_type": "code",
   "execution_count": 21,
   "metadata": {},
   "outputs": [],
   "source": [
    "x = statelaw_rate.lawtotal"
   ]
  },
  {
   "cell_type": "code",
   "execution_count": 22,
   "metadata": {},
   "outputs": [],
   "source": [
    "y = statelaw_rate.rate"
   ]
  },
  {
   "cell_type": "code",
   "execution_count": 23,
   "metadata": {},
   "outputs": [],
   "source": [
    "import matplotlib.pyplot as plt\n",
    "plt.rcParams['figure.figsize'] = (10,5)"
   ]
  },
  {
   "cell_type": "code",
   "execution_count": 24,
   "metadata": {
    "scrolled": true
   },
   "outputs": [
    {
     "data": {
      "text/plain": [
       "Text(0.5, 1.0, 'Gun Laws vs. Gun Deaths')"
      ]
     },
     "execution_count": 24,
     "metadata": {},
     "output_type": "execute_result"
    },
    {
     "data": {
      "image/png": "[encoded data removed]",
      "text/plain": [
       "<Figure size 432x288 with 1 Axes>"
      ]
     },
     "metadata": {
      "needs_background": "light"
     },
     "output_type": "display_data"
    }
   ],
   "source": [
    "# MY GRAPH NEEDS X AXIS LAWS Y AXIS GUN DEATHS\n",
    "Y = y\n",
    "X = x\n",
    "n = my_list\n",
    "\n",
    "\n",
    "fig, ax = plt.subplots()\n",
    "ax.scatter(X, Y, color='red')\n",
    "for i, txt in enumerate(n):\n",
    "    ax.annotate(txt, (X[i], Y[i]), fontsize=9 )\n",
    "    \n",
    "plt.xlabel('Gun Laws per State')\n",
    "plt.ylabel('Gun Death per 100K Residents')\n",
    "plt.title('Gun Laws vs. Gun Deaths')\n"
   ]
  }
 ],
 "metadata": {
  "kernelspec": {
   "display_name": "Python 3",
   "language": "python",
   "name": "python3"
  },
  "language_info": {
   "codemirror_mode": {
    "name": "ipython",
    "version": 3
   },
   "file_extension": ".py",
   "mimetype": "text/x-python",
   "name": "python",
   "nbconvert_exporter": "python",
   "pygments_lexer": "ipython3",
   "version": "3.7.3"
  },
  "toc": {
   "base_numbering": 1,
   "nav_menu": {},
   "number_sections": true,
   "sideBar": true,
   "skip_h1_title": false,
   "title_cell": "Table of Contents",
   "title_sidebar": "Contents",
   "toc_cell": false,
   "toc_position": {},
   "toc_section_display": true,
   "toc_window_display": false
  }
 },
 "nbformat": 4,
 "nbformat_minor": 2
}
