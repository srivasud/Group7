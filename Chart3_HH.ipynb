{
 "cells": [
  {
   "cell_type": "markdown",
   "metadata": {},
   "source": [
    "# Team Project MSIS 2629\n",
    "Hariz Hisham, Qing Zhang\n",
    "\n",
    "This notebook details the data collection, feature engineering, and visualization for Team Project: First Revision.\n",
    "\n",
    "Data collected from: https://www.opensecrets.org/news/issues/guns<br>\n",
    "Alternatively, use this link: https://docs.google.com/spreadsheets/d/1-7PdCI2NawSgP1QE-cGYVYedetYqepR-4jBweaJyqFo/edit#gid=1782600961\n",
    "\n",
    "Dependencies:\n",
    "* None\n",
    "\n",
    "Downstream use:\n",
    "* Prepared charts to be integrated with other charts for submission"
   ]
  },
  {
   "cell_type": "code",
   "execution_count": 1,
   "metadata": {},
   "outputs": [
    {
     "name": "stdout",
     "output_type": "stream",
     "text": [
      "Populating the interactive namespace from numpy and matplotlib\n"
     ]
    }
   ],
   "source": [
    "%pylab inline\n",
    "import pandas as pd\n",
    "import altair as alt\n",
    "import seaborn as sns\n",
    "#import re\n",
    "from IPython.display import Image"
   ]
  },
  {
   "cell_type": "markdown",
   "metadata": {},
   "source": [
    "## Chart 3"
   ]
  },
  {
   "cell_type": "markdown",
   "metadata": {},
   "source": [
    "### Read in the file"
   ]
  },
  {
   "cell_type": "code",
   "execution_count": 82,
   "metadata": {},
   "outputs": [],
   "source": [
    "df = pd.read_csv('congress_funding.csv', index_col = False)"
   ]
  },
  {
   "cell_type": "markdown",
   "metadata": {},
   "source": [
    "### Feature engineering"
   ]
  },
  {
   "cell_type": "code",
   "execution_count": 83,
   "metadata": {},
   "outputs": [
    {
     "data": {
      "text/html": [
       "<div>\n",
       "<style scoped>\n",
       "    .dataframe tbody tr th:only-of-type {\n",
       "        vertical-align: middle;\n",
       "    }\n",
       "\n",
       "    .dataframe tbody tr th {\n",
       "        vertical-align: top;\n",
       "    }\n",
       "\n",
       "    .dataframe thead th {\n",
       "        text-align: right;\n",
       "    }\n",
       "</style>\n",
       "<table border=\"1\" class=\"dataframe\">\n",
       "  <thead>\n",
       "    <tr style=\"text-align: right;\">\n",
       "      <th></th>\n",
       "      <th>Name</th>\n",
       "      <th>Party</th>\n",
       "      <th>Office</th>\n",
       "      <th>Distid</th>\n",
       "      <th>Total from Gun Control</th>\n",
       "      <th>Total From Gun Rights</th>\n",
       "      <th>Gun Control Support</th>\n",
       "      <th>Gun Control Opposed</th>\n",
       "      <th>Gun Rights Support</th>\n",
       "      <th>Gun Rights Opposed</th>\n",
       "      <th>Unnamed: 10</th>\n",
       "      <th>Unnamed: 11</th>\n",
       "    </tr>\n",
       "  </thead>\n",
       "  <tbody>\n",
       "    <tr>\n",
       "      <th>0</th>\n",
       "      <td>Cruz, Ted</td>\n",
       "      <td>R</td>\n",
       "      <td>S</td>\n",
       "      <td>TXS2</td>\n",
       "      <td>0</td>\n",
       "      <td>431415</td>\n",
       "      <td>0</td>\n",
       "      <td>8011</td>\n",
       "      <td>153467</td>\n",
       "      <td>0</td>\n",
       "      <td>NaN</td>\n",
       "      <td>NaN</td>\n",
       "    </tr>\n",
       "    <tr>\n",
       "      <th>1</th>\n",
       "      <td>McSally, Martha</td>\n",
       "      <td>R</td>\n",
       "      <td>S</td>\n",
       "      <td>AZS1</td>\n",
       "      <td>0</td>\n",
       "      <td>336138</td>\n",
       "      <td>0</td>\n",
       "      <td>1823627</td>\n",
       "      <td>183451</td>\n",
       "      <td>0</td>\n",
       "      <td>NaN</td>\n",
       "      <td>Money in the \"blue\" columns is money spent by ...</td>\n",
       "    </tr>\n",
       "    <tr>\n",
       "      <th>2</th>\n",
       "      <td>Cornyn, John</td>\n",
       "      <td>R</td>\n",
       "      <td>S</td>\n",
       "      <td>TXS1</td>\n",
       "      <td>0</td>\n",
       "      <td>212975</td>\n",
       "      <td>0</td>\n",
       "      <td>861</td>\n",
       "      <td>35745</td>\n",
       "      <td>12360</td>\n",
       "      <td>NaN</td>\n",
       "      <td>NaN</td>\n",
       "    </tr>\n",
       "    <tr>\n",
       "      <th>3</th>\n",
       "      <td>Young, Don</td>\n",
       "      <td>R</td>\n",
       "      <td>H</td>\n",
       "      <td>AK01</td>\n",
       "      <td>0</td>\n",
       "      <td>208376</td>\n",
       "      <td>0</td>\n",
       "      <td>861</td>\n",
       "      <td>140077</td>\n",
       "      <td>0</td>\n",
       "      <td>NaN</td>\n",
       "      <td>NaN</td>\n",
       "    </tr>\n",
       "    <tr>\n",
       "      <th>4</th>\n",
       "      <td>Scalise, Steve</td>\n",
       "      <td>R</td>\n",
       "      <td>H</td>\n",
       "      <td>LA01</td>\n",
       "      <td>0</td>\n",
       "      <td>204518</td>\n",
       "      <td>0</td>\n",
       "      <td>861</td>\n",
       "      <td>0</td>\n",
       "      <td>0</td>\n",
       "      <td>NaN</td>\n",
       "      <td>NaN</td>\n",
       "    </tr>\n",
       "  </tbody>\n",
       "</table>\n",
       "</div>"
      ],
      "text/plain": [
       "              Name Party Office Distid  Total from Gun Control  \\\n",
       "0        Cruz, Ted     R      S   TXS2                       0   \n",
       "1  McSally, Martha     R      S   AZS1                       0   \n",
       "2     Cornyn, John     R      S   TXS1                       0   \n",
       "3       Young, Don     R      H   AK01                       0   \n",
       "4   Scalise, Steve     R      H   LA01                       0   \n",
       "\n",
       "   Total From Gun Rights  Gun Control Support  Gun Control Opposed  \\\n",
       "0                 431415                    0                 8011   \n",
       "1                 336138                    0              1823627   \n",
       "2                 212975                    0                  861   \n",
       "3                 208376                    0                  861   \n",
       "4                 204518                    0                  861   \n",
       "\n",
       "   Gun Rights Support  Gun Rights Opposed  Unnamed: 10  \\\n",
       "0              153467                   0          NaN   \n",
       "1              183451                   0          NaN   \n",
       "2               35745               12360          NaN   \n",
       "3              140077                   0          NaN   \n",
       "4                   0                   0          NaN   \n",
       "\n",
       "                                         Unnamed: 11  \n",
       "0                                                NaN  \n",
       "1  Money in the \"blue\" columns is money spent by ...  \n",
       "2                                                NaN  \n",
       "3                                                NaN  \n",
       "4                                                NaN  "
      ]
     },
     "execution_count": 83,
     "metadata": {},
     "output_type": "execute_result"
    }
   ],
   "source": [
    "df.head()"
   ]
  },
  {
   "cell_type": "code",
   "execution_count": 84,
   "metadata": {},
   "outputs": [],
   "source": [
    "# Create a new column with state label for downstream purposes\n",
    "# We'll use this when exploring how much funding from lobbyists each state receives\n",
    "df['Stateid'] = df.Distid.str[:2]\n",
    "df = df.drop(columns = ['Unnamed: 10', 'Unnamed: 11'])  # Drop unwanted columns"
   ]
  },
  {
   "cell_type": "code",
   "execution_count": 77,
   "metadata": {},
   "outputs": [],
   "source": [
    "# Add total funding from gun control and gun rights to new col 'Total Funding' \n",
    "# to check how much funding each congressman receives from lobbyist \n",
    "df['Total Funding'] = df['Total from Gun Control'] + df['Total From Gun Rights']\n",
    "\n",
    "# Next, we label each congressman which 'stance' they are on based on which lobbyist pays them more.\n",
    "# If congressman receives more from gun control, label as 'Control'; similar for gun rights.\n",
    "# If they are not funded by gun control/rights lobbyist, or have equal funding, they are 'undecided'\n",
    "# This will be useful in categorization when visualizing funding purposes\n",
    "df['Stance'] = np.where(df['Total from Gun Control'] > df['Total From Gun Rights'], 'Control', 'Rights')\n",
    "df['Stance'] = np.where(df['Total from Gun Control'] == df['Total From Gun Rights'], 'Undecided', df['Stance'])\n",
    "\n",
    "# We log the funding to scale down large differences between categories\n",
    "df['log_grights'] = log(1 + df['Total From Gun Rights'])\n",
    "df['log_gcontrol'] = log(1 + df['Total from Gun Control'])\n",
    "df['log_totalfund'] = log(1 + df['Total Funding'])"
   ]
  },
  {
   "cell_type": "markdown",
   "metadata": {},
   "source": [
    "### Visualization"
   ]
  },
  {
   "cell_type": "markdown",
   "metadata": {},
   "source": [
    "Our goal was to create a single visualization delivering our core message:\n",
    "> There are higher rates of civilian firearm ownership in the United States because of relaxed laws across states as well as pro-firearm ownership lobbyists buying their way into Congress"
   ]
  },
  {
   "cell_type": "markdown",
   "metadata": {},
   "source": [
    "The first chart below shows total funding received by Congressmen in both Houses, from both Political Parties (including Ind.). "
   ]
  },
  {
   "cell_type": "code",
   "execution_count": 80,
   "metadata": {},
   "outputs": [
    {
     "data": {
      "text/plain": [
       "<seaborn.axisgrid.FacetGrid at 0x1340b0a4eb8>"
      ]
     },
     "execution_count": 80,
     "metadata": {},
     "output_type": "execute_result"
    },
    {
     "data": {
      "image/png": "[encoded data removed]",
      "text/plain": [
       "<Figure size 1123.75x360 with 3 Axes>"
      ]
     },
     "metadata": {
      "needs_background": "light"
     },
     "output_type": "display_data"
    }
   ],
   "source": [
    "X = 'Office'\n",
    "y = 'Total Funding'\n",
    "\n",
    "sns.catplot(X, y, col = 'Stance', hue = 'Party', data = df, kind = 'bar', palette = 'Set1', ci = None)"
   ]
  },
  {
   "cell_type": "markdown",
   "metadata": {},
   "source": [
    "Alternatively, we could divide the charts into Senate and House of Representatives, with the Congressman's stance on firearm control/rights identified by color."
   ]
  },
  {
   "cell_type": "code",
   "execution_count": 81,
   "metadata": {},
   "outputs": [
    {
     "data": {
      "text/plain": [
       "<seaborn.axisgrid.FacetGrid at 0x1340b7eaef0>"
      ]
     },
     "execution_count": 81,
     "metadata": {},
     "output_type": "execute_result"
    },
    {
     "data": {
      "image/png": "[encoded data removed]",
      "text/plain": [
       "<Figure size 809.5x360 with 2 Axes>"
      ]
     },
     "metadata": {
      "needs_background": "light"
     },
     "output_type": "display_data"
    }
   ],
   "source": [
    "X = 'Party'\n",
    "y = 'Total Funding'\n",
    "\n",
    "sns.catplot(X, y, col = 'Office', hue = 'Stance', data = df, kind = 'bar', palette = 'Set1', ci = None)"
   ]
  },
  {
   "cell_type": "markdown",
   "metadata": {},
   "source": [
    "### Interesting findings"
   ]
  },
  {
   "cell_type": "markdown",
   "metadata": {},
   "source": [
    "* Republican senators are funded way more by firearm rights lobbyists than those in the House of Representatives. Since the Senate has less people, it's surprising that there is a __higher funding per congressman__ rate for Senators than for Reps. This is probably due to the fact that Senators can overturn a legislation passed by the House (they have more legislative power).\n",
    "\n",
    "* Some Democrat Senators and Reps are being funded by firearm rights lobbyists! This could mean that the issue with gun control is not necessarily a bilateral issue, but could be a __more deeply rooted issue in American society__.\n",
    "\n",
    "* Independents are joining in on the conversation. Yay!\n",
    "\n",
    "* Funding plays a key role in civilian firearm ownership rates"
   ]
  },
  {
   "cell_type": "markdown",
   "metadata": {},
   "source": [
    "### Future improvements "
   ]
  },
  {
   "cell_type": "markdown",
   "metadata": {},
   "source": [
    "1. Add chart title\n",
    "2. Remove Independents entirely from visualization\n",
    "3. Refine meaning of 'Undecided' category (i.e. what if they're funded `$`6500 from Rights and `$`5900 from Control?)\n",
    "4. Use full labels for categories (e.g. Republicans instead of 'R', Senate instead of 'S')\n",
    "5. Instead of 'Office = S' labels, use 'Senate'. Similar for House of Reps."
   ]
  },
  {
   "cell_type": "code",
   "execution_count": null,
   "metadata": {},
   "outputs": [],
   "source": []
  }
 ],
 "metadata": {
  "kernelspec": {
   "display_name": "Python 3",
   "language": "python",
   "name": "python3"
  },
  "language_info": {
   "codemirror_mode": {
    "name": "ipython",
    "version": 3
   },
   "file_extension": ".py",
   "mimetype": "text/x-python",
   "name": "python",
   "nbconvert_exporter": "python",
   "pygments_lexer": "ipython3",
   "version": "3.7.3"
  }
 },
 "nbformat": 4,
 "nbformat_minor": 2
}
